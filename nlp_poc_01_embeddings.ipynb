{
  "nbformat": 4,
  "nbformat_minor": 0,
  "metadata": {
    "colab": {
      "provenance": [],
      "authorship_tag": "ABX9TyMD+w0EVv+CnjSbI6bz58AY",
      "include_colab_link": true
    },
    "kernelspec": {
      "name": "python3",
      "display_name": "Python 3"
    },
    "language_info": {
      "name": "python"
    }
  },
  "cells": [
    {
      "cell_type": "markdown",
      "metadata": {
        "id": "view-in-github",
        "colab_type": "text"
      },
      "source": [
        "<a href=\"https://colab.research.google.com/github/sergiomar73/nlp-google-colab/blob/main/nlp_poc_01_embeddings.ipynb\" target=\"_parent\"><img src=\"https://colab.research.google.com/assets/colab-badge.svg\" alt=\"Open In Colab\"/></a>"
      ]
    },
    {
      "cell_type": "markdown",
      "source": [
        "# OpenAI GPT-3 Text Embeddings - Really a new state-of-the-art in dense text embeddings?\n",
        "\n",
        "https://medium.com/@nils_reimers/openai-gpt-3-text-embeddings-really-a-new-state-of-the-art-in-dense-text-embeddings-6571fe3ec9d9"
      ],
      "metadata": {
        "id": "-POmh9Vcou7B"
      }
    },
    {
      "cell_type": "code",
      "source": [
        "!pip install openai\n",
        "\n",
        "import os\n",
        "import openai\n",
        "\n",
        "openai.organization = \"org-XXXXXXXXXXXXXXXXXX\"\n",
        "openai.api_key = \"sk-XXXXXXXXXXXXXXXXXXXXXXXXXXXXXXXXXXXXXXX\""
      ],
      "metadata": {
        "colab": {
          "base_uri": "https://localhost:8080/",
          "height": 641
        },
        "id": "yCg0drmgrT0K",
        "outputId": "c9b49641-12d1-4037-c9f9-763e0a115016"
      },
      "execution_count": 3,
      "outputs": [
        {
          "output_type": "stream",
          "name": "stdout",
          "text": [
            "Looking in indexes: https://pypi.org/simple, https://us-python.pkg.dev/colab-wheels/public/simple/\n",
            "Collecting openai\n",
            "  Downloading openai-0.23.0.tar.gz (43 kB)\n",
            "\u001b[K     |████████████████████████████████| 43 kB 1.1 MB/s \n",
            "\u001b[?25h  Installing build dependencies ... \u001b[?25l\u001b[?25hdone\n",
            "  Getting requirements to build wheel ... \u001b[?25l\u001b[?25hdone\n",
            "    Preparing wheel metadata ... \u001b[?25l\u001b[?25hdone\n",
            "Requirement already satisfied: numpy in /usr/local/lib/python3.7/dist-packages (from openai) (1.21.6)\n",
            "Requirement already satisfied: requests>=2.20 in /usr/local/lib/python3.7/dist-packages (from openai) (2.23.0)\n",
            "Requirement already satisfied: openpyxl>=3.0.7 in /usr/local/lib/python3.7/dist-packages (from openai) (3.0.10)\n",
            "Requirement already satisfied: pandas>=1.2.3 in /usr/local/lib/python3.7/dist-packages (from openai) (1.3.5)\n",
            "Collecting pandas-stubs>=1.1.0.11\n",
            "  Downloading pandas_stubs-1.2.0.62-py3-none-any.whl (163 kB)\n",
            "\u001b[K     |████████████████████████████████| 163 kB 3.6 MB/s \n",
            "\u001b[?25hRequirement already satisfied: typing-extensions in /usr/local/lib/python3.7/dist-packages (from openai) (4.1.1)\n",
            "Requirement already satisfied: tqdm in /usr/local/lib/python3.7/dist-packages (from openai) (4.64.1)\n",
            "Requirement already satisfied: et-xmlfile in /usr/local/lib/python3.7/dist-packages (from openpyxl>=3.0.7->openai) (1.1.0)\n",
            "Requirement already satisfied: pytz>=2017.3 in /usr/local/lib/python3.7/dist-packages (from pandas>=1.2.3->openai) (2022.2.1)\n",
            "Requirement already satisfied: python-dateutil>=2.7.3 in /usr/local/lib/python3.7/dist-packages (from pandas>=1.2.3->openai) (2.8.2)\n",
            "Requirement already satisfied: six>=1.5 in /usr/local/lib/python3.7/dist-packages (from python-dateutil>=2.7.3->pandas>=1.2.3->openai) (1.15.0)\n",
            "Requirement already satisfied: idna<3,>=2.5 in /usr/local/lib/python3.7/dist-packages (from requests>=2.20->openai) (2.10)\n",
            "Requirement already satisfied: chardet<4,>=3.0.2 in /usr/local/lib/python3.7/dist-packages (from requests>=2.20->openai) (3.0.4)\n",
            "Requirement already satisfied: certifi>=2017.4.17 in /usr/local/lib/python3.7/dist-packages (from requests>=2.20->openai) (2022.6.15)\n",
            "Requirement already satisfied: urllib3!=1.25.0,!=1.25.1,<1.26,>=1.21.1 in /usr/local/lib/python3.7/dist-packages (from requests>=2.20->openai) (1.24.3)\n",
            "Building wheels for collected packages: openai\n",
            "  Building wheel for openai (PEP 517) ... \u001b[?25l\u001b[?25hdone\n",
            "  Created wheel for openai: filename=openai-0.23.0-py3-none-any.whl size=54478 sha256=88c44ee98f47c64a7a6cca614ff6df0e090eb5499f9970066963b464c0f3cd34\n",
            "  Stored in directory: /root/.cache/pip/wheels/70/d5/31/f9f67660319d89e4f54501d27b1e90f88a3309c42ea4fd734c\n",
            "Successfully built openai\n",
            "Installing collected packages: pandas-stubs, openai\n",
            "Successfully installed openai-0.23.0 pandas-stubs-1.2.0.62\n"
          ]
        },
        {
          "output_type": "display_data",
          "data": {
            "application/vnd.colab-display-data+json": {
              "pip_warning": {
                "packages": [
                  "pandas"
                ]
              }
            }
          },
          "metadata": {}
        }
      ]
    },
    {
      "cell_type": "code",
      "source": [
        "openai.Engine.list()['data']"
      ],
      "metadata": {
        "id": "E1QvYs1jrSYZ"
      },
      "execution_count": null,
      "outputs": []
    },
    {
      "cell_type": "code",
      "source": [
        "response = openai.Embedding.create(\n",
        "    input=\"This is an example\",\n",
        "    engine=\"text-similarity-davinci-001\")\n",
        "# response"
      ],
      "metadata": {
        "id": "a4o5wKl9rYuo"
      },
      "execution_count": null,
      "outputs": []
    },
    {
      "cell_type": "code",
      "source": [
        "!pip install sentence_transformers"
      ],
      "metadata": {
        "id": "PJpn6ZpZrvWj"
      },
      "execution_count": null,
      "outputs": []
    },
    {
      "cell_type": "code",
      "source": [
        "from sentence_transformers import SentenceTransformer\n",
        "model = SentenceTransformer('all-MiniLM-L6-v2')"
      ],
      "metadata": {
        "id": "rTfwpyPxr5P-"
      },
      "execution_count": null,
      "outputs": []
    },
    {
      "cell_type": "code",
      "source": [
        "sentence_embeddings = model.encode('This is an example')\n",
        "sentence_embeddings"
      ],
      "metadata": {
        "id": "yIOk4dJDsEvy"
      },
      "execution_count": null,
      "outputs": []
    },
    {
      "cell_type": "code",
      "source": [
        "import pandas as pd\n",
        "\n",
        "url_phrases = 'https://raw.githubusercontent.com/sergiomar73/nlp-google-colab/main/quantified-certification-phrases.csv'\n",
        "df_phrases = pd.read_csv(url_phrases)\n",
        "df_phrases.head()"
      ],
      "metadata": {
        "colab": {
          "base_uri": "https://localhost:8080/",
          "height": 206
        },
        "id": "BwyW2yIqxopH",
        "outputId": "39ec632f-90e1-41bf-fa85-a29c2717a036"
      },
      "execution_count": 10,
      "outputs": [
        {
          "output_type": "execute_result",
          "data": {
            "text/plain": [
              "             category label                                            example\n",
              "0  What is Quantified  What  most advanced conversation intelligence and AI...\n",
              "1  What is Quantified  What  a software platform that helps people reach th...\n",
              "2  What is Quantified  What                   for communicating and connecting\n",
              "3  What is Quantified  What                    empowered by behavioral science\n",
              "4  What is Quantified  What                       uses artificial intelligence"
            ],
            "text/html": [
              "\n",
              "  <div id=\"df-2a78d843-ff4d-4219-a773-c3f01c688dd9\">\n",
              "    <div class=\"colab-df-container\">\n",
              "      <div>\n",
              "<style scoped>\n",
              "    .dataframe tbody tr th:only-of-type {\n",
              "        vertical-align: middle;\n",
              "    }\n",
              "\n",
              "    .dataframe tbody tr th {\n",
              "        vertical-align: top;\n",
              "    }\n",
              "\n",
              "    .dataframe thead th {\n",
              "        text-align: right;\n",
              "    }\n",
              "</style>\n",
              "<table border=\"1\" class=\"dataframe\">\n",
              "  <thead>\n",
              "    <tr style=\"text-align: right;\">\n",
              "      <th></th>\n",
              "      <th>category</th>\n",
              "      <th>label</th>\n",
              "      <th>example</th>\n",
              "    </tr>\n",
              "  </thead>\n",
              "  <tbody>\n",
              "    <tr>\n",
              "      <th>0</th>\n",
              "      <td>What is Quantified</td>\n",
              "      <td>What</td>\n",
              "      <td>most advanced conversation intelligence and AI...</td>\n",
              "    </tr>\n",
              "    <tr>\n",
              "      <th>1</th>\n",
              "      <td>What is Quantified</td>\n",
              "      <td>What</td>\n",
              "      <td>a software platform that helps people reach th...</td>\n",
              "    </tr>\n",
              "    <tr>\n",
              "      <th>2</th>\n",
              "      <td>What is Quantified</td>\n",
              "      <td>What</td>\n",
              "      <td>for communicating and connecting</td>\n",
              "    </tr>\n",
              "    <tr>\n",
              "      <th>3</th>\n",
              "      <td>What is Quantified</td>\n",
              "      <td>What</td>\n",
              "      <td>empowered by behavioral science</td>\n",
              "    </tr>\n",
              "    <tr>\n",
              "      <th>4</th>\n",
              "      <td>What is Quantified</td>\n",
              "      <td>What</td>\n",
              "      <td>uses artificial intelligence</td>\n",
              "    </tr>\n",
              "  </tbody>\n",
              "</table>\n",
              "</div>\n",
              "      <button class=\"colab-df-convert\" onclick=\"convertToInteractive('df-2a78d843-ff4d-4219-a773-c3f01c688dd9')\"\n",
              "              title=\"Convert this dataframe to an interactive table.\"\n",
              "              style=\"display:none;\">\n",
              "        \n",
              "  <svg xmlns=\"http://www.w3.org/2000/svg\" height=\"24px\"viewBox=\"0 0 24 24\"\n",
              "       width=\"24px\">\n",
              "    <path d=\"M0 0h24v24H0V0z\" fill=\"none\"/>\n",
              "    <path d=\"M18.56 5.44l.94 2.06.94-2.06 2.06-.94-2.06-.94-.94-2.06-.94 2.06-2.06.94zm-11 1L8.5 8.5l.94-2.06 2.06-.94-2.06-.94L8.5 2.5l-.94 2.06-2.06.94zm10 10l.94 2.06.94-2.06 2.06-.94-2.06-.94-.94-2.06-.94 2.06-2.06.94z\"/><path d=\"M17.41 7.96l-1.37-1.37c-.4-.4-.92-.59-1.43-.59-.52 0-1.04.2-1.43.59L10.3 9.45l-7.72 7.72c-.78.78-.78 2.05 0 2.83L4 21.41c.39.39.9.59 1.41.59.51 0 1.02-.2 1.41-.59l7.78-7.78 2.81-2.81c.8-.78.8-2.07 0-2.86zM5.41 20L4 18.59l7.72-7.72 1.47 1.35L5.41 20z\"/>\n",
              "  </svg>\n",
              "      </button>\n",
              "      \n",
              "  <style>\n",
              "    .colab-df-container {\n",
              "      display:flex;\n",
              "      flex-wrap:wrap;\n",
              "      gap: 12px;\n",
              "    }\n",
              "\n",
              "    .colab-df-convert {\n",
              "      background-color: #E8F0FE;\n",
              "      border: none;\n",
              "      border-radius: 50%;\n",
              "      cursor: pointer;\n",
              "      display: none;\n",
              "      fill: #1967D2;\n",
              "      height: 32px;\n",
              "      padding: 0 0 0 0;\n",
              "      width: 32px;\n",
              "    }\n",
              "\n",
              "    .colab-df-convert:hover {\n",
              "      background-color: #E2EBFA;\n",
              "      box-shadow: 0px 1px 2px rgba(60, 64, 67, 0.3), 0px 1px 3px 1px rgba(60, 64, 67, 0.15);\n",
              "      fill: #174EA6;\n",
              "    }\n",
              "\n",
              "    [theme=dark] .colab-df-convert {\n",
              "      background-color: #3B4455;\n",
              "      fill: #D2E3FC;\n",
              "    }\n",
              "\n",
              "    [theme=dark] .colab-df-convert:hover {\n",
              "      background-color: #434B5C;\n",
              "      box-shadow: 0px 1px 3px 1px rgba(0, 0, 0, 0.15);\n",
              "      filter: drop-shadow(0px 1px 2px rgba(0, 0, 0, 0.3));\n",
              "      fill: #FFFFFF;\n",
              "    }\n",
              "  </style>\n",
              "\n",
              "      <script>\n",
              "        const buttonEl =\n",
              "          document.querySelector('#df-2a78d843-ff4d-4219-a773-c3f01c688dd9 button.colab-df-convert');\n",
              "        buttonEl.style.display =\n",
              "          google.colab.kernel.accessAllowed ? 'block' : 'none';\n",
              "\n",
              "        async function convertToInteractive(key) {\n",
              "          const element = document.querySelector('#df-2a78d843-ff4d-4219-a773-c3f01c688dd9');\n",
              "          const dataTable =\n",
              "            await google.colab.kernel.invokeFunction('convertToInteractive',\n",
              "                                                     [key], {});\n",
              "          if (!dataTable) return;\n",
              "\n",
              "          const docLinkHtml = 'Like what you see? Visit the ' +\n",
              "            '<a target=\"_blank\" href=https://colab.research.google.com/notebooks/data_table.ipynb>data table notebook</a>'\n",
              "            + ' to learn more about interactive tables.';\n",
              "          element.innerHTML = '';\n",
              "          dataTable['output_type'] = 'display_data';\n",
              "          await google.colab.output.renderOutput(dataTable, element);\n",
              "          const docLink = document.createElement('div');\n",
              "          docLink.innerHTML = docLinkHtml;\n",
              "          element.appendChild(docLink);\n",
              "        }\n",
              "      </script>\n",
              "    </div>\n",
              "  </div>\n",
              "  "
            ]
          },
          "metadata": {},
          "execution_count": 10
        }
      ]
    },
    {
      "cell_type": "code",
      "source": [
        "url_transcripts = 'https://raw.githubusercontent.com/sergiomar73/nlp-google-colab/main/transcripts.csv'\n",
        "df_transcripts = pd.read_csv(url_transcripts)\n",
        "df_transcripts.head()"
      ],
      "metadata": {
        "colab": {
          "base_uri": "https://localhost:8080/",
          "height": 175
        },
        "id": "tMTEcISnydaJ",
        "outputId": "a9e69db0-5183-4f99-b3b3-b496e1592cde"
      },
      "execution_count": 11,
      "outputs": [
        {
          "output_type": "execute_result",
          "data": {
            "text/plain": [
              "                                     id  \\\n",
              "0  1d43516c-dbbd-4446-bce4-f9b6f7a24c17   \n",
              "1  7044432d-a8c0-4399-bc07-2b6d296e94b4   \n",
              "2  ac3e9fa0-096e-43b0-8adf-d9a3a4ce2a65   \n",
              "3  aea90db1-1d9b-4bc7-9946-88f6417b176b   \n",
              "\n",
              "                                          transcript  \n",
              "0  Hello, how are you doing today? I'm here to te...  \n",
              "1  Hi, everybody. I'm really excited to be first ...  \n",
              "2  Hi, so upfront caveat, this is going to be ter...  \n",
              "3  My name's Johnny, thank you all so much for ta...  "
            ],
            "text/html": [
              "\n",
              "  <div id=\"df-ffde6ac5-75c8-41af-b2b6-7ed98703ce9e\">\n",
              "    <div class=\"colab-df-container\">\n",
              "      <div>\n",
              "<style scoped>\n",
              "    .dataframe tbody tr th:only-of-type {\n",
              "        vertical-align: middle;\n",
              "    }\n",
              "\n",
              "    .dataframe tbody tr th {\n",
              "        vertical-align: top;\n",
              "    }\n",
              "\n",
              "    .dataframe thead th {\n",
              "        text-align: right;\n",
              "    }\n",
              "</style>\n",
              "<table border=\"1\" class=\"dataframe\">\n",
              "  <thead>\n",
              "    <tr style=\"text-align: right;\">\n",
              "      <th></th>\n",
              "      <th>id</th>\n",
              "      <th>transcript</th>\n",
              "    </tr>\n",
              "  </thead>\n",
              "  <tbody>\n",
              "    <tr>\n",
              "      <th>0</th>\n",
              "      <td>1d43516c-dbbd-4446-bce4-f9b6f7a24c17</td>\n",
              "      <td>Hello, how are you doing today? I'm here to te...</td>\n",
              "    </tr>\n",
              "    <tr>\n",
              "      <th>1</th>\n",
              "      <td>7044432d-a8c0-4399-bc07-2b6d296e94b4</td>\n",
              "      <td>Hi, everybody. I'm really excited to be first ...</td>\n",
              "    </tr>\n",
              "    <tr>\n",
              "      <th>2</th>\n",
              "      <td>ac3e9fa0-096e-43b0-8adf-d9a3a4ce2a65</td>\n",
              "      <td>Hi, so upfront caveat, this is going to be ter...</td>\n",
              "    </tr>\n",
              "    <tr>\n",
              "      <th>3</th>\n",
              "      <td>aea90db1-1d9b-4bc7-9946-88f6417b176b</td>\n",
              "      <td>My name's Johnny, thank you all so much for ta...</td>\n",
              "    </tr>\n",
              "  </tbody>\n",
              "</table>\n",
              "</div>\n",
              "      <button class=\"colab-df-convert\" onclick=\"convertToInteractive('df-ffde6ac5-75c8-41af-b2b6-7ed98703ce9e')\"\n",
              "              title=\"Convert this dataframe to an interactive table.\"\n",
              "              style=\"display:none;\">\n",
              "        \n",
              "  <svg xmlns=\"http://www.w3.org/2000/svg\" height=\"24px\"viewBox=\"0 0 24 24\"\n",
              "       width=\"24px\">\n",
              "    <path d=\"M0 0h24v24H0V0z\" fill=\"none\"/>\n",
              "    <path d=\"M18.56 5.44l.94 2.06.94-2.06 2.06-.94-2.06-.94-.94-2.06-.94 2.06-2.06.94zm-11 1L8.5 8.5l.94-2.06 2.06-.94-2.06-.94L8.5 2.5l-.94 2.06-2.06.94zm10 10l.94 2.06.94-2.06 2.06-.94-2.06-.94-.94-2.06-.94 2.06-2.06.94z\"/><path d=\"M17.41 7.96l-1.37-1.37c-.4-.4-.92-.59-1.43-.59-.52 0-1.04.2-1.43.59L10.3 9.45l-7.72 7.72c-.78.78-.78 2.05 0 2.83L4 21.41c.39.39.9.59 1.41.59.51 0 1.02-.2 1.41-.59l7.78-7.78 2.81-2.81c.8-.78.8-2.07 0-2.86zM5.41 20L4 18.59l7.72-7.72 1.47 1.35L5.41 20z\"/>\n",
              "  </svg>\n",
              "      </button>\n",
              "      \n",
              "  <style>\n",
              "    .colab-df-container {\n",
              "      display:flex;\n",
              "      flex-wrap:wrap;\n",
              "      gap: 12px;\n",
              "    }\n",
              "\n",
              "    .colab-df-convert {\n",
              "      background-color: #E8F0FE;\n",
              "      border: none;\n",
              "      border-radius: 50%;\n",
              "      cursor: pointer;\n",
              "      display: none;\n",
              "      fill: #1967D2;\n",
              "      height: 32px;\n",
              "      padding: 0 0 0 0;\n",
              "      width: 32px;\n",
              "    }\n",
              "\n",
              "    .colab-df-convert:hover {\n",
              "      background-color: #E2EBFA;\n",
              "      box-shadow: 0px 1px 2px rgba(60, 64, 67, 0.3), 0px 1px 3px 1px rgba(60, 64, 67, 0.15);\n",
              "      fill: #174EA6;\n",
              "    }\n",
              "\n",
              "    [theme=dark] .colab-df-convert {\n",
              "      background-color: #3B4455;\n",
              "      fill: #D2E3FC;\n",
              "    }\n",
              "\n",
              "    [theme=dark] .colab-df-convert:hover {\n",
              "      background-color: #434B5C;\n",
              "      box-shadow: 0px 1px 3px 1px rgba(0, 0, 0, 0.15);\n",
              "      filter: drop-shadow(0px 1px 2px rgba(0, 0, 0, 0.3));\n",
              "      fill: #FFFFFF;\n",
              "    }\n",
              "  </style>\n",
              "\n",
              "      <script>\n",
              "        const buttonEl =\n",
              "          document.querySelector('#df-ffde6ac5-75c8-41af-b2b6-7ed98703ce9e button.colab-df-convert');\n",
              "        buttonEl.style.display =\n",
              "          google.colab.kernel.accessAllowed ? 'block' : 'none';\n",
              "\n",
              "        async function convertToInteractive(key) {\n",
              "          const element = document.querySelector('#df-ffde6ac5-75c8-41af-b2b6-7ed98703ce9e');\n",
              "          const dataTable =\n",
              "            await google.colab.kernel.invokeFunction('convertToInteractive',\n",
              "                                                     [key], {});\n",
              "          if (!dataTable) return;\n",
              "\n",
              "          const docLinkHtml = 'Like what you see? Visit the ' +\n",
              "            '<a target=\"_blank\" href=https://colab.research.google.com/notebooks/data_table.ipynb>data table notebook</a>'\n",
              "            + ' to learn more about interactive tables.';\n",
              "          element.innerHTML = '';\n",
              "          dataTable['output_type'] = 'display_data';\n",
              "          await google.colab.output.renderOutput(dataTable, element);\n",
              "          const docLink = document.createElement('div');\n",
              "          docLink.innerHTML = docLinkHtml;\n",
              "          element.appendChild(docLink);\n",
              "        }\n",
              "      </script>\n",
              "    </div>\n",
              "  </div>\n",
              "  "
            ]
          },
          "metadata": {},
          "execution_count": 11
        }
      ]
    },
    {
      "cell_type": "code",
      "source": [
        "print(df_phrases[['label','example']])"
      ],
      "metadata": {
        "colab": {
          "base_uri": "https://localhost:8080/"
        },
        "id": "Qw-ibbEgzswN",
        "outputId": "411c07f0-fb33-4d8e-d2f4-4515f16b3f12"
      },
      "execution_count": 12,
      "outputs": [
        {
          "output_type": "stream",
          "name": "stdout",
          "text": [
            "     label                                            example\n",
            "0     What  most advanced conversation intelligence and AI...\n",
            "1     What  a software platform that helps people reach th...\n",
            "2     What                   for communicating and connecting\n",
            "3     What                    empowered by behavioral science\n",
            "4     What                       uses artificial intelligence\n",
            "..     ...                                                ...\n",
            "59  Impact  the impact that that could have on individual ...\n",
            "60  Impact                 your individual growth as a leader\n",
            "61  Impact  collective performance of the teams in the org...\n",
            "62  Impact  Make you be perceived as trustworthy, authenti...\n",
            "63  Impact                            improve how you connect\n",
            "\n",
            "[64 rows x 2 columns]\n"
          ]
        }
      ]
    },
    {
      "cell_type": "code",
      "source": [
        "for i, row in df_phrases.iterrows():\n",
        "    print(row[\"label\"], row[\"example\"])"
      ],
      "metadata": {
        "colab": {
          "base_uri": "https://localhost:8080/"
        },
        "id": "l_eI84Yo1erw",
        "outputId": "feaada3a-9827-4e74-f612-1a5b640c107a"
      },
      "execution_count": 13,
      "outputs": [
        {
          "output_type": "stream",
          "name": "stdout",
          "text": [
            "What most advanced conversation intelligence and AI powered coaching platform\n",
            "What a software platform that helps people reach their potential\n",
            "What for communicating and connecting\n",
            "What empowered by behavioral science\n",
            "What uses artificial intelligence\n",
            "What drives performance outcomes for customer facing teams\n",
            "What help them sell more\n",
            "What help them deliver better experiences \n",
            "How integrated into video conference platforms\n",
            "How record yourself or \n",
            "How prompts with fun and realistic experiences. \n",
            "How That's all we need you to do\n",
            "How have conversations like the types you have every day \n",
            "How we've built technology that \n",
            "How looks at the words that you say\n",
            "How what you do with your voice, \n",
            "How your face\n",
            "How your gestures\n",
            "How simple input\n",
            "How create benchmarking\n",
            "How scoring feedback\n",
            "How personalized guidance\n",
            "How understand how you come across\n",
            "How relay to you how you're doing\n",
            "How how you can get better\n",
            "How coach you using artificial intelligence\n",
            "How as if the world's best communication coach was sitting there with you in every one of your conversations\n",
            "How telling you how to get better\n",
            "How telling you how to optimize your behavior\n",
            "Who everyone is having conversations\n",
            "Who if you're an entry-level person\n",
            "Who If you’re the most senior executive\n",
            "Who the most powerful group that we can help are customer facing teams\n",
            "Who sales teams, customer service teams, customer support, and customer success teams\n",
            "Who anyone who is talking to the customer as a core part of their day-to-day job\n",
            "Who words that they use, the way that they present themselves, how they come across \n",
            "Who has an impact on the performance outcomes of the organization\n",
            "Who giving coaching to them\n",
            "Who coaching them at scale that is standardized and scientific\n",
            "Who It's hard to find time for the managers to coach\n",
            "Who It's hard for us to give feedback\n",
            "Who It's hard for people to feel empowered, to work on something that is personal and private in a safe space\n",
            "Impact customer experience\n",
            "Impact communicating with the customer\n",
            "Impact spending time\n",
            "Impact spending a lot of time communicating\n",
            "Impact With other members of your team\n",
            "Impact internal communication and external communication\n",
            "Impact we want to make you remarkably better\n",
            "Impact we want to make you extraordinary at that behavior\n",
            "Impact meant to be learned along the way\n",
            "Impact No one at work can stop you for six months, 12 months, 18 months helping you become exceptional\n",
            "Impact your leadership journey\n",
            "Impact this is the most important skill right now for you\n",
            "Impact they don't have the time and they don't know how to do it\n",
            "Impact we can provide intentional guidance\n",
            "Impact deliver that on a personal basis for every single member of your organization that faces the customer\n",
            "Impact 30% better at connecting with other people \n",
            "Impact measured by evidence-based research\n",
            "Impact the impact that that could have on individual performance\n",
            "Impact your individual growth as a leader\n",
            "Impact collective performance of the teams in the organization\n",
            "Impact Make you be perceived as trustworthy, authentic, credible\n",
            "Impact improve how you connect\n"
          ]
        }
      ]
    },
    {
      "cell_type": "code",
      "source": [
        "import time\n",
        "\n",
        "df_phrases[\"embedding\"] = None\n",
        "\n",
        "for i, row in df_phrases.iterrows():\n",
        "  time.sleep(2)\n",
        "  print(f'Calculating embedding for [{ row[\"label\"] }] {row[\"example\"]}...')\n",
        "  response = openai.Embedding.create(\n",
        "    input=row[\"example\"],\n",
        "    engine=\"text-similarity-davinci-001\")\n",
        "  embedding = response['data'][0]['embedding']\n",
        "  df_phrases.at[i, \"embedding\"] = embedding\n",
        "\n",
        "df_phrases.head()"
      ],
      "metadata": {
        "colab": {
          "base_uri": "https://localhost:8080/",
          "height": 1000
        },
        "id": "iY-7imI-zqjV",
        "outputId": "f8ec3542-8d90-454d-9d32-65b5042fc6d2"
      },
      "execution_count": 14,
      "outputs": [
        {
          "output_type": "stream",
          "name": "stdout",
          "text": [
            "Calculating embedding for [What] most advanced conversation intelligence and AI powered coaching platform...\n",
            "Calculating embedding for [What] a software platform that helps people reach their potential...\n",
            "Calculating embedding for [What] for communicating and connecting...\n",
            "Calculating embedding for [What] empowered by behavioral science...\n",
            "Calculating embedding for [What] uses artificial intelligence...\n",
            "Calculating embedding for [What] drives performance outcomes for customer facing teams...\n",
            "Calculating embedding for [What] help them sell more...\n",
            "Calculating embedding for [What] help them deliver better experiences ...\n",
            "Calculating embedding for [How] integrated into video conference platforms...\n",
            "Calculating embedding for [How] record yourself or ...\n",
            "Calculating embedding for [How] prompts with fun and realistic experiences. ...\n",
            "Calculating embedding for [How] That's all we need you to do...\n",
            "Calculating embedding for [How] have conversations like the types you have every day ...\n",
            "Calculating embedding for [How] we've built technology that ...\n",
            "Calculating embedding for [How] looks at the words that you say...\n",
            "Calculating embedding for [How] what you do with your voice, ...\n",
            "Calculating embedding for [How] your face...\n",
            "Calculating embedding for [How] your gestures...\n",
            "Calculating embedding for [How] simple input...\n",
            "Calculating embedding for [How] create benchmarking...\n",
            "Calculating embedding for [How] scoring feedback...\n",
            "Calculating embedding for [How] personalized guidance...\n",
            "Calculating embedding for [How] understand how you come across...\n",
            "Calculating embedding for [How] relay to you how you're doing...\n",
            "Calculating embedding for [How] how you can get better...\n",
            "Calculating embedding for [How] coach you using artificial intelligence...\n",
            "Calculating embedding for [How] as if the world's best communication coach was sitting there with you in every one of your conversations...\n",
            "Calculating embedding for [How] telling you how to get better...\n",
            "Calculating embedding for [How] telling you how to optimize your behavior...\n",
            "Calculating embedding for [Who] everyone is having conversations...\n",
            "Calculating embedding for [Who] if you're an entry-level person...\n",
            "Calculating embedding for [Who] If you’re the most senior executive...\n",
            "Calculating embedding for [Who] the most powerful group that we can help are customer facing teams...\n",
            "Calculating embedding for [Who] sales teams, customer service teams, customer support, and customer success teams...\n",
            "Calculating embedding for [Who] anyone who is talking to the customer as a core part of their day-to-day job...\n",
            "Calculating embedding for [Who] words that they use, the way that they present themselves, how they come across ...\n",
            "Calculating embedding for [Who] has an impact on the performance outcomes of the organization...\n",
            "Calculating embedding for [Who] giving coaching to them...\n",
            "Calculating embedding for [Who] coaching them at scale that is standardized and scientific...\n",
            "Calculating embedding for [Who] It's hard to find time for the managers to coach...\n",
            "Calculating embedding for [Who] It's hard for us to give feedback...\n",
            "Calculating embedding for [Who] It's hard for people to feel empowered, to work on something that is personal and private in a safe space...\n",
            "Calculating embedding for [Impact] customer experience...\n",
            "Calculating embedding for [Impact] communicating with the customer...\n",
            "Calculating embedding for [Impact] spending time...\n",
            "Calculating embedding for [Impact] spending a lot of time communicating...\n",
            "Calculating embedding for [Impact] With other members of your team...\n",
            "Calculating embedding for [Impact] internal communication and external communication...\n",
            "Calculating embedding for [Impact] we want to make you remarkably better...\n",
            "Calculating embedding for [Impact] we want to make you extraordinary at that behavior...\n",
            "Calculating embedding for [Impact] meant to be learned along the way...\n",
            "Calculating embedding for [Impact] No one at work can stop you for six months, 12 months, 18 months helping you become exceptional...\n",
            "Calculating embedding for [Impact] your leadership journey...\n",
            "Calculating embedding for [Impact] this is the most important skill right now for you...\n",
            "Calculating embedding for [Impact] they don't have the time and they don't know how to do it...\n",
            "Calculating embedding for [Impact] we can provide intentional guidance...\n",
            "Calculating embedding for [Impact] deliver that on a personal basis for every single member of your organization that faces the customer...\n",
            "Calculating embedding for [Impact] 30% better at connecting with other people ...\n",
            "Calculating embedding for [Impact] measured by evidence-based research...\n",
            "Calculating embedding for [Impact] the impact that that could have on individual performance...\n",
            "Calculating embedding for [Impact] your individual growth as a leader...\n",
            "Calculating embedding for [Impact] collective performance of the teams in the organization...\n",
            "Calculating embedding for [Impact] Make you be perceived as trustworthy, authentic, credible...\n",
            "Calculating embedding for [Impact] improve how you connect...\n"
          ]
        },
        {
          "output_type": "execute_result",
          "data": {
            "text/plain": [
              "             category label  \\\n",
              "0  What is Quantified  What   \n",
              "1  What is Quantified  What   \n",
              "2  What is Quantified  What   \n",
              "3  What is Quantified  What   \n",
              "4  What is Quantified  What   \n",
              "\n",
              "                                             example  \\\n",
              "0  most advanced conversation intelligence and AI...   \n",
              "1  a software platform that helps people reach th...   \n",
              "2                   for communicating and connecting   \n",
              "3                    empowered by behavioral science   \n",
              "4                       uses artificial intelligence   \n",
              "\n",
              "                                           embedding  \n",
              "0  [-0.007960937917232513, 0.0075285546481609344,...  \n",
              "1  [-0.00591889675706625, 2.6476920538698323e-05,...  \n",
              "2  [-0.005206338595598936, 0.0007997832144610584,...  \n",
              "3  [-0.0027610817924141884, 0.009126335382461548,...  \n",
              "4  [0.0007225716253742576, 0.006911278236657381, ...  "
            ],
            "text/html": [
              "\n",
              "  <div id=\"df-223766d0-26fb-44c1-9d21-e0e2f825bbde\">\n",
              "    <div class=\"colab-df-container\">\n",
              "      <div>\n",
              "<style scoped>\n",
              "    .dataframe tbody tr th:only-of-type {\n",
              "        vertical-align: middle;\n",
              "    }\n",
              "\n",
              "    .dataframe tbody tr th {\n",
              "        vertical-align: top;\n",
              "    }\n",
              "\n",
              "    .dataframe thead th {\n",
              "        text-align: right;\n",
              "    }\n",
              "</style>\n",
              "<table border=\"1\" class=\"dataframe\">\n",
              "  <thead>\n",
              "    <tr style=\"text-align: right;\">\n",
              "      <th></th>\n",
              "      <th>category</th>\n",
              "      <th>label</th>\n",
              "      <th>example</th>\n",
              "      <th>embedding</th>\n",
              "    </tr>\n",
              "  </thead>\n",
              "  <tbody>\n",
              "    <tr>\n",
              "      <th>0</th>\n",
              "      <td>What is Quantified</td>\n",
              "      <td>What</td>\n",
              "      <td>most advanced conversation intelligence and AI...</td>\n",
              "      <td>[-0.007960937917232513, 0.0075285546481609344,...</td>\n",
              "    </tr>\n",
              "    <tr>\n",
              "      <th>1</th>\n",
              "      <td>What is Quantified</td>\n",
              "      <td>What</td>\n",
              "      <td>a software platform that helps people reach th...</td>\n",
              "      <td>[-0.00591889675706625, 2.6476920538698323e-05,...</td>\n",
              "    </tr>\n",
              "    <tr>\n",
              "      <th>2</th>\n",
              "      <td>What is Quantified</td>\n",
              "      <td>What</td>\n",
              "      <td>for communicating and connecting</td>\n",
              "      <td>[-0.005206338595598936, 0.0007997832144610584,...</td>\n",
              "    </tr>\n",
              "    <tr>\n",
              "      <th>3</th>\n",
              "      <td>What is Quantified</td>\n",
              "      <td>What</td>\n",
              "      <td>empowered by behavioral science</td>\n",
              "      <td>[-0.0027610817924141884, 0.009126335382461548,...</td>\n",
              "    </tr>\n",
              "    <tr>\n",
              "      <th>4</th>\n",
              "      <td>What is Quantified</td>\n",
              "      <td>What</td>\n",
              "      <td>uses artificial intelligence</td>\n",
              "      <td>[0.0007225716253742576, 0.006911278236657381, ...</td>\n",
              "    </tr>\n",
              "  </tbody>\n",
              "</table>\n",
              "</div>\n",
              "      <button class=\"colab-df-convert\" onclick=\"convertToInteractive('df-223766d0-26fb-44c1-9d21-e0e2f825bbde')\"\n",
              "              title=\"Convert this dataframe to an interactive table.\"\n",
              "              style=\"display:none;\">\n",
              "        \n",
              "  <svg xmlns=\"http://www.w3.org/2000/svg\" height=\"24px\"viewBox=\"0 0 24 24\"\n",
              "       width=\"24px\">\n",
              "    <path d=\"M0 0h24v24H0V0z\" fill=\"none\"/>\n",
              "    <path d=\"M18.56 5.44l.94 2.06.94-2.06 2.06-.94-2.06-.94-.94-2.06-.94 2.06-2.06.94zm-11 1L8.5 8.5l.94-2.06 2.06-.94-2.06-.94L8.5 2.5l-.94 2.06-2.06.94zm10 10l.94 2.06.94-2.06 2.06-.94-2.06-.94-.94-2.06-.94 2.06-2.06.94z\"/><path d=\"M17.41 7.96l-1.37-1.37c-.4-.4-.92-.59-1.43-.59-.52 0-1.04.2-1.43.59L10.3 9.45l-7.72 7.72c-.78.78-.78 2.05 0 2.83L4 21.41c.39.39.9.59 1.41.59.51 0 1.02-.2 1.41-.59l7.78-7.78 2.81-2.81c.8-.78.8-2.07 0-2.86zM5.41 20L4 18.59l7.72-7.72 1.47 1.35L5.41 20z\"/>\n",
              "  </svg>\n",
              "      </button>\n",
              "      \n",
              "  <style>\n",
              "    .colab-df-container {\n",
              "      display:flex;\n",
              "      flex-wrap:wrap;\n",
              "      gap: 12px;\n",
              "    }\n",
              "\n",
              "    .colab-df-convert {\n",
              "      background-color: #E8F0FE;\n",
              "      border: none;\n",
              "      border-radius: 50%;\n",
              "      cursor: pointer;\n",
              "      display: none;\n",
              "      fill: #1967D2;\n",
              "      height: 32px;\n",
              "      padding: 0 0 0 0;\n",
              "      width: 32px;\n",
              "    }\n",
              "\n",
              "    .colab-df-convert:hover {\n",
              "      background-color: #E2EBFA;\n",
              "      box-shadow: 0px 1px 2px rgba(60, 64, 67, 0.3), 0px 1px 3px 1px rgba(60, 64, 67, 0.15);\n",
              "      fill: #174EA6;\n",
              "    }\n",
              "\n",
              "    [theme=dark] .colab-df-convert {\n",
              "      background-color: #3B4455;\n",
              "      fill: #D2E3FC;\n",
              "    }\n",
              "\n",
              "    [theme=dark] .colab-df-convert:hover {\n",
              "      background-color: #434B5C;\n",
              "      box-shadow: 0px 1px 3px 1px rgba(0, 0, 0, 0.15);\n",
              "      filter: drop-shadow(0px 1px 2px rgba(0, 0, 0, 0.3));\n",
              "      fill: #FFFFFF;\n",
              "    }\n",
              "  </style>\n",
              "\n",
              "      <script>\n",
              "        const buttonEl =\n",
              "          document.querySelector('#df-223766d0-26fb-44c1-9d21-e0e2f825bbde button.colab-df-convert');\n",
              "        buttonEl.style.display =\n",
              "          google.colab.kernel.accessAllowed ? 'block' : 'none';\n",
              "\n",
              "        async function convertToInteractive(key) {\n",
              "          const element = document.querySelector('#df-223766d0-26fb-44c1-9d21-e0e2f825bbde');\n",
              "          const dataTable =\n",
              "            await google.colab.kernel.invokeFunction('convertToInteractive',\n",
              "                                                     [key], {});\n",
              "          if (!dataTable) return;\n",
              "\n",
              "          const docLinkHtml = 'Like what you see? Visit the ' +\n",
              "            '<a target=\"_blank\" href=https://colab.research.google.com/notebooks/data_table.ipynb>data table notebook</a>'\n",
              "            + ' to learn more about interactive tables.';\n",
              "          element.innerHTML = '';\n",
              "          dataTable['output_type'] = 'display_data';\n",
              "          await google.colab.output.renderOutput(dataTable, element);\n",
              "          const docLink = document.createElement('div');\n",
              "          docLink.innerHTML = docLinkHtml;\n",
              "          element.appendChild(docLink);\n",
              "        }\n",
              "      </script>\n",
              "    </div>\n",
              "  </div>\n",
              "  "
            ]
          },
          "metadata": {},
          "execution_count": 14
        }
      ]
    },
    {
      "cell_type": "code",
      "source": [
        "import numpy as np"
      ],
      "metadata": {
        "id": "-aiA6INxPLij"
      },
      "execution_count": 15,
      "outputs": []
    },
    {
      "cell_type": "code",
      "source": [
        "from sklearn.manifold import TSNE"
      ],
      "metadata": {
        "id": "Oap0U0BYQ8Ni"
      },
      "execution_count": 16,
      "outputs": []
    },
    {
      "cell_type": "code",
      "source": [
        "col_embedding_list = df_phrases[\"embedding\"].tolist() # (64, 12288)"
      ],
      "metadata": {
        "id": "i_CfO0rDQ_F0"
      },
      "execution_count": 17,
      "outputs": []
    },
    {
      "cell_type": "code",
      "source": [
        "X = col_embedding_list\n",
        "\n",
        "X_embedded = TSNE(n_components=2).fit_transform(X)"
      ],
      "metadata": {
        "colab": {
          "base_uri": "https://localhost:8080/"
        },
        "id": "t89GqzS7Se2Q",
        "outputId": "83697238-0d17-4583-d505-be9d79419752"
      },
      "execution_count": 18,
      "outputs": [
        {
          "output_type": "stream",
          "name": "stderr",
          "text": [
            "/usr/local/lib/python3.7/dist-packages/sklearn/manifold/_t_sne.py:783: FutureWarning: The default initialization in TSNE will change from 'random' to 'pca' in 1.2.\n",
            "  FutureWarning,\n",
            "/usr/local/lib/python3.7/dist-packages/sklearn/manifold/_t_sne.py:793: FutureWarning: The default learning rate in TSNE will change from 200.0 to 'auto' in 1.2.\n",
            "  FutureWarning,\n"
          ]
        }
      ]
    },
    {
      "cell_type": "code",
      "source": [
        "X_embedded.shape # (64, 2)"
      ],
      "metadata": {
        "colab": {
          "base_uri": "https://localhost:8080/"
        },
        "id": "PdA3lfDQSnsy",
        "outputId": "4cd60e72-88ed-4793-d0b6-ceb9b300a92c"
      },
      "execution_count": 19,
      "outputs": [
        {
          "output_type": "execute_result",
          "data": {
            "text/plain": [
              "(64, 2)"
            ]
          },
          "metadata": {},
          "execution_count": 19
        }
      ]
    },
    {
      "cell_type": "code",
      "source": [
        "df_embeddings = pd.DataFrame(X_embedded)\n",
        "df_embeddings = df_embeddings.rename(columns={0:'x',1:'y'})\n",
        "df_embeddings = df_embeddings.assign(label=df_phrases.label.values)\n",
        "df_embeddings.head()"
      ],
      "metadata": {
        "colab": {
          "base_uri": "https://localhost:8080/",
          "height": 206
        },
        "id": "OLF6Ax7ETAiu",
        "outputId": "ac0ea2cf-9dbe-4a60-e5e8-cfa99afa4f14"
      },
      "execution_count": 20,
      "outputs": [
        {
          "output_type": "execute_result",
          "data": {
            "text/plain": [
              "           x          y label\n",
              "0 -38.926762   8.819809  What\n",
              "1 -32.438534  -0.504975  What\n",
              "2   9.644590  13.041139  What\n",
              "3  -9.638767 -35.210564  What\n",
              "4  35.449680   5.578318  What"
            ],
            "text/html": [
              "\n",
              "  <div id=\"df-a8b7cf80-4011-4f73-9256-1c3531501a33\">\n",
              "    <div class=\"colab-df-container\">\n",
              "      <div>\n",
              "<style scoped>\n",
              "    .dataframe tbody tr th:only-of-type {\n",
              "        vertical-align: middle;\n",
              "    }\n",
              "\n",
              "    .dataframe tbody tr th {\n",
              "        vertical-align: top;\n",
              "    }\n",
              "\n",
              "    .dataframe thead th {\n",
              "        text-align: right;\n",
              "    }\n",
              "</style>\n",
              "<table border=\"1\" class=\"dataframe\">\n",
              "  <thead>\n",
              "    <tr style=\"text-align: right;\">\n",
              "      <th></th>\n",
              "      <th>x</th>\n",
              "      <th>y</th>\n",
              "      <th>label</th>\n",
              "    </tr>\n",
              "  </thead>\n",
              "  <tbody>\n",
              "    <tr>\n",
              "      <th>0</th>\n",
              "      <td>-38.926762</td>\n",
              "      <td>8.819809</td>\n",
              "      <td>What</td>\n",
              "    </tr>\n",
              "    <tr>\n",
              "      <th>1</th>\n",
              "      <td>-32.438534</td>\n",
              "      <td>-0.504975</td>\n",
              "      <td>What</td>\n",
              "    </tr>\n",
              "    <tr>\n",
              "      <th>2</th>\n",
              "      <td>9.644590</td>\n",
              "      <td>13.041139</td>\n",
              "      <td>What</td>\n",
              "    </tr>\n",
              "    <tr>\n",
              "      <th>3</th>\n",
              "      <td>-9.638767</td>\n",
              "      <td>-35.210564</td>\n",
              "      <td>What</td>\n",
              "    </tr>\n",
              "    <tr>\n",
              "      <th>4</th>\n",
              "      <td>35.449680</td>\n",
              "      <td>5.578318</td>\n",
              "      <td>What</td>\n",
              "    </tr>\n",
              "  </tbody>\n",
              "</table>\n",
              "</div>\n",
              "      <button class=\"colab-df-convert\" onclick=\"convertToInteractive('df-a8b7cf80-4011-4f73-9256-1c3531501a33')\"\n",
              "              title=\"Convert this dataframe to an interactive table.\"\n",
              "              style=\"display:none;\">\n",
              "        \n",
              "  <svg xmlns=\"http://www.w3.org/2000/svg\" height=\"24px\"viewBox=\"0 0 24 24\"\n",
              "       width=\"24px\">\n",
              "    <path d=\"M0 0h24v24H0V0z\" fill=\"none\"/>\n",
              "    <path d=\"M18.56 5.44l.94 2.06.94-2.06 2.06-.94-2.06-.94-.94-2.06-.94 2.06-2.06.94zm-11 1L8.5 8.5l.94-2.06 2.06-.94-2.06-.94L8.5 2.5l-.94 2.06-2.06.94zm10 10l.94 2.06.94-2.06 2.06-.94-2.06-.94-.94-2.06-.94 2.06-2.06.94z\"/><path d=\"M17.41 7.96l-1.37-1.37c-.4-.4-.92-.59-1.43-.59-.52 0-1.04.2-1.43.59L10.3 9.45l-7.72 7.72c-.78.78-.78 2.05 0 2.83L4 21.41c.39.39.9.59 1.41.59.51 0 1.02-.2 1.41-.59l7.78-7.78 2.81-2.81c.8-.78.8-2.07 0-2.86zM5.41 20L4 18.59l7.72-7.72 1.47 1.35L5.41 20z\"/>\n",
              "  </svg>\n",
              "      </button>\n",
              "      \n",
              "  <style>\n",
              "    .colab-df-container {\n",
              "      display:flex;\n",
              "      flex-wrap:wrap;\n",
              "      gap: 12px;\n",
              "    }\n",
              "\n",
              "    .colab-df-convert {\n",
              "      background-color: #E8F0FE;\n",
              "      border: none;\n",
              "      border-radius: 50%;\n",
              "      cursor: pointer;\n",
              "      display: none;\n",
              "      fill: #1967D2;\n",
              "      height: 32px;\n",
              "      padding: 0 0 0 0;\n",
              "      width: 32px;\n",
              "    }\n",
              "\n",
              "    .colab-df-convert:hover {\n",
              "      background-color: #E2EBFA;\n",
              "      box-shadow: 0px 1px 2px rgba(60, 64, 67, 0.3), 0px 1px 3px 1px rgba(60, 64, 67, 0.15);\n",
              "      fill: #174EA6;\n",
              "    }\n",
              "\n",
              "    [theme=dark] .colab-df-convert {\n",
              "      background-color: #3B4455;\n",
              "      fill: #D2E3FC;\n",
              "    }\n",
              "\n",
              "    [theme=dark] .colab-df-convert:hover {\n",
              "      background-color: #434B5C;\n",
              "      box-shadow: 0px 1px 3px 1px rgba(0, 0, 0, 0.15);\n",
              "      filter: drop-shadow(0px 1px 2px rgba(0, 0, 0, 0.3));\n",
              "      fill: #FFFFFF;\n",
              "    }\n",
              "  </style>\n",
              "\n",
              "      <script>\n",
              "        const buttonEl =\n",
              "          document.querySelector('#df-a8b7cf80-4011-4f73-9256-1c3531501a33 button.colab-df-convert');\n",
              "        buttonEl.style.display =\n",
              "          google.colab.kernel.accessAllowed ? 'block' : 'none';\n",
              "\n",
              "        async function convertToInteractive(key) {\n",
              "          const element = document.querySelector('#df-a8b7cf80-4011-4f73-9256-1c3531501a33');\n",
              "          const dataTable =\n",
              "            await google.colab.kernel.invokeFunction('convertToInteractive',\n",
              "                                                     [key], {});\n",
              "          if (!dataTable) return;\n",
              "\n",
              "          const docLinkHtml = 'Like what you see? Visit the ' +\n",
              "            '<a target=\"_blank\" href=https://colab.research.google.com/notebooks/data_table.ipynb>data table notebook</a>'\n",
              "            + ' to learn more about interactive tables.';\n",
              "          element.innerHTML = '';\n",
              "          dataTable['output_type'] = 'display_data';\n",
              "          await google.colab.output.renderOutput(dataTable, element);\n",
              "          const docLink = document.createElement('div');\n",
              "          docLink.innerHTML = docLinkHtml;\n",
              "          element.appendChild(docLink);\n",
              "        }\n",
              "      </script>\n",
              "    </div>\n",
              "  </div>\n",
              "  "
            ]
          },
          "metadata": {},
          "execution_count": 20
        }
      ]
    },
    {
      "cell_type": "code",
      "source": [
        "df_embeddings.tail()"
      ],
      "metadata": {
        "colab": {
          "base_uri": "https://localhost:8080/",
          "height": 206
        },
        "id": "EIaazAGdTTax",
        "outputId": "de420046-f3e7-49a8-9c80-275b6b5ac056"
      },
      "execution_count": 21,
      "outputs": [
        {
          "output_type": "execute_result",
          "data": {
            "text/plain": [
              "            x          y   label\n",
              "59 -10.353003 -11.987534  Impact\n",
              "60 -19.618755 -28.442715  Impact\n",
              "61 -16.076046   9.667246  Impact\n",
              "62  -8.025079  35.464622  Impact\n",
              "63  13.886595 -24.543152  Impact"
            ],
            "text/html": [
              "\n",
              "  <div id=\"df-a444a4fe-670d-4ebb-87a5-77e4a8b6de7c\">\n",
              "    <div class=\"colab-df-container\">\n",
              "      <div>\n",
              "<style scoped>\n",
              "    .dataframe tbody tr th:only-of-type {\n",
              "        vertical-align: middle;\n",
              "    }\n",
              "\n",
              "    .dataframe tbody tr th {\n",
              "        vertical-align: top;\n",
              "    }\n",
              "\n",
              "    .dataframe thead th {\n",
              "        text-align: right;\n",
              "    }\n",
              "</style>\n",
              "<table border=\"1\" class=\"dataframe\">\n",
              "  <thead>\n",
              "    <tr style=\"text-align: right;\">\n",
              "      <th></th>\n",
              "      <th>x</th>\n",
              "      <th>y</th>\n",
              "      <th>label</th>\n",
              "    </tr>\n",
              "  </thead>\n",
              "  <tbody>\n",
              "    <tr>\n",
              "      <th>59</th>\n",
              "      <td>-10.353003</td>\n",
              "      <td>-11.987534</td>\n",
              "      <td>Impact</td>\n",
              "    </tr>\n",
              "    <tr>\n",
              "      <th>60</th>\n",
              "      <td>-19.618755</td>\n",
              "      <td>-28.442715</td>\n",
              "      <td>Impact</td>\n",
              "    </tr>\n",
              "    <tr>\n",
              "      <th>61</th>\n",
              "      <td>-16.076046</td>\n",
              "      <td>9.667246</td>\n",
              "      <td>Impact</td>\n",
              "    </tr>\n",
              "    <tr>\n",
              "      <th>62</th>\n",
              "      <td>-8.025079</td>\n",
              "      <td>35.464622</td>\n",
              "      <td>Impact</td>\n",
              "    </tr>\n",
              "    <tr>\n",
              "      <th>63</th>\n",
              "      <td>13.886595</td>\n",
              "      <td>-24.543152</td>\n",
              "      <td>Impact</td>\n",
              "    </tr>\n",
              "  </tbody>\n",
              "</table>\n",
              "</div>\n",
              "      <button class=\"colab-df-convert\" onclick=\"convertToInteractive('df-a444a4fe-670d-4ebb-87a5-77e4a8b6de7c')\"\n",
              "              title=\"Convert this dataframe to an interactive table.\"\n",
              "              style=\"display:none;\">\n",
              "        \n",
              "  <svg xmlns=\"http://www.w3.org/2000/svg\" height=\"24px\"viewBox=\"0 0 24 24\"\n",
              "       width=\"24px\">\n",
              "    <path d=\"M0 0h24v24H0V0z\" fill=\"none\"/>\n",
              "    <path d=\"M18.56 5.44l.94 2.06.94-2.06 2.06-.94-2.06-.94-.94-2.06-.94 2.06-2.06.94zm-11 1L8.5 8.5l.94-2.06 2.06-.94-2.06-.94L8.5 2.5l-.94 2.06-2.06.94zm10 10l.94 2.06.94-2.06 2.06-.94-2.06-.94-.94-2.06-.94 2.06-2.06.94z\"/><path d=\"M17.41 7.96l-1.37-1.37c-.4-.4-.92-.59-1.43-.59-.52 0-1.04.2-1.43.59L10.3 9.45l-7.72 7.72c-.78.78-.78 2.05 0 2.83L4 21.41c.39.39.9.59 1.41.59.51 0 1.02-.2 1.41-.59l7.78-7.78 2.81-2.81c.8-.78.8-2.07 0-2.86zM5.41 20L4 18.59l7.72-7.72 1.47 1.35L5.41 20z\"/>\n",
              "  </svg>\n",
              "      </button>\n",
              "      \n",
              "  <style>\n",
              "    .colab-df-container {\n",
              "      display:flex;\n",
              "      flex-wrap:wrap;\n",
              "      gap: 12px;\n",
              "    }\n",
              "\n",
              "    .colab-df-convert {\n",
              "      background-color: #E8F0FE;\n",
              "      border: none;\n",
              "      border-radius: 50%;\n",
              "      cursor: pointer;\n",
              "      display: none;\n",
              "      fill: #1967D2;\n",
              "      height: 32px;\n",
              "      padding: 0 0 0 0;\n",
              "      width: 32px;\n",
              "    }\n",
              "\n",
              "    .colab-df-convert:hover {\n",
              "      background-color: #E2EBFA;\n",
              "      box-shadow: 0px 1px 2px rgba(60, 64, 67, 0.3), 0px 1px 3px 1px rgba(60, 64, 67, 0.15);\n",
              "      fill: #174EA6;\n",
              "    }\n",
              "\n",
              "    [theme=dark] .colab-df-convert {\n",
              "      background-color: #3B4455;\n",
              "      fill: #D2E3FC;\n",
              "    }\n",
              "\n",
              "    [theme=dark] .colab-df-convert:hover {\n",
              "      background-color: #434B5C;\n",
              "      box-shadow: 0px 1px 3px 1px rgba(0, 0, 0, 0.15);\n",
              "      filter: drop-shadow(0px 1px 2px rgba(0, 0, 0, 0.3));\n",
              "      fill: #FFFFFF;\n",
              "    }\n",
              "  </style>\n",
              "\n",
              "      <script>\n",
              "        const buttonEl =\n",
              "          document.querySelector('#df-a444a4fe-670d-4ebb-87a5-77e4a8b6de7c button.colab-df-convert');\n",
              "        buttonEl.style.display =\n",
              "          google.colab.kernel.accessAllowed ? 'block' : 'none';\n",
              "\n",
              "        async function convertToInteractive(key) {\n",
              "          const element = document.querySelector('#df-a444a4fe-670d-4ebb-87a5-77e4a8b6de7c');\n",
              "          const dataTable =\n",
              "            await google.colab.kernel.invokeFunction('convertToInteractive',\n",
              "                                                     [key], {});\n",
              "          if (!dataTable) return;\n",
              "\n",
              "          const docLinkHtml = 'Like what you see? Visit the ' +\n",
              "            '<a target=\"_blank\" href=https://colab.research.google.com/notebooks/data_table.ipynb>data table notebook</a>'\n",
              "            + ' to learn more about interactive tables.';\n",
              "          element.innerHTML = '';\n",
              "          dataTable['output_type'] = 'display_data';\n",
              "          await google.colab.output.renderOutput(dataTable, element);\n",
              "          const docLink = document.createElement('div');\n",
              "          docLink.innerHTML = docLinkHtml;\n",
              "          element.appendChild(docLink);\n",
              "        }\n",
              "      </script>\n",
              "    </div>\n",
              "  </div>\n",
              "  "
            ]
          },
          "metadata": {},
          "execution_count": 21
        }
      ]
    },
    {
      "cell_type": "code",
      "source": [
        "df_embeddings = df_embeddings.assign(text=df_phrases.example.values)"
      ],
      "metadata": {
        "id": "MjuO7pXyTb17"
      },
      "execution_count": 22,
      "outputs": []
    },
    {
      "cell_type": "code",
      "source": [
        "import plotly.express as px\n",
        "\n",
        "fig = px.scatter(\n",
        "    df_embeddings, x='x', y='y',\n",
        "    color='label',\n",
        "    labels={'color': 'label'},\n",
        "    hover_data=['text'],\n",
        "    title = 'Quantified Certification phrases')\n",
        "fig.show()"
      ],
      "metadata": {
        "colab": {
          "base_uri": "https://localhost:8080/",
          "height": 542
        },
        "id": "sdvoMrKCTtm3",
        "outputId": "30fe57bc-8536-442c-e205-42d11bf1bb33"
      },
      "execution_count": 23,
      "outputs": [
        {
          "output_type": "display_data",
          "data": {
            "text/html": [
              "<html>\n",
              "<head><meta charset=\"utf-8\" /></head>\n",
              "<body>\n",
              "    <div>            <script src=\"https://cdnjs.cloudflare.com/ajax/libs/mathjax/2.7.5/MathJax.js?config=TeX-AMS-MML_SVG\"></script><script type=\"text/javascript\">if (window.MathJax) {MathJax.Hub.Config({SVG: {font: \"STIX-Web\"}});}</script>                <script type=\"text/javascript\">window.PlotlyConfig = {MathJaxConfig: 'local'};</script>\n",
              "        <script src=\"https://cdn.plot.ly/plotly-2.8.3.min.js\"></script>                <div id=\"eb9601be-b01c-4398-a78f-de9b63cb69bf\" class=\"plotly-graph-div\" style=\"height:525px; width:100%;\"></div>            <script type=\"text/javascript\">                                    window.PLOTLYENV=window.PLOTLYENV || {};                                    if (document.getElementById(\"eb9601be-b01c-4398-a78f-de9b63cb69bf\")) {                    Plotly.newPlot(                        \"eb9601be-b01c-4398-a78f-de9b63cb69bf\",                        [{\"customdata\":[[\"most advanced conversation intelligence and AI powered coaching platform\"],[\"a software platform that helps people reach their potential\"],[\"for communicating and connecting\"],[\"empowered by behavioral science\"],[\"uses artificial intelligence\"],[\"drives performance outcomes for customer facing teams\"],[\"help them sell more\"],[\"help them deliver better experiences \"]],\"hovertemplate\":\"label=What<br>x=%{x}<br>y=%{y}<br>text=%{customdata[0]}<extra></extra>\",\"legendgroup\":\"What\",\"marker\":{\"color\":\"#636efa\",\"symbol\":\"circle\"},\"mode\":\"markers\",\"name\":\"What\",\"orientation\":\"v\",\"showlegend\":true,\"x\":[-38.926761627197266,-32.438533782958984,9.644590377807617,-9.63876724243164,35.44968032836914,-25.247793197631836,-3.469425678253174,-9.884991645812988],\"xaxis\":\"x\",\"y\":[8.819808959960938,-0.504975438117981,13.041138648986816,-35.21056365966797,5.578317642211914,12.217120170593262,-4.0198798179626465,-2.4085724353790283],\"yaxis\":\"y\",\"type\":\"scatter\"},{\"customdata\":[[\"integrated into video conference platforms\"],[\"record yourself or \"],[\"prompts with fun and realistic experiences. \"],[\"That's all we need you to do\"],[\"have conversations like the types you have every day \"],[\"we've built technology that \"],[\"looks at the words that you say\"],[\"what you do with your voice, \"],[\"your face\"],[\"your gestures\"],[\"simple input\"],[\"create benchmarking\"],[\"scoring feedback\"],[\"personalized guidance\"],[\"understand how you come across\"],[\"relay to you how you're doing\"],[\"how you can get better\"],[\"coach you using artificial intelligence\"],[\"as if the world's best communication coach was sitting there with you in every one of your conversations\"],[\"telling you how to get better\"],[\"telling you how to optimize your behavior\"]],\"hovertemplate\":\"label=How<br>x=%{x}<br>y=%{y}<br>text=%{customdata[0]}<extra></extra>\",\"legendgroup\":\"How\",\"marker\":{\"color\":\"#EF553B\",\"symbol\":\"circle\"},\"mode\":\"markers\",\"name\":\"How\",\"orientation\":\"v\",\"showlegend\":true,\"x\":[-5.63735294342041,44.049659729003906,35.98554229736328,27.315555572509766,24.152374267578125,45.69023895263672,17.159334182739258,49.693992614746094,28.49895668029785,23.455589294433594,31.265947341918945,6.117149829864502,13.673562049865723,-9.878952980041504,6.168638229370117,9.555168151855469,10.690391540527344,29.419715881347656,-45.172359466552734,5.13488245010376,-0.2178138792514801],\"xaxis\":\"x\",\"y\":[20.533679962158203,-12.199925422668457,23.45032501220703,-42.409854888916016,23.94287872314453,8.845870018005371,35.226219177246094,-7.529094696044922,-7.9405694007873535,-12.961132049560547,-21.02530288696289,-14.913582801818848,-11.75150203704834,-23.293344497680664,32.997745513916016,26.39116096496582,-32.68583297729492,6.773404598236084,16.59892463684082,-28.459081649780273,-32.18976974487305],\"yaxis\":\"y\",\"type\":\"scatter\"},{\"customdata\":[[\"everyone is having conversations\"],[\"if you're an entry-level person\"],[\"If you\\u2019re the most senior executive\"],[\"the most powerful group that we can help are customer facing teams\"],[\"sales teams, customer service teams, customer support, and customer success teams\"],[\"anyone who is talking to the customer as a core part of their day-to-day job\"],[\"words that they use, the way that they present themselves, how they come across \"],[\"has an impact on the performance outcomes of the organization\"],[\"giving coaching to them\"],[\"coaching them at scale that is standardized and scientific\"],[\"It's hard to find time for the managers to coach\"],[\"It's hard for us to give feedback\"],[\"It's hard for people to feel empowered, to work on something that is personal and private in a safe space\"]],\"hovertemplate\":\"label=Who<br>x=%{x}<br>y=%{y}<br>text=%{customdata[0]}<extra></extra>\",\"legendgroup\":\"Who\",\"marker\":{\"color\":\"#00cc96\",\"symbol\":\"circle\"},\"mode\":\"markers\",\"name\":\"Who\",\"orientation\":\"v\",\"showlegend\":true,\"x\":[19.995872497558594,36.05094909667969,-30.488433837890625,-26.136432647705078,-27.292024612426758,-18.28924560546875,2.1139731407165527,-19.947542190551758,-19.100454330444336,-26.7755184173584,-52.88132095336914,-48.98366165161133,-52.65728759765625],\"xaxis\":\"x\",\"y\":[17.898649215698242,-29.31630516052246,-23.323238372802734,19.8643798828125,28.40338897705078,24.777956008911133,40.27754592895508,2.889110565185547,-10.966628074645996,-9.378358840942383,-17.387067794799805,-24.07923698425293,-8.56383991241455],\"yaxis\":\"y\",\"type\":\"scatter\"},{\"customdata\":[[\"customer experience\"],[\"communicating with the customer\"],[\"spending time\"],[\"spending a lot of time communicating\"],[\"With other members of your team\"],[\"internal communication and external communication\"],[\"we want to make you remarkably better\"],[\"we want to make you extraordinary at that behavior\"],[\"meant to be learned along the way\"],[\"No one at work can stop you for six months, 12 months, 18 months helping you become exceptional\"],[\"your leadership journey\"],[\"this is the most important skill right now for you\"],[\"they don't have the time and they don't know how to do it\"],[\"we can provide intentional guidance\"],[\"deliver that on a personal basis for every single member of your organization that faces the customer\"],[\"30% better at connecting with other people \"],[\"measured by evidence-based research\"],[\"the impact that that could have on individual performance\"],[\"your individual growth as a leader\"],[\"collective performance of the teams in the organization\"],[\"Make you be perceived as trustworthy, authentic, credible\"],[\"improve how you connect\"]],\"hovertemplate\":\"label=Impact<br>x=%{x}<br>y=%{y}<br>text=%{customdata[0]}<extra></extra>\",\"legendgroup\":\"Impact\",\"marker\":{\"color\":\"#ab63fa\",\"symbol\":\"circle\"},\"mode\":\"markers\",\"name\":\"Impact\",\"orientation\":\"v\",\"showlegend\":true,\"x\":[7.395218849182129,5.427140235900879,18.708471298217773,15.419001579284668,-6.4914774894714355,3.05732798576355,4.6754937171936035,-0.8847166895866394,-27.106245040893555,-51.4337043762207,-20.42085838317871,14.781954765319824,-45.008026123046875,-3.753384828567505,-35.67533874511719,21.751293182373047,-13.987076759338379,-10.353002548217773,-19.618755340576172,-16.076045989990234,-8.025078773498535,13.886594772338867],\"xaxis\":\"x\",\"y\":[-2.723001480102539,3.6212399005889893,-1.6219227313995361,8.127495765686035,8.069168090820312,15.41380786895752,-42.243141174316406,-45.48139953613281,-37.718379974365234,6.740840911865234,-22.464096069335938,-44.44068908691406,-15.773702621459961,-21.282686233520508,21.71564292907715,-29.517175674438477,-40.77131652832031,-11.987533569335938,-28.44271469116211,9.667245864868164,35.464622497558594,-24.54315185546875],\"yaxis\":\"y\",\"type\":\"scatter\"}],                        {\"template\":{\"data\":{\"bar\":[{\"error_x\":{\"color\":\"#2a3f5f\"},\"error_y\":{\"color\":\"#2a3f5f\"},\"marker\":{\"line\":{\"color\":\"#E5ECF6\",\"width\":0.5},\"pattern\":{\"fillmode\":\"overlay\",\"size\":10,\"solidity\":0.2}},\"type\":\"bar\"}],\"barpolar\":[{\"marker\":{\"line\":{\"color\":\"#E5ECF6\",\"width\":0.5},\"pattern\":{\"fillmode\":\"overlay\",\"size\":10,\"solidity\":0.2}},\"type\":\"barpolar\"}],\"carpet\":[{\"aaxis\":{\"endlinecolor\":\"#2a3f5f\",\"gridcolor\":\"white\",\"linecolor\":\"white\",\"minorgridcolor\":\"white\",\"startlinecolor\":\"#2a3f5f\"},\"baxis\":{\"endlinecolor\":\"#2a3f5f\",\"gridcolor\":\"white\",\"linecolor\":\"white\",\"minorgridcolor\":\"white\",\"startlinecolor\":\"#2a3f5f\"},\"type\":\"carpet\"}],\"choropleth\":[{\"colorbar\":{\"outlinewidth\":0,\"ticks\":\"\"},\"type\":\"choropleth\"}],\"contour\":[{\"colorbar\":{\"outlinewidth\":0,\"ticks\":\"\"},\"colorscale\":[[0.0,\"#0d0887\"],[0.1111111111111111,\"#46039f\"],[0.2222222222222222,\"#7201a8\"],[0.3333333333333333,\"#9c179e\"],[0.4444444444444444,\"#bd3786\"],[0.5555555555555556,\"#d8576b\"],[0.6666666666666666,\"#ed7953\"],[0.7777777777777778,\"#fb9f3a\"],[0.8888888888888888,\"#fdca26\"],[1.0,\"#f0f921\"]],\"type\":\"contour\"}],\"contourcarpet\":[{\"colorbar\":{\"outlinewidth\":0,\"ticks\":\"\"},\"type\":\"contourcarpet\"}],\"heatmap\":[{\"colorbar\":{\"outlinewidth\":0,\"ticks\":\"\"},\"colorscale\":[[0.0,\"#0d0887\"],[0.1111111111111111,\"#46039f\"],[0.2222222222222222,\"#7201a8\"],[0.3333333333333333,\"#9c179e\"],[0.4444444444444444,\"#bd3786\"],[0.5555555555555556,\"#d8576b\"],[0.6666666666666666,\"#ed7953\"],[0.7777777777777778,\"#fb9f3a\"],[0.8888888888888888,\"#fdca26\"],[1.0,\"#f0f921\"]],\"type\":\"heatmap\"}],\"heatmapgl\":[{\"colorbar\":{\"outlinewidth\":0,\"ticks\":\"\"},\"colorscale\":[[0.0,\"#0d0887\"],[0.1111111111111111,\"#46039f\"],[0.2222222222222222,\"#7201a8\"],[0.3333333333333333,\"#9c179e\"],[0.4444444444444444,\"#bd3786\"],[0.5555555555555556,\"#d8576b\"],[0.6666666666666666,\"#ed7953\"],[0.7777777777777778,\"#fb9f3a\"],[0.8888888888888888,\"#fdca26\"],[1.0,\"#f0f921\"]],\"type\":\"heatmapgl\"}],\"histogram\":[{\"marker\":{\"pattern\":{\"fillmode\":\"overlay\",\"size\":10,\"solidity\":0.2}},\"type\":\"histogram\"}],\"histogram2d\":[{\"colorbar\":{\"outlinewidth\":0,\"ticks\":\"\"},\"colorscale\":[[0.0,\"#0d0887\"],[0.1111111111111111,\"#46039f\"],[0.2222222222222222,\"#7201a8\"],[0.3333333333333333,\"#9c179e\"],[0.4444444444444444,\"#bd3786\"],[0.5555555555555556,\"#d8576b\"],[0.6666666666666666,\"#ed7953\"],[0.7777777777777778,\"#fb9f3a\"],[0.8888888888888888,\"#fdca26\"],[1.0,\"#f0f921\"]],\"type\":\"histogram2d\"}],\"histogram2dcontour\":[{\"colorbar\":{\"outlinewidth\":0,\"ticks\":\"\"},\"colorscale\":[[0.0,\"#0d0887\"],[0.1111111111111111,\"#46039f\"],[0.2222222222222222,\"#7201a8\"],[0.3333333333333333,\"#9c179e\"],[0.4444444444444444,\"#bd3786\"],[0.5555555555555556,\"#d8576b\"],[0.6666666666666666,\"#ed7953\"],[0.7777777777777778,\"#fb9f3a\"],[0.8888888888888888,\"#fdca26\"],[1.0,\"#f0f921\"]],\"type\":\"histogram2dcontour\"}],\"mesh3d\":[{\"colorbar\":{\"outlinewidth\":0,\"ticks\":\"\"},\"type\":\"mesh3d\"}],\"parcoords\":[{\"line\":{\"colorbar\":{\"outlinewidth\":0,\"ticks\":\"\"}},\"type\":\"parcoords\"}],\"pie\":[{\"automargin\":true,\"type\":\"pie\"}],\"scatter\":[{\"marker\":{\"colorbar\":{\"outlinewidth\":0,\"ticks\":\"\"}},\"type\":\"scatter\"}],\"scatter3d\":[{\"line\":{\"colorbar\":{\"outlinewidth\":0,\"ticks\":\"\"}},\"marker\":{\"colorbar\":{\"outlinewidth\":0,\"ticks\":\"\"}},\"type\":\"scatter3d\"}],\"scattercarpet\":[{\"marker\":{\"colorbar\":{\"outlinewidth\":0,\"ticks\":\"\"}},\"type\":\"scattercarpet\"}],\"scattergeo\":[{\"marker\":{\"colorbar\":{\"outlinewidth\":0,\"ticks\":\"\"}},\"type\":\"scattergeo\"}],\"scattergl\":[{\"marker\":{\"colorbar\":{\"outlinewidth\":0,\"ticks\":\"\"}},\"type\":\"scattergl\"}],\"scattermapbox\":[{\"marker\":{\"colorbar\":{\"outlinewidth\":0,\"ticks\":\"\"}},\"type\":\"scattermapbox\"}],\"scatterpolar\":[{\"marker\":{\"colorbar\":{\"outlinewidth\":0,\"ticks\":\"\"}},\"type\":\"scatterpolar\"}],\"scatterpolargl\":[{\"marker\":{\"colorbar\":{\"outlinewidth\":0,\"ticks\":\"\"}},\"type\":\"scatterpolargl\"}],\"scatterternary\":[{\"marker\":{\"colorbar\":{\"outlinewidth\":0,\"ticks\":\"\"}},\"type\":\"scatterternary\"}],\"surface\":[{\"colorbar\":{\"outlinewidth\":0,\"ticks\":\"\"},\"colorscale\":[[0.0,\"#0d0887\"],[0.1111111111111111,\"#46039f\"],[0.2222222222222222,\"#7201a8\"],[0.3333333333333333,\"#9c179e\"],[0.4444444444444444,\"#bd3786\"],[0.5555555555555556,\"#d8576b\"],[0.6666666666666666,\"#ed7953\"],[0.7777777777777778,\"#fb9f3a\"],[0.8888888888888888,\"#fdca26\"],[1.0,\"#f0f921\"]],\"type\":\"surface\"}],\"table\":[{\"cells\":{\"fill\":{\"color\":\"#EBF0F8\"},\"line\":{\"color\":\"white\"}},\"header\":{\"fill\":{\"color\":\"#C8D4E3\"},\"line\":{\"color\":\"white\"}},\"type\":\"table\"}]},\"layout\":{\"annotationdefaults\":{\"arrowcolor\":\"#2a3f5f\",\"arrowhead\":0,\"arrowwidth\":1},\"autotypenumbers\":\"strict\",\"coloraxis\":{\"colorbar\":{\"outlinewidth\":0,\"ticks\":\"\"}},\"colorscale\":{\"diverging\":[[0,\"#8e0152\"],[0.1,\"#c51b7d\"],[0.2,\"#de77ae\"],[0.3,\"#f1b6da\"],[0.4,\"#fde0ef\"],[0.5,\"#f7f7f7\"],[0.6,\"#e6f5d0\"],[0.7,\"#b8e186\"],[0.8,\"#7fbc41\"],[0.9,\"#4d9221\"],[1,\"#276419\"]],\"sequential\":[[0.0,\"#0d0887\"],[0.1111111111111111,\"#46039f\"],[0.2222222222222222,\"#7201a8\"],[0.3333333333333333,\"#9c179e\"],[0.4444444444444444,\"#bd3786\"],[0.5555555555555556,\"#d8576b\"],[0.6666666666666666,\"#ed7953\"],[0.7777777777777778,\"#fb9f3a\"],[0.8888888888888888,\"#fdca26\"],[1.0,\"#f0f921\"]],\"sequentialminus\":[[0.0,\"#0d0887\"],[0.1111111111111111,\"#46039f\"],[0.2222222222222222,\"#7201a8\"],[0.3333333333333333,\"#9c179e\"],[0.4444444444444444,\"#bd3786\"],[0.5555555555555556,\"#d8576b\"],[0.6666666666666666,\"#ed7953\"],[0.7777777777777778,\"#fb9f3a\"],[0.8888888888888888,\"#fdca26\"],[1.0,\"#f0f921\"]]},\"colorway\":[\"#636efa\",\"#EF553B\",\"#00cc96\",\"#ab63fa\",\"#FFA15A\",\"#19d3f3\",\"#FF6692\",\"#B6E880\",\"#FF97FF\",\"#FECB52\"],\"font\":{\"color\":\"#2a3f5f\"},\"geo\":{\"bgcolor\":\"white\",\"lakecolor\":\"white\",\"landcolor\":\"#E5ECF6\",\"showlakes\":true,\"showland\":true,\"subunitcolor\":\"white\"},\"hoverlabel\":{\"align\":\"left\"},\"hovermode\":\"closest\",\"mapbox\":{\"style\":\"light\"},\"paper_bgcolor\":\"white\",\"plot_bgcolor\":\"#E5ECF6\",\"polar\":{\"angularaxis\":{\"gridcolor\":\"white\",\"linecolor\":\"white\",\"ticks\":\"\"},\"bgcolor\":\"#E5ECF6\",\"radialaxis\":{\"gridcolor\":\"white\",\"linecolor\":\"white\",\"ticks\":\"\"}},\"scene\":{\"xaxis\":{\"backgroundcolor\":\"#E5ECF6\",\"gridcolor\":\"white\",\"gridwidth\":2,\"linecolor\":\"white\",\"showbackground\":true,\"ticks\":\"\",\"zerolinecolor\":\"white\"},\"yaxis\":{\"backgroundcolor\":\"#E5ECF6\",\"gridcolor\":\"white\",\"gridwidth\":2,\"linecolor\":\"white\",\"showbackground\":true,\"ticks\":\"\",\"zerolinecolor\":\"white\"},\"zaxis\":{\"backgroundcolor\":\"#E5ECF6\",\"gridcolor\":\"white\",\"gridwidth\":2,\"linecolor\":\"white\",\"showbackground\":true,\"ticks\":\"\",\"zerolinecolor\":\"white\"}},\"shapedefaults\":{\"line\":{\"color\":\"#2a3f5f\"}},\"ternary\":{\"aaxis\":{\"gridcolor\":\"white\",\"linecolor\":\"white\",\"ticks\":\"\"},\"baxis\":{\"gridcolor\":\"white\",\"linecolor\":\"white\",\"ticks\":\"\"},\"bgcolor\":\"#E5ECF6\",\"caxis\":{\"gridcolor\":\"white\",\"linecolor\":\"white\",\"ticks\":\"\"}},\"title\":{\"x\":0.05},\"xaxis\":{\"automargin\":true,\"gridcolor\":\"white\",\"linecolor\":\"white\",\"ticks\":\"\",\"title\":{\"standoff\":15},\"zerolinecolor\":\"white\",\"zerolinewidth\":2},\"yaxis\":{\"automargin\":true,\"gridcolor\":\"white\",\"linecolor\":\"white\",\"ticks\":\"\",\"title\":{\"standoff\":15},\"zerolinecolor\":\"white\",\"zerolinewidth\":2}}},\"xaxis\":{\"anchor\":\"y\",\"domain\":[0.0,1.0],\"title\":{\"text\":\"x\"}},\"yaxis\":{\"anchor\":\"x\",\"domain\":[0.0,1.0],\"title\":{\"text\":\"y\"}},\"legend\":{\"title\":{\"text\":\"label\"},\"tracegroupgap\":0},\"title\":{\"text\":\"Quantified Certification phrases\"}},                        {\"responsive\": true}                    ).then(function(){\n",
              "                            \n",
              "var gd = document.getElementById('eb9601be-b01c-4398-a78f-de9b63cb69bf');\n",
              "var x = new MutationObserver(function (mutations, observer) {{\n",
              "        var display = window.getComputedStyle(gd).display;\n",
              "        if (!display || display === 'none') {{\n",
              "            console.log([gd, 'removed!']);\n",
              "            Plotly.purge(gd);\n",
              "            observer.disconnect();\n",
              "        }}\n",
              "}});\n",
              "\n",
              "// Listen for the removal of the full notebook cells\n",
              "var notebookContainer = gd.closest('#notebook-container');\n",
              "if (notebookContainer) {{\n",
              "    x.observe(notebookContainer, {childList: true});\n",
              "}}\n",
              "\n",
              "// Listen for the clearing of the current output cell\n",
              "var outputEl = gd.closest('.output');\n",
              "if (outputEl) {{\n",
              "    x.observe(outputEl, {childList: true});\n",
              "}}\n",
              "\n",
              "                        })                };                            </script>        </div>\n",
              "</body>\n",
              "</html>"
            ]
          },
          "metadata": {}
        }
      ]
    },
    {
      "cell_type": "code",
      "source": [
        "X_embedded_3d = TSNE(n_components=3).fit_transform(X)\n",
        "df_embeddings_3d = pd.DataFrame(X_embedded_3d)\n",
        "df_embeddings_3d = df_embeddings_3d.rename(columns={0:'x',1:'y',2:'z'})\n",
        "df_embeddings_3d = df_embeddings_3d.assign(label=df_phrases.label.values)\n",
        "df_embeddings_3d = df_embeddings_3d.assign(text=df_phrases.example.values)"
      ],
      "metadata": {
        "colab": {
          "base_uri": "https://localhost:8080/"
        },
        "id": "AapMLiYNT14T",
        "outputId": "c7e82eb1-b594-42b3-e34b-19a9db0755e9"
      },
      "execution_count": 24,
      "outputs": [
        {
          "output_type": "stream",
          "name": "stderr",
          "text": [
            "/usr/local/lib/python3.7/dist-packages/sklearn/manifold/_t_sne.py:783: FutureWarning:\n",
            "\n",
            "The default initialization in TSNE will change from 'random' to 'pca' in 1.2.\n",
            "\n",
            "/usr/local/lib/python3.7/dist-packages/sklearn/manifold/_t_sne.py:793: FutureWarning:\n",
            "\n",
            "The default learning rate in TSNE will change from 200.0 to 'auto' in 1.2.\n",
            "\n"
          ]
        }
      ]
    },
    {
      "cell_type": "code",
      "source": [
        "fig_3d = px.scatter_3d(\n",
        "    df_embeddings_3d, x='x', y='y', z='z',\n",
        "    color='label',\n",
        "    labels={'color': 'label'},\n",
        "    hover_data=['text'],\n",
        "    title ='Quantified Certification phrases (3D)')\n",
        "fig_3d.show()"
      ],
      "metadata": {
        "colab": {
          "base_uri": "https://localhost:8080/",
          "height": 542
        },
        "id": "VcoF1u42XaZs",
        "outputId": "d7a30915-728c-4f73-9e18-d7930ca1d12c"
      },
      "execution_count": 71,
      "outputs": [
        {
          "output_type": "display_data",
          "data": {
            "text/html": [
              "<html>\n",
              "<head><meta charset=\"utf-8\" /></head>\n",
              "<body>\n",
              "    <div>            <script src=\"https://cdnjs.cloudflare.com/ajax/libs/mathjax/2.7.5/MathJax.js?config=TeX-AMS-MML_SVG\"></script><script type=\"text/javascript\">if (window.MathJax) {MathJax.Hub.Config({SVG: {font: \"STIX-Web\"}});}</script>                <script type=\"text/javascript\">window.PlotlyConfig = {MathJaxConfig: 'local'};</script>\n",
              "        <script src=\"https://cdn.plot.ly/plotly-2.8.3.min.js\"></script>                <div id=\"ae64bd5f-37ed-41bb-8e5f-70dd398b6942\" class=\"plotly-graph-div\" style=\"height:525px; width:100%;\"></div>            <script type=\"text/javascript\">                                    window.PLOTLYENV=window.PLOTLYENV || {};                                    if (document.getElementById(\"ae64bd5f-37ed-41bb-8e5f-70dd398b6942\")) {                    Plotly.newPlot(                        \"ae64bd5f-37ed-41bb-8e5f-70dd398b6942\",                        [{\"customdata\":[[\"most advanced conversation intelligence and AI powered coaching platform\"],[\"a software platform that helps people reach their potential\"],[\"for communicating and connecting\"],[\"empowered by behavioral science\"],[\"uses artificial intelligence\"],[\"drives performance outcomes for customer facing teams\"],[\"help them sell more\"],[\"help them deliver better experiences \"]],\"hovertemplate\":\"label=What<br>x=%{x}<br>y=%{y}<br>z=%{z}<br>text=%{customdata[0]}<extra></extra>\",\"legendgroup\":\"What\",\"marker\":{\"color\":\"#636efa\",\"symbol\":\"circle\"},\"mode\":\"markers\",\"name\":\"What\",\"scene\":\"scene\",\"showlegend\":true,\"x\":[180.10302734375,-171.2481231689453,112.9745101928711,-92.16061401367188,699.2764282226562,292.47265625,-120.65327453613281,-118.77234649658203],\"y\":[60.534271240234375,-232.8358917236328,94.45531463623047,10.146294593811035,48.586578369140625,-209.77674865722656,-139.44334411621094,-185.61087036132812],\"z\":[-101.86241149902344,30.7689208984375,185.0334930419922,-7.75480318069458,24.359529495239258,181.83767700195312,-176.19992065429688,-79.35897827148438],\"type\":\"scatter3d\"},{\"customdata\":[[\"integrated into video conference platforms\"],[\"record yourself or \"],[\"prompts with fun and realistic experiences. \"],[\"That's all we need you to do\"],[\"have conversations like the types you have every day \"],[\"we've built technology that \"],[\"looks at the words that you say\"],[\"what you do with your voice, \"],[\"your face\"],[\"your gestures\"],[\"simple input\"],[\"create benchmarking\"],[\"scoring feedback\"],[\"personalized guidance\"],[\"understand how you come across\"],[\"relay to you how you're doing\"],[\"how you can get better\"],[\"coach you using artificial intelligence\"],[\"as if the world's best communication coach was sitting there with you in every one of your conversations\"],[\"telling you how to get better\"],[\"telling you how to optimize your behavior\"]],\"hovertemplate\":\"label=How<br>x=%{x}<br>y=%{y}<br>z=%{z}<br>text=%{customdata[0]}<extra></extra>\",\"legendgroup\":\"How\",\"marker\":{\"color\":\"#EF553B\",\"symbol\":\"circle\"},\"mode\":\"markers\",\"name\":\"How\",\"scene\":\"scene\",\"showlegend\":true,\"x\":[117.28408813476562,-112.7581558227539,149.76756286621094,-160.26661682128906,-142.39999389648438,-65.7264404296875,-8.318496704101562,267.82171630859375,-262.9222412109375,233.3953399658203,240.06161499023438,-52.874149322509766,58.420902252197266,-112.22927856445312,-409.9864807128906,142.2593231201172,272.6857604980469,-2060.357421875,81.57953643798828,17.592849731445312,21.1614990234375],\"y\":[-134.83888244628906,37.400970458984375,208.64297485351562,208.99050903320312,131.47413635253906,-262.7082214355469,98.304931640625,387.248046875,185.75421142578125,-165.40716552734375,-47.24720001220703,-449.8799743652344,187.10064697265625,354.77880859375,489.8041076660156,224.57196044921875,-855.076416015625,-307.30426025390625,-22.03395652770996,-148.6019287109375,-319.67791748046875],\"z\":[0.040013689547777176,-241.99169921875,96.08544921875,134.8400421142578,1.466343879699707,132.8521728515625,268.7740478515625,197.85736083984375,37.411617279052734,-52.20063018798828,-13.857906341552734,250.3135223388672,-156.4558868408203,54.698890686035156,-415.751953125,-51.13163757324219,484.3912353515625,-493.5485534667969,-53.20238494873047,-139.7504425048828,-82.42140197753906],\"type\":\"scatter3d\"},{\"customdata\":[[\"everyone is having conversations\"],[\"if you're an entry-level person\"],[\"If you\\u2019re the most senior executive\"],[\"the most powerful group that we can help are customer facing teams\"],[\"sales teams, customer service teams, customer support, and customer success teams\"],[\"anyone who is talking to the customer as a core part of their day-to-day job\"],[\"words that they use, the way that they present themselves, how they come across \"],[\"has an impact on the performance outcomes of the organization\"],[\"giving coaching to them\"],[\"coaching them at scale that is standardized and scientific\"],[\"It's hard to find time for the managers to coach\"],[\"It's hard for us to give feedback\"],[\"It's hard for people to feel empowered, to work on something that is personal and private in a safe space\"]],\"hovertemplate\":\"label=Who<br>x=%{x}<br>y=%{y}<br>z=%{z}<br>text=%{customdata[0]}<extra></extra>\",\"legendgroup\":\"Who\",\"marker\":{\"color\":\"#00cc96\",\"symbol\":\"circle\"},\"mode\":\"markers\",\"name\":\"Who\",\"scene\":\"scene\",\"showlegend\":true,\"x\":[102.50827026367188,49.734405517578125,-2.870206117630005,-189.89427185058594,71.4657974243164,147.2263641357422,64.22908782958984,-1283.7684326171875,-153.46214294433594,45.08564758300781,395.4442443847656,-1080.666748046875,263.1908264160156],\"y\":[-29.917993545532227,-65.56187438964844,59.77295684814453,55.28293991088867,48.5242919921875,-62.887569427490234,-209.50775146484375,110.52107238769531,68.41556549072266,-175.0813446044922,55.06227493286133,-182.55303955078125,67.82792663574219],\"z\":[86.10174560546875,223.40835571289062,83.43604278564453,-117.06179809570312,-189.55679321289062,-162.12136840820312,218.4003143310547,-72.32605743408203,138.76832580566406,93.52059173583984,-0.7199323773384094,103.23442077636719,73.05545806884766],\"type\":\"scatter3d\"},{\"customdata\":[[\"customer experience\"],[\"communicating with the customer\"],[\"spending time\"],[\"spending a lot of time communicating\"],[\"With other members of your team\"],[\"internal communication and external communication\"],[\"we want to make you remarkably better\"],[\"we want to make you extraordinary at that behavior\"],[\"meant to be learned along the way\"],[\"No one at work can stop you for six months, 12 months, 18 months helping you become exceptional\"],[\"your leadership journey\"],[\"this is the most important skill right now for you\"],[\"they don't have the time and they don't know how to do it\"],[\"we can provide intentional guidance\"],[\"deliver that on a personal basis for every single member of your organization that faces the customer\"],[\"30% better at connecting with other people \"],[\"measured by evidence-based research\"],[\"the impact that that could have on individual performance\"],[\"your individual growth as a leader\"],[\"collective performance of the teams in the organization\"],[\"Make you be perceived as trustworthy, authentic, credible\"],[\"improve how you connect\"]],\"hovertemplate\":\"label=Impact<br>x=%{x}<br>y=%{y}<br>z=%{z}<br>text=%{customdata[0]}<extra></extra>\",\"legendgroup\":\"Impact\",\"marker\":{\"color\":\"#ab63fa\",\"symbol\":\"circle\"},\"mode\":\"markers\",\"name\":\"Impact\",\"scene\":\"scene\",\"showlegend\":true,\"x\":[-19.954994201660156,28.975244522094727,-66.97945404052734,-103.64302825927734,22.90155601501465,58.21794128417969,-61.06865310668945,180.7683868408203,-193.5743865966797,-274.8583984375,17.19184112548828,-67.85877227783203,-124.51721954345703,96.27994537353516,132.80763244628906,-37.65251922607422,10.818076133728027,-40.704410552978516,-32.873138427734375,995.9937744140625,-199.69418334960938,-70.33837890625],\"y\":[-237.62135314941406,188.60073852539062,126.85845184326172,-271.708740234375,89.81441497802734,202.57310485839844,-33.99387741088867,-105.44032287597656,-93.22467803955078,8.249414443969727,-399.57635498046875,-3.3727259635925293,-139.30784606933594,-227.02308654785156,79.0447769165039,-108.07705688476562,-57.19756317138672,173.35044860839844,-55.99211883544922,-22.146900177001953,-47.451332092285156,237.0885467529297],\"z\":[-3.032191753387451,21.1851806640625,-138.2582244873047,-183.17103576660156,-56.5020866394043,203.55328369140625,-122.5070571899414,156.5392303466797,-39.11191177368164,-9.590437889099121,-748.5287475585938,209.9878692626953,154.9584197998047,-97.87017822265625,29.23910140991211,-17.782468795776367,-248.99696350097656,128.6166534423828,94.43917083740234,-10.958166122436523,95.71844482421875,-55.16376495361328],\"type\":\"scatter3d\"}],                        {\"template\":{\"data\":{\"bar\":[{\"error_x\":{\"color\":\"#2a3f5f\"},\"error_y\":{\"color\":\"#2a3f5f\"},\"marker\":{\"line\":{\"color\":\"#E5ECF6\",\"width\":0.5},\"pattern\":{\"fillmode\":\"overlay\",\"size\":10,\"solidity\":0.2}},\"type\":\"bar\"}],\"barpolar\":[{\"marker\":{\"line\":{\"color\":\"#E5ECF6\",\"width\":0.5},\"pattern\":{\"fillmode\":\"overlay\",\"size\":10,\"solidity\":0.2}},\"type\":\"barpolar\"}],\"carpet\":[{\"aaxis\":{\"endlinecolor\":\"#2a3f5f\",\"gridcolor\":\"white\",\"linecolor\":\"white\",\"minorgridcolor\":\"white\",\"startlinecolor\":\"#2a3f5f\"},\"baxis\":{\"endlinecolor\":\"#2a3f5f\",\"gridcolor\":\"white\",\"linecolor\":\"white\",\"minorgridcolor\":\"white\",\"startlinecolor\":\"#2a3f5f\"},\"type\":\"carpet\"}],\"choropleth\":[{\"colorbar\":{\"outlinewidth\":0,\"ticks\":\"\"},\"type\":\"choropleth\"}],\"contour\":[{\"colorbar\":{\"outlinewidth\":0,\"ticks\":\"\"},\"colorscale\":[[0.0,\"#0d0887\"],[0.1111111111111111,\"#46039f\"],[0.2222222222222222,\"#7201a8\"],[0.3333333333333333,\"#9c179e\"],[0.4444444444444444,\"#bd3786\"],[0.5555555555555556,\"#d8576b\"],[0.6666666666666666,\"#ed7953\"],[0.7777777777777778,\"#fb9f3a\"],[0.8888888888888888,\"#fdca26\"],[1.0,\"#f0f921\"]],\"type\":\"contour\"}],\"contourcarpet\":[{\"colorbar\":{\"outlinewidth\":0,\"ticks\":\"\"},\"type\":\"contourcarpet\"}],\"heatmap\":[{\"colorbar\":{\"outlinewidth\":0,\"ticks\":\"\"},\"colorscale\":[[0.0,\"#0d0887\"],[0.1111111111111111,\"#46039f\"],[0.2222222222222222,\"#7201a8\"],[0.3333333333333333,\"#9c179e\"],[0.4444444444444444,\"#bd3786\"],[0.5555555555555556,\"#d8576b\"],[0.6666666666666666,\"#ed7953\"],[0.7777777777777778,\"#fb9f3a\"],[0.8888888888888888,\"#fdca26\"],[1.0,\"#f0f921\"]],\"type\":\"heatmap\"}],\"heatmapgl\":[{\"colorbar\":{\"outlinewidth\":0,\"ticks\":\"\"},\"colorscale\":[[0.0,\"#0d0887\"],[0.1111111111111111,\"#46039f\"],[0.2222222222222222,\"#7201a8\"],[0.3333333333333333,\"#9c179e\"],[0.4444444444444444,\"#bd3786\"],[0.5555555555555556,\"#d8576b\"],[0.6666666666666666,\"#ed7953\"],[0.7777777777777778,\"#fb9f3a\"],[0.8888888888888888,\"#fdca26\"],[1.0,\"#f0f921\"]],\"type\":\"heatmapgl\"}],\"histogram\":[{\"marker\":{\"pattern\":{\"fillmode\":\"overlay\",\"size\":10,\"solidity\":0.2}},\"type\":\"histogram\"}],\"histogram2d\":[{\"colorbar\":{\"outlinewidth\":0,\"ticks\":\"\"},\"colorscale\":[[0.0,\"#0d0887\"],[0.1111111111111111,\"#46039f\"],[0.2222222222222222,\"#7201a8\"],[0.3333333333333333,\"#9c179e\"],[0.4444444444444444,\"#bd3786\"],[0.5555555555555556,\"#d8576b\"],[0.6666666666666666,\"#ed7953\"],[0.7777777777777778,\"#fb9f3a\"],[0.8888888888888888,\"#fdca26\"],[1.0,\"#f0f921\"]],\"type\":\"histogram2d\"}],\"histogram2dcontour\":[{\"colorbar\":{\"outlinewidth\":0,\"ticks\":\"\"},\"colorscale\":[[0.0,\"#0d0887\"],[0.1111111111111111,\"#46039f\"],[0.2222222222222222,\"#7201a8\"],[0.3333333333333333,\"#9c179e\"],[0.4444444444444444,\"#bd3786\"],[0.5555555555555556,\"#d8576b\"],[0.6666666666666666,\"#ed7953\"],[0.7777777777777778,\"#fb9f3a\"],[0.8888888888888888,\"#fdca26\"],[1.0,\"#f0f921\"]],\"type\":\"histogram2dcontour\"}],\"mesh3d\":[{\"colorbar\":{\"outlinewidth\":0,\"ticks\":\"\"},\"type\":\"mesh3d\"}],\"parcoords\":[{\"line\":{\"colorbar\":{\"outlinewidth\":0,\"ticks\":\"\"}},\"type\":\"parcoords\"}],\"pie\":[{\"automargin\":true,\"type\":\"pie\"}],\"scatter\":[{\"marker\":{\"colorbar\":{\"outlinewidth\":0,\"ticks\":\"\"}},\"type\":\"scatter\"}],\"scatter3d\":[{\"line\":{\"colorbar\":{\"outlinewidth\":0,\"ticks\":\"\"}},\"marker\":{\"colorbar\":{\"outlinewidth\":0,\"ticks\":\"\"}},\"type\":\"scatter3d\"}],\"scattercarpet\":[{\"marker\":{\"colorbar\":{\"outlinewidth\":0,\"ticks\":\"\"}},\"type\":\"scattercarpet\"}],\"scattergeo\":[{\"marker\":{\"colorbar\":{\"outlinewidth\":0,\"ticks\":\"\"}},\"type\":\"scattergeo\"}],\"scattergl\":[{\"marker\":{\"colorbar\":{\"outlinewidth\":0,\"ticks\":\"\"}},\"type\":\"scattergl\"}],\"scattermapbox\":[{\"marker\":{\"colorbar\":{\"outlinewidth\":0,\"ticks\":\"\"}},\"type\":\"scattermapbox\"}],\"scatterpolar\":[{\"marker\":{\"colorbar\":{\"outlinewidth\":0,\"ticks\":\"\"}},\"type\":\"scatterpolar\"}],\"scatterpolargl\":[{\"marker\":{\"colorbar\":{\"outlinewidth\":0,\"ticks\":\"\"}},\"type\":\"scatterpolargl\"}],\"scatterternary\":[{\"marker\":{\"colorbar\":{\"outlinewidth\":0,\"ticks\":\"\"}},\"type\":\"scatterternary\"}],\"surface\":[{\"colorbar\":{\"outlinewidth\":0,\"ticks\":\"\"},\"colorscale\":[[0.0,\"#0d0887\"],[0.1111111111111111,\"#46039f\"],[0.2222222222222222,\"#7201a8\"],[0.3333333333333333,\"#9c179e\"],[0.4444444444444444,\"#bd3786\"],[0.5555555555555556,\"#d8576b\"],[0.6666666666666666,\"#ed7953\"],[0.7777777777777778,\"#fb9f3a\"],[0.8888888888888888,\"#fdca26\"],[1.0,\"#f0f921\"]],\"type\":\"surface\"}],\"table\":[{\"cells\":{\"fill\":{\"color\":\"#EBF0F8\"},\"line\":{\"color\":\"white\"}},\"header\":{\"fill\":{\"color\":\"#C8D4E3\"},\"line\":{\"color\":\"white\"}},\"type\":\"table\"}]},\"layout\":{\"annotationdefaults\":{\"arrowcolor\":\"#2a3f5f\",\"arrowhead\":0,\"arrowwidth\":1},\"autotypenumbers\":\"strict\",\"coloraxis\":{\"colorbar\":{\"outlinewidth\":0,\"ticks\":\"\"}},\"colorscale\":{\"diverging\":[[0,\"#8e0152\"],[0.1,\"#c51b7d\"],[0.2,\"#de77ae\"],[0.3,\"#f1b6da\"],[0.4,\"#fde0ef\"],[0.5,\"#f7f7f7\"],[0.6,\"#e6f5d0\"],[0.7,\"#b8e186\"],[0.8,\"#7fbc41\"],[0.9,\"#4d9221\"],[1,\"#276419\"]],\"sequential\":[[0.0,\"#0d0887\"],[0.1111111111111111,\"#46039f\"],[0.2222222222222222,\"#7201a8\"],[0.3333333333333333,\"#9c179e\"],[0.4444444444444444,\"#bd3786\"],[0.5555555555555556,\"#d8576b\"],[0.6666666666666666,\"#ed7953\"],[0.7777777777777778,\"#fb9f3a\"],[0.8888888888888888,\"#fdca26\"],[1.0,\"#f0f921\"]],\"sequentialminus\":[[0.0,\"#0d0887\"],[0.1111111111111111,\"#46039f\"],[0.2222222222222222,\"#7201a8\"],[0.3333333333333333,\"#9c179e\"],[0.4444444444444444,\"#bd3786\"],[0.5555555555555556,\"#d8576b\"],[0.6666666666666666,\"#ed7953\"],[0.7777777777777778,\"#fb9f3a\"],[0.8888888888888888,\"#fdca26\"],[1.0,\"#f0f921\"]]},\"colorway\":[\"#636efa\",\"#EF553B\",\"#00cc96\",\"#ab63fa\",\"#FFA15A\",\"#19d3f3\",\"#FF6692\",\"#B6E880\",\"#FF97FF\",\"#FECB52\"],\"font\":{\"color\":\"#2a3f5f\"},\"geo\":{\"bgcolor\":\"white\",\"lakecolor\":\"white\",\"landcolor\":\"#E5ECF6\",\"showlakes\":true,\"showland\":true,\"subunitcolor\":\"white\"},\"hoverlabel\":{\"align\":\"left\"},\"hovermode\":\"closest\",\"mapbox\":{\"style\":\"light\"},\"paper_bgcolor\":\"white\",\"plot_bgcolor\":\"#E5ECF6\",\"polar\":{\"angularaxis\":{\"gridcolor\":\"white\",\"linecolor\":\"white\",\"ticks\":\"\"},\"bgcolor\":\"#E5ECF6\",\"radialaxis\":{\"gridcolor\":\"white\",\"linecolor\":\"white\",\"ticks\":\"\"}},\"scene\":{\"xaxis\":{\"backgroundcolor\":\"#E5ECF6\",\"gridcolor\":\"white\",\"gridwidth\":2,\"linecolor\":\"white\",\"showbackground\":true,\"ticks\":\"\",\"zerolinecolor\":\"white\"},\"yaxis\":{\"backgroundcolor\":\"#E5ECF6\",\"gridcolor\":\"white\",\"gridwidth\":2,\"linecolor\":\"white\",\"showbackground\":true,\"ticks\":\"\",\"zerolinecolor\":\"white\"},\"zaxis\":{\"backgroundcolor\":\"#E5ECF6\",\"gridcolor\":\"white\",\"gridwidth\":2,\"linecolor\":\"white\",\"showbackground\":true,\"ticks\":\"\",\"zerolinecolor\":\"white\"}},\"shapedefaults\":{\"line\":{\"color\":\"#2a3f5f\"}},\"ternary\":{\"aaxis\":{\"gridcolor\":\"white\",\"linecolor\":\"white\",\"ticks\":\"\"},\"baxis\":{\"gridcolor\":\"white\",\"linecolor\":\"white\",\"ticks\":\"\"},\"bgcolor\":\"#E5ECF6\",\"caxis\":{\"gridcolor\":\"white\",\"linecolor\":\"white\",\"ticks\":\"\"}},\"title\":{\"x\":0.05},\"xaxis\":{\"automargin\":true,\"gridcolor\":\"white\",\"linecolor\":\"white\",\"ticks\":\"\",\"title\":{\"standoff\":15},\"zerolinecolor\":\"white\",\"zerolinewidth\":2},\"yaxis\":{\"automargin\":true,\"gridcolor\":\"white\",\"linecolor\":\"white\",\"ticks\":\"\",\"title\":{\"standoff\":15},\"zerolinecolor\":\"white\",\"zerolinewidth\":2}}},\"scene\":{\"domain\":{\"x\":[0.0,1.0],\"y\":[0.0,1.0]},\"xaxis\":{\"title\":{\"text\":\"x\"}},\"yaxis\":{\"title\":{\"text\":\"y\"}},\"zaxis\":{\"title\":{\"text\":\"z\"}}},\"legend\":{\"title\":{\"text\":\"label\"},\"tracegroupgap\":0},\"title\":{\"text\":\"Quantified Certification phrases (3D)\"}},                        {\"responsive\": true}                    ).then(function(){\n",
              "                            \n",
              "var gd = document.getElementById('ae64bd5f-37ed-41bb-8e5f-70dd398b6942');\n",
              "var x = new MutationObserver(function (mutations, observer) {{\n",
              "        var display = window.getComputedStyle(gd).display;\n",
              "        if (!display || display === 'none') {{\n",
              "            console.log([gd, 'removed!']);\n",
              "            Plotly.purge(gd);\n",
              "            observer.disconnect();\n",
              "        }}\n",
              "}});\n",
              "\n",
              "// Listen for the removal of the full notebook cells\n",
              "var notebookContainer = gd.closest('#notebook-container');\n",
              "if (notebookContainer) {{\n",
              "    x.observe(notebookContainer, {childList: true});\n",
              "}}\n",
              "\n",
              "// Listen for the clearing of the current output cell\n",
              "var outputEl = gd.closest('.output');\n",
              "if (outputEl) {{\n",
              "    x.observe(outputEl, {childList: true});\n",
              "}}\n",
              "\n",
              "                        })                };                            </script>        </div>\n",
              "</body>\n",
              "</html>"
            ]
          },
          "metadata": {}
        }
      ]
    },
    {
      "cell_type": "code",
      "source": [
        "df_transcripts.loc[0]['transcript']"
      ],
      "metadata": {
        "colab": {
          "base_uri": "https://localhost:8080/",
          "height": 122
        },
        "id": "J0pJIGMPZ2Vu",
        "outputId": "c96db10e-545a-412e-e695-bb023bb78d49"
      },
      "execution_count": 26,
      "outputs": [
        {
          "output_type": "execute_result",
          "data": {
            "text/plain": [
              "\"Hello, how are you doing today? I'm here to tell you a little bit about, uh, quantified communications and the quantified platform and how it impacts organizations, who it helps and how it works. So I'll get started off by telling you just a little bit about a high level about, um, the quantified platform. Oh, so the quantified platform is one of the most advanced communication intelligence in AI powered coaching systems. And what does that really mean? So, um, communication coaching is something that is typically delivered one on one between a communication coach who has a, uh, a doctorate or a, um, background and experience in teaching people how to be better communicators and how to express themselves effectively. Um, those coaches would work one-on-one with individuals, um, maybe put their information in front of audiences and see how well they respond. And that can be a very costly process as well as a time consuming. And, um, not always backed by the science of what really drives great communication. So the quantified platform allows all of that to be automated through our AI coaching system. Um, our system empowers, um, uh, is empowered by behavioral science in order to be able to take videos into the system and be able to render exactly how a audience is going to perceive you and provide the communication feedback that you need in order to be, become a better communicator. So that helps you sell more, that helps drive better experiences and improves your external communication with your clients. So how does it work? Um, I touched on that a little bit, um, but let me kind of unpack exactly the science behind it. Um, so we started off with a, a large swath of videos of from fantastic communicators, all the people that you would idolize and wanna be like, and we took those videos and we put them in front of panelists and we scored them to see exactly how well they would perform in front of an audience. So how likable, uh, uh, was that speaker, um, how effective were they at communicating their ideas? You know, were they persuasive? Would you actually buy something from them? Did you wanna listen to them longer? Um, did you find them engaging? These things are innately human in their, um, in how communication elicits a response from us? Those are the types of things that we actually measured and built an algorithm around. So the way that the system works is it, um, uh, you are allowed to record yourself inside the application. Um, we also embed into video conferencing platforms as well. So you can invite a bot into your live meeting conversations if you wish. And we have other integration options as well, including having a role playing conversations inside the application. Um, once we have that, the system analyzes, uh, the video content for the words that you say, so your sentence structure, phrases, um, sentiment analysis, pronoun usage, ver burb tone and usage. Um, how you conduct your face, the microexpressions that you have, um, do you appear happy, calm, angry, and your gestures? Um, you know, part of being an appealing, um, conversationalist is being engaging and have people want to, <laugh> want to listen to you. And, and so all of these things all come together into really, um, defining what makes a great piece of communication. And we use that as our benchmark of how to define that inside of our platform. So when you go into the platform, you're really being measured against the best communicators, as well as our entire community of people using the quantified platforms. So you can see where you are against other, um, roles, similar to yours, other people, similar career paths, and see how you grow and, um, get better from there and to optimize your behavior. So who does it help? Um, it can help everybody, everybody can improve their lives, their personal lives, their professional lives, um, their business contacts, their ability to be able to sell and deliver products, um, through having better communications and being able to effectively deliver your message. This is fantastic for people in leadership programs who are looking to accelerate to senior executive executive positions, uh, who are looking to improve their status inside of an organization, their ability to be a leader and be inspiring, um, as well as entry level people who really want to represent their brand well, they wanna have a great impact on their external customer experience, as well as their internal ones. And this, this whole system can be tailored specifically for an organization so that we identify the key characteristics of your top sales leaders, your top performers, your top leaders, and replicate that across the rest of your organization. So it doesn't come with a one size fits all. It is very specific on thinking about the characteristics and the behavioral patterns and the communication styles of those who are already effective inside your organization and creating the patterns to duplicate that. So depending on, on your brand presence and what you value inside of your organization, that can be replicated at scale. So who's it gonna have the greatest impact on, um, those participating in customer experiences, those communicating with customers directly, um, uh, spending time with members of your team, inspiring them, providing leadership guidance, visibility into the overall vision of an organization. Um, there are so much science out there that says really effective leaders lead from great communication. Um, and we wanna remake those people remarkably better. Everybody can improve their communication and everybody deserves to be a great communicator. Um, we see growth early on in the process. So, um, as people participate in the program, they usually, uh, get about 30% better within their first six weeks to 12 weeks. So there's a huge uptick in ability to be able to become more trustworthy, authentic, credible, um, have better collective performances across your team and across your organization and have that individual growth as a team leader. Um, this is all based on evidence based research and a ton of analytics, which we're all very, very proud of. Uh, so I hope that explains our quantified platform. And I look forward to talking to you again soon. Thank you very much.\""
            ],
            "application/vnd.google.colaboratory.intrinsic+json": {
              "type": "string"
            }
          },
          "metadata": {},
          "execution_count": 26
        }
      ]
    },
    {
      "cell_type": "code",
      "source": [
        "import spacy"
      ],
      "metadata": {
        "id": "x3g9-ozSbEJU"
      },
      "execution_count": 27,
      "outputs": []
    },
    {
      "cell_type": "code",
      "source": [
        "nlp = spacy.load(\"en_core_web_sm\")\n",
        "doc = nlp(df_transcripts.loc[2]['transcript'])\n",
        "list(doc.sents)"
      ],
      "metadata": {
        "colab": {
          "base_uri": "https://localhost:8080/"
        },
        "id": "bM5AEehdbHoo",
        "outputId": "041c2c0b-5703-42f1-df9b-60727928221b"
      },
      "execution_count": 28,
      "outputs": [
        {
          "output_type": "execute_result",
          "data": {
            "text/plain": [
              "[Hi, so upfront caveat, this is going to be terrible.,\n",
              " Um, personally, I need days to craft elegant wording, uh, and then more days to practice delivering that message.,\n",
              " Um, and instead I'm extemporizing and so this is gonna read much more like a hostage video than marketing material that said dive in.,\n",
              " So what is quantified, uh, quantified is the most advanced conversation intelligence and AI powered coaching platform, a software platform that helps people reach their potential, uh, for communicating and connecting empowered by behavioral science, which uses artificial intelligence to drive performance outcomes for customer facing teams, uh, which helps them sell more, which helps them deliver better experiences.,\n",
              " How does it work?,\n",
              " Um, it is integrated into video conference platforms in which you record yourself, uh, or respond to prompts with fun and realistic experiences.,\n",
              " Um, that's all we need you to do, uh, have conversations like the types you have every day.,\n",
              " We've built technology that looks at the words that you say, uh, what you do with your voice, your face, your gestures, simple input create, and we create benchmarking, scoring feedback, personalized guidance, and understand how you come across and relay to you how you're doing, uh, how you can get better coach you using in artificial intelligence as if the world's best communication coach.,\n",
              " We're sitting there with you in every one of your conversations, uh, telling you how to get better and telling you how to optimize your behavior.,\n",
              " So who does it help?,\n",
              " Uh, it helps everyone that is having conversations, whether you're an entry level person or the most senior executive, the most powerful group that we can help our customer facing teams, sales teams, customer service teams, customer support, and customer success teams, anyone who is talking to the customer as a core part of their day to day job, uh, words that they use, the way that they present themselves, how they come across has an impact on the performance outcomes of the organization, giving coaching to them, coaching at scale that is standardized and scientific.,\n",
              " It's hard to find time for managers to coach, and it is hard for us to give feedback.,\n",
              " It's hard for people to feel empowered, to work on something that is personal and private in a safe space.,\n",
              " Uh, how can it have the greatest impact, uh, customer experience communicating with the customer, spending time spending a lot of time, communicating with other members of your team, internal communication and external communication.,\n",
              " Uh, we wanna make you remarkably better.,\n",
              " We want to make you extraordinary at that behavior.,\n",
              " Uh, that's meant to be learned along the way.,\n",
              " Uh, no one at work can stop you for six months, 12 months, 18 months helping you become exceptional.,\n",
              " This is your leadership journey.,\n",
              " This is the most important skill for you.,\n",
              " They don't have the time and they don't know how to do it.,\n",
              " We can provide intentional guidance and deliver that on a personal basis for every single member of your organization that faces the customer.,\n",
              " Um, make them 30% better at connecting with other people, measured by evidence based research, uh, the impact that could have on individual performance and your individual growth as a leader, collective performance of the teams in the organization, uh, and make you perceived as trustworthy, authentic, and credible, uh, and improves how you connect.]"
            ]
          },
          "metadata": {},
          "execution_count": 28
        }
      ]
    },
    {
      "cell_type": "code",
      "source": [
        "import numpy as np\n",
        "from numpy.linalg import norm"
      ],
      "metadata": {
        "id": "UgiYO-VaHVtA"
      },
      "execution_count": 37,
      "outputs": []
    },
    {
      "cell_type": "code",
      "source": [
        "phrases_embeddings = df_phrases[[\"embedding\"]].values\n",
        "phrases_embeddings.shape"
      ],
      "metadata": {
        "colab": {
          "base_uri": "https://localhost:8080/"
        },
        "id": "-J2kTMBuHdj7",
        "outputId": "98a0908c-9444-4552-a6f8-d4475f1e0bef"
      },
      "execution_count": 65,
      "outputs": [
        {
          "output_type": "execute_result",
          "data": {
            "text/plain": [
              "(64, 1)"
            ]
          },
          "metadata": {},
          "execution_count": 65
        }
      ]
    },
    {
      "cell_type": "code",
      "source": [
        "type(df_phrases.at[0, 'embedding'])"
      ],
      "metadata": {
        "colab": {
          "base_uri": "https://localhost:8080/"
        },
        "id": "OzLTDlB1OCDp",
        "outputId": "ec74918f-47d8-49d4-f02a-b306cd2cfac5"
      },
      "execution_count": 82,
      "outputs": [
        {
          "output_type": "execute_result",
          "data": {
            "text/plain": [
              "list"
            ]
          },
          "metadata": {},
          "execution_count": 82
        }
      ]
    },
    {
      "cell_type": "code",
      "source": [
        "import numpy as np\n",
        "from numpy.linalg import norm\n",
        "\n",
        "a = np.array([ np.array(value[0]) for value in df_phrases[[\"embedding\"]].values ])\n",
        "\n",
        "print(f\"a:{a.shape}\")"
      ],
      "metadata": {
        "colab": {
          "base_uri": "https://localhost:8080/"
        },
        "id": "HQ8U3rIKJF2m",
        "outputId": "29176143-3fad-4c20-bdc2-08f0aef3e29f"
      },
      "execution_count": 89,
      "outputs": [
        {
          "output_type": "stream",
          "name": "stdout",
          "text": [
            "a:(64, 12288)\n"
          ]
        }
      ]
    },
    {
      "cell_type": "code",
      "source": [
        "b = np.array(df_phrases.at[44, 'embedding'])\n",
        "\n",
        "cosine = np.dot(a,b)/(norm(a, axis=1)*norm(b))\n",
        "print(\"Cosine Similarity:\\n\", cosine)"
      ],
      "metadata": {
        "colab": {
          "base_uri": "https://localhost:8080/"
        },
        "id": "lRhmBWefZ3q8",
        "outputId": "f72c71ea-547c-4738-f69f-80119c878d19"
      },
      "execution_count": 99,
      "outputs": [
        {
          "output_type": "stream",
          "name": "stdout",
          "text": [
            "Cosine Similarity:\n",
            " [0.63291905 0.71119643 0.76600344 0.75838243 0.74709506 0.6841239\n",
            " 0.74884234 0.72057541 0.68272436 0.72409076 0.73043986 0.70272559\n",
            " 0.71142111 0.70055694 0.75481309 0.71362931 0.80423701 0.80402681\n",
            " 0.77673815 0.77777488 0.78883116 0.76859927 0.74407837 0.7324718\n",
            " 0.76340525 0.70304523 0.65241871 0.74636144 0.73697883 0.79221179\n",
            " 0.72403717 0.71342757 0.67599985 0.65503028 0.68514939 0.68376029\n",
            " 0.70828598 0.77416911 0.68672298 0.69293376 0.69466169 0.65849629\n",
            " 0.80533878 0.78029426 1.         0.83089543 0.77405214 0.75014906\n",
            " 0.71469734 0.72415817 0.73380653 0.64737821 0.7853971  0.72692577\n",
            " 0.70100115 0.74472761 0.64986644 0.70312394 0.73223021 0.71782126\n",
            " 0.74252323 0.71580584 0.68306556 0.76366145]\n"
          ]
        }
      ]
    },
    {
      "cell_type": "code",
      "source": [
        "b = np.array(df_phrases.at[45, 'embedding'])\n",
        "\n",
        "cosine = np.dot(a,b)/(norm(a, axis=1)*norm(b))\n",
        "print(\"Cosine Similarity:\\n\", cosine)"
      ],
      "metadata": {
        "colab": {
          "base_uri": "https://localhost:8080/"
        },
        "id": "F0dsTCs0b0pr",
        "outputId": "56fbc6ad-25e9-4b19-fc55-0a2646032fa7"
      },
      "execution_count": 100,
      "outputs": [
        {
          "output_type": "stream",
          "name": "stdout",
          "text": [
            "Cosine Similarity:\n",
            " [0.68167521 0.71867767 0.85514195 0.72858584 0.72274773 0.7008403\n",
            " 0.72733545 0.71909424 0.72948085 0.68511418 0.70803147 0.65520734\n",
            " 0.73507779 0.69075684 0.7338934  0.71879783 0.70717346 0.72289735\n",
            " 0.68758453 0.71928776 0.71772456 0.71260493 0.73751113 0.73066028\n",
            " 0.71058241 0.70396313 0.72393609 0.72020632 0.72884403 0.8057099\n",
            " 0.67010964 0.71393412 0.70261173 0.6751754  0.7381613  0.71505573\n",
            " 0.71512079 0.72940563 0.71184324 0.69342766 0.69062695 0.67596789\n",
            " 0.74254463 0.81811895 0.83089543 1.         0.73481554 0.83284762\n",
            " 0.70509842 0.72507719 0.70132098 0.65402026 0.73449122 0.72513215\n",
            " 0.68221403 0.70905441 0.6883596  0.72385682 0.71572528 0.69799928\n",
            " 0.70980707 0.72229069 0.71366388 0.77221938]\n"
          ]
        }
      ]
    },
    {
      "cell_type": "code",
      "source": [
        "df_sentences = pd.DataFrame(columns=['id', 'line', 'sentence', 'embedding'])\n",
        "print(df_sentences)\n",
        "\n",
        "for i, row in df_transcripts.iterrows():\n",
        "    print(f'Calculating sentences for [{ row[\"id\"] }] {row[\"transcript\"][:120]}...')\n",
        "    doc = nlp(row['transcript'])\n",
        "    for idx, x in enumerate(list(doc.sents)):\n",
        "      # print(row[\"id\"], idx + 1, x)\n",
        "      # Calculate embedding\n",
        "      time.sleep(2)\n",
        "      print(f'Calculating embedding for {x}...')\n",
        "      response = openai.Embedding.create(\n",
        "        input=x.text,\n",
        "        engine=\"text-similarity-davinci-001\"\n",
        "      )\n",
        "      embedding = response['data'][0]['embedding']\n",
        "      # Create new row\n",
        "      new_row = {\n",
        "        'id': row[\"id\"],\n",
        "        'line': idx + 1,\n",
        "        'sentence': x.text,\n",
        "        'embedding': embedding\n",
        "      }\n",
        "      df_sentences = df_sentences.append(new_row, ignore_index=True)\n",
        "\n",
        "df_sentences.head()"
      ],
      "metadata": {
        "colab": {
          "base_uri": "https://localhost:8080/",
          "height": 1000
        },
        "id": "g2NKDSMadTHU",
        "outputId": "527c0f8f-b8c3-4636-c4cc-1120b0cf9aaa"
      },
      "execution_count": 118,
      "outputs": [
        {
          "output_type": "stream",
          "name": "stdout",
          "text": [
            "Empty DataFrame\n",
            "Columns: [id, line, sentence, embedding]\n",
            "Index: []\n",
            "Calculating sentences for [1d43516c-dbbd-4446-bce4-f9b6f7a24c17] Hello, how are you doing today? I'm here to tell you a little bit about, uh, quantified communications and the quantifie...\n",
            "Calculating embedding for Hello, how are you doing today?...\n",
            "Calculating embedding for I'm here to tell you a little bit about, uh, quantified communications and the quantified platform and how it impacts organizations, who it helps and how it works....\n",
            "Calculating embedding for So I'll get started off by telling you just a little bit about a high level about, um, the quantified platform....\n",
            "Calculating embedding for Oh, so the quantified platform is one of the most advanced communication intelligence in AI powered coaching systems....\n",
            "Calculating embedding for And what does that really mean?...\n",
            "Calculating embedding for So, um, communication coaching is something that is typically delivered one on one between a communication coach who has a, uh, a doctorate or a, um, background and experience in teaching people how to be better communicators and how to express themselves effectively....\n",
            "Calculating embedding for Um, those coaches would work one-on-one with individuals, um, maybe put their information in front of audiences and see how well they respond....\n",
            "Calculating embedding for And that can be a very costly process as well as a time consuming....\n",
            "Calculating embedding for And, um, not always backed by the science of what really drives great communication....\n",
            "Calculating embedding for So the quantified platform allows all of that to be automated through our AI coaching system....\n",
            "Calculating embedding for Um, our system empowers, um, uh, is empowered by behavioral science in order to be able to take videos into the system and be able to render exactly how a audience is going to perceive you and provide the communication feedback that you need in order to be, become a better communicator....\n",
            "Calculating embedding for So that helps you sell more, that helps drive better experiences and improves your external communication with your clients....\n",
            "Calculating embedding for So how does it work?...\n",
            "Calculating embedding for Um, I touched on that a little bit, um, but let me kind of unpack exactly the science behind it....\n",
            "Calculating embedding for Um, so we started off with a, a large swath of videos of from fantastic communicators, all the people that you would idolize and wanna be like, and we took those videos and we put them in front of panelists and we scored them to see exactly how well they would perform in front of an audience....\n",
            "Calculating embedding for So how likable, uh, uh, was that speaker, um, how effective were they at communicating their ideas?...\n",
            "Calculating embedding for You know, were they persuasive?...\n",
            "Calculating embedding for Would you actually buy something from them?...\n",
            "Calculating embedding for Did you wanna listen to them longer?...\n",
            "Calculating embedding for Um, did you find them engaging?...\n",
            "Calculating embedding for These things are innately human in their, um, in how communication elicits a response from us?...\n",
            "Calculating embedding for Those are the types of things that we actually measured and built an algorithm around....\n",
            "Calculating embedding for So the way that the system works is it, um, uh, you are allowed to record yourself inside the application....\n",
            "Calculating embedding for Um, we also embed into video conferencing platforms as well....\n",
            "Calculating embedding for So you can invite a bot into your live meeting conversations if you wish....\n",
            "Calculating embedding for And we have other integration options as well, including having a role playing conversations inside the application....\n",
            "Calculating embedding for Um, once we have that, the system analyzes, uh, the video content for the words that you say, so your sentence structure, phrases, um, sentiment analysis, pronoun usage, ver burb tone and usage....\n",
            "Calculating embedding for Um, how you conduct your face, the microexpressions that you have, um, do you appear happy, calm, angry, and your gestures?...\n",
            "Calculating embedding for Um, you know, part of being an appealing, um, conversationalist is being engaging and have people want to, <laugh> want to listen to you....\n",
            "Calculating embedding for And, and so all of these things all come together into really, um, defining what makes a great piece of communication....\n",
            "Calculating embedding for And we use that as our benchmark of how to define that inside of our platform....\n",
            "Calculating embedding for So when you go into the platform, you're really being measured against the best communicators, as well as our entire community of people using the quantified platforms....\n",
            "Calculating embedding for So you can see where you are against other, um, roles, similar to yours, other people, similar career paths, and see how you grow and, um, get better from there and to optimize your behavior....\n",
            "Calculating embedding for So who does it help?...\n",
            "Calculating embedding for Um, it can help everybody, everybody can improve their lives, their personal lives, their professional lives, um, their business contacts, their ability to be able to sell and deliver products, um, through having better communications and being able to effectively deliver your message....\n",
            "Calculating embedding for This is fantastic for people in leadership programs who are looking to accelerate to senior executive executive positions, uh, who are looking to improve their status inside of an organization, their ability to be a leader and be inspiring, um, as well as entry level people who really want to represent their brand well, they wanna have a great impact on their external customer experience, as well as their internal ones....\n",
            "Calculating embedding for And this, this whole system can be tailored specifically for an organization so that we identify the key characteristics of your top sales leaders, your top performers, your top leaders, and replicate that across the rest of your organization....\n",
            "Calculating embedding for So it doesn't come with a one size fits all....\n",
            "Calculating embedding for It is very specific on thinking about the characteristics and the behavioral patterns and the communication styles of those who are already effective inside your organization and creating the patterns to duplicate that....\n",
            "Calculating embedding for So depending on, on your brand presence and what you value inside of your organization, that can be replicated at scale....\n",
            "Calculating embedding for So who's it gonna have the greatest impact on, um, those participating in customer experiences, those communicating with customers directly, um, uh, spending time with members of your team, inspiring them, providing leadership guidance, visibility into the overall vision of an organization....\n",
            "Calculating embedding for Um, there are so much science out there that says really effective leaders lead from great communication....\n",
            "Calculating embedding for Um, and we wanna remake those people remarkably better....\n",
            "Calculating embedding for Everybody can improve their communication and everybody deserves to be a great communicator....\n",
            "Calculating embedding for Um, we see growth early on in the process....\n",
            "Calculating embedding for So, um, as people participate in the program, they usually, uh, get about 30% better within their first six weeks to 12 weeks....\n",
            "Calculating embedding for So there's a huge uptick in ability to be able to become more trustworthy, authentic, credible, um, have better collective performances across your team and across your organization and have that individual growth as a team leader....\n",
            "Calculating embedding for Um, this is all based on evidence based research and a ton of analytics, which we're all very, very proud of....\n",
            "Calculating embedding for Uh, so I hope that explains our quantified platform....\n",
            "Calculating embedding for And I look forward to talking to you again soon....\n",
            "Calculating embedding for Thank you very much....\n",
            "Calculating sentences for [7044432d-a8c0-4399-bc07-2b6d296e94b4] Hi, everybody. I'm really excited to be first here to try this out. Not only do I get to go first and be the Guinea pig,...\n",
            "Calculating embedding for Hi, everybody....\n",
            "Calculating embedding for I'm really excited to be first here to try this out....\n",
            "Calculating embedding for Not only do I get to go first and be the Guinea pig, but I also know that I will be first on the leaderboard....\n",
            "Calculating embedding for So tell me about quantified....\n",
            "Calculating embedding for What is it exactly quantified is an AI powered coaching platform....\n",
            "Calculating embedding for We are here to make people remarkably better communicators by combining behavioral science, artificial intelligence, and experiential learning to give them the experience of what the world's best communication coach would do with them....\n",
            "Calculating embedding for If they were sitting with them in every single conversation they had, we know that through our intelligence insights feedback, and we can help people go from not knowing where they stand, when it comes to being how they communicate to becoming exceptional, confident, and inspirational in the way that they communicate, build relationships and succeed professionally in their career....\n",
            "Calculating embedding for So how does it work?...\n",
            "Calculating embedding for Quantified works by 10, the behaviors that you do, what you do with your voice, your face, your gestures, and your words, and understanding how that an audience is going to react to that we have essentially built a audience digital twin that predicts how people are going to respond to you when you speak....\n",
            "Calculating embedding for And the technology behind that is really complex, but what's important is the experience is actually pretty simple....\n",
            "Calculating embedding for We just need a video....\n",
            "Calculating embedding for So we need a three minute video from you....\n",
            "Calculating embedding for From those three minutes, we pull out 1400 behaviors and predict audience preference, give you feedback, give you coaching, give you guidance and support your learning journey....\n",
            "Calculating embedding for So you can go from where you are today to being exceptional in the way that you communicate and speak....\n",
            "Calculating embedding for Who's helped most by quantified....\n",
            "Calculating embedding for Well, everybody communicates all day as part of their jobs....\n",
            "Calculating embedding for We actually study that 80% of your time at work is spent communicating....\n",
            "Calculating embedding for So who's helped most anyone that talks to customers, anyone that talks to other team members, anyone that talks to people for a living is going to be helped the most, really the more that you communicate as a critical component of your job, the more you're gonna be helped....\n",
            "Calculating embedding for Finally, how can quantified have the greatest impact on my organization?...\n",
            "Calculating embedding for Well, my organization is quantified, so that's a little bit of a strange answer for me, but, you know, I think directly even what we do for our customers is really important for us, right?...\n",
            "Calculating embedding for Have to represent that we have to represent effective communication to each other and to our clients....\n",
            "Calculating embedding for And so quantified becoming an exceptional communicator, supporting each other and teaching teaching what great coaching looks like is something that every organization can benefit, certainly including us....\n",
            "Calculating embedding for And so I'm excited to bring this knowledge and this program to our ourselves and, um, you know, I'm really excited to kick it off....\n",
            "Calculating embedding for Uh, thank you for allowing me to be first here and let's see how these scores come out....\n",
            "Calculating embedding for Bye....\n",
            "Calculating sentences for [ac3e9fa0-096e-43b0-8adf-d9a3a4ce2a65] Hi, so upfront caveat, this is going to be terrible. Um, personally, I need days to craft elegant wording, uh, and then ...\n",
            "Calculating embedding for Hi, so upfront caveat, this is going to be terrible....\n",
            "Calculating embedding for Um, personally, I need days to craft elegant wording, uh, and then more days to practice delivering that message....\n",
            "Calculating embedding for Um, and instead I'm extemporizing and so this is gonna read much more like a hostage video than marketing material that said dive in....\n",
            "Calculating embedding for So what is quantified, uh, quantified is the most advanced conversation intelligence and AI powered coaching platform, a software platform that helps people reach their potential, uh, for communicating and connecting empowered by behavioral science, which uses artificial intelligence to drive performance outcomes for customer facing teams, uh, which helps them sell more, which helps them deliver better experiences....\n",
            "Calculating embedding for How does it work?...\n",
            "Calculating embedding for Um, it is integrated into video conference platforms in which you record yourself, uh, or respond to prompts with fun and realistic experiences....\n",
            "Calculating embedding for Um, that's all we need you to do, uh, have conversations like the types you have every day....\n",
            "Calculating embedding for We've built technology that looks at the words that you say, uh, what you do with your voice, your face, your gestures, simple input create, and we create benchmarking, scoring feedback, personalized guidance, and understand how you come across and relay to you how you're doing, uh, how you can get better coach you using in artificial intelligence as if the world's best communication coach....\n",
            "Calculating embedding for We're sitting there with you in every one of your conversations, uh, telling you how to get better and telling you how to optimize your behavior....\n",
            "Calculating embedding for So who does it help?...\n",
            "Calculating embedding for Uh, it helps everyone that is having conversations, whether you're an entry level person or the most senior executive, the most powerful group that we can help our customer facing teams, sales teams, customer service teams, customer support, and customer success teams, anyone who is talking to the customer as a core part of their day to day job, uh, words that they use, the way that they present themselves, how they come across has an impact on the performance outcomes of the organization, giving coaching to them, coaching at scale that is standardized and scientific....\n",
            "Calculating embedding for It's hard to find time for managers to coach, and it is hard for us to give feedback....\n",
            "Calculating embedding for It's hard for people to feel empowered, to work on something that is personal and private in a safe space....\n",
            "Calculating embedding for Uh, how can it have the greatest impact, uh, customer experience communicating with the customer, spending time spending a lot of time, communicating with other members of your team, internal communication and external communication....\n",
            "Calculating embedding for Uh, we wanna make you remarkably better....\n",
            "Calculating embedding for We want to make you extraordinary at that behavior....\n",
            "Calculating embedding for Uh, that's meant to be learned along the way....\n",
            "Calculating embedding for Uh, no one at work can stop you for six months, 12 months, 18 months helping you become exceptional....\n",
            "Calculating embedding for This is your leadership journey....\n",
            "Calculating embedding for This is the most important skill for you....\n",
            "Calculating embedding for They don't have the time and they don't know how to do it....\n",
            "Calculating embedding for We can provide intentional guidance and deliver that on a personal basis for every single member of your organization that faces the customer....\n",
            "Calculating embedding for Um, make them 30% better at connecting with other people, measured by evidence based research, uh, the impact that could have on individual performance and your individual growth as a leader, collective performance of the teams in the organization, uh, and make you perceived as trustworthy, authentic, and credible, uh, and improves how you connect....\n",
            "Calculating sentences for [aea90db1-1d9b-4bc7-9946-88f6417b176b] My name's Johnny, thank you all so much for taking the time to chat with me today. I kinda wanna just to introduce, quan...\n",
            "Calculating embedding for My name's Johnny, thank you all so much for taking the time to chat with me today....\n",
            "Calculating embedding for I kinda wanna just to introduce, quantify, kind of give an overview of who we are and what problems we're trying to seek to solve here....\n",
            "Calculating embedding for So I'm gonna do this by simply answering four questions....\n",
            "Calculating embedding for The first of how does it work?...\n",
            "Calculating embedding for Who does it help, who can have the greatest impact?...\n",
            "Calculating embedding for Um, and by answering these questions, I think each of you will have a better understanding of who we are here at quantified....\n",
            "Calculating embedding for So just to get started, we are the most advanced conversations, intelligence and AI powered coaching platform....\n",
            "Calculating embedding for We're a software platform that helps people reach their utmost potential and for communicating and connecting with one another, we are empowered by behavioral research and science....\n",
            "Calculating embedding for So know that everything that we do is backed up by specific science and behavioral research....\n",
            "Calculating embedding for And we use a component of our artificial intelligence that really drives performance outcomes....\n",
            "Calculating embedding for And to customer facing teams, we help, for example, sales teams sell more....\n",
            "Calculating embedding for That's a, an ROI that we're able to capture and we help everyone just deliver overall better experiences to anyone that they're in con...\n",
            "Calculating embedding for um, connection with how does it work?...\n",
            "Calculating embedding for So there's a couple of ways that we can actually give you your objective, personalized feedback....\n",
            "Calculating embedding for One of which is having a video, um, conference platform integrated into your, um, everyday workflow....\n",
            "Calculating embedding for So things like zoom or teams, we can actually do real life, um, analysis there....\n",
            "Calculating embedding for Alternatively, you can record yourself....\n",
            "Calculating embedding for Um, we always try to give prompts with fun and realistic experiences, and that's all that we'll need to do have conversations like the types you have every day....\n",
            "Calculating embedding for And we've built that technology that looks at the words that you say, what you do with your voice, your face, your gestures, simple input, and we create benchmarks....\n",
            "Calculating embedding for That's able to give you that scoring feedback and that personalized guidance for you to be able to improve going forward....\n",
            "Calculating embedding for So you'll have a good understanding of how you come across a relay back to exactly how you're doing, how you can get better....\n",
            "Calculating embedding for Um, and coach you using that artificial intelligence....\n",
            "Calculating embedding for It's able to give you that objective feedback....\n",
            "Calculating embedding for It's gonna be exactly as if you have the world's best communications coach was sitting, um, there with you in every one of your conversations, telling you how to get better and telling you how to optimize your behavior, who does it help?...\n",
            "Calculating embedding for So literally anyone that has conversations, if you're an entry level person, um, or if you're the most senior executive, you will benefit from our platform, the most powerful group that we can help our customer facing teams, that's sales teams, customer service teams, customer support, and customer success team....\n",
            "Calculating embedding for Literally anyone who is ha, who is talking to customer has a core part of their day to day job....\n",
            "Calculating embedding for The words that they use, the way that they present themselves, how they come across, um, that's exactly what we're going to look at and be able to give them coaching, um, based off of their daily interactions....\n",
            "Calculating embedding for Um, coaching them at a scale is the standardized and scientific....\n",
            "Calculating embedding for And it's hard to find time for managers to coach, right?...\n",
            "Calculating embedding for So this is something that they're able to do whenever they need to prep for a conversation or, um, in their daily meetings as well....\n",
            "Calculating embedding for It's hard for people to feel empowered, to work on something that is personal and private....\n",
            "Calculating embedding for So this gives everyone a safe space to really work on something that's so impactful and so crucial to their day to day job functions....\n",
            "Calculating embedding for So how can it have the greatest impact customer experience, right?...\n",
            "Calculating embedding for This is going to elevate the way, um, that individuals are communicating with the customer....\n",
            "Calculating embedding for It's allowing them to spend time on things that matters and impact their overall skillset....\n",
            "Calculating embedding for We spend 80% of our time communicating....\n",
            "Calculating embedding for Um, so it's something that we need to work on and progress forward with either other, um, members of your team, internal communication, external communication....\n",
            "Calculating embedding for We just want to make you remarkably better, right?...\n",
            "Calculating embedding for We want to make your ex, we want to make the conversations that you're having extraordinary meant to be....\n",
            "Calculating embedding for This is meant to be learning along the way, right?...\n",
            "Calculating embedding for Just like anything else that you do in life practice makes perfect....\n",
            "Calculating embedding for And this is no exception to that....\n",
            "Calculating embedding for Um, this is going to help prompt you in your leadership journey....\n",
            "Calculating embedding for This is the most important skill right now for you....\n",
            "Calculating embedding for Um, and that's how you're going to be able to perfect and move, um, forward....\n",
            "Calculating embedding for And through a year of using our platform, we're looking at 30% better at connecting with other people, um, and measured by evidence based research, which is absolutely amazing....\n"
          ]
        },
        {
          "output_type": "execute_result",
          "data": {
            "text/plain": [
              "                                     id line  \\\n",
              "0  1d43516c-dbbd-4446-bce4-f9b6f7a24c17    1   \n",
              "1  1d43516c-dbbd-4446-bce4-f9b6f7a24c17    2   \n",
              "2  1d43516c-dbbd-4446-bce4-f9b6f7a24c17    3   \n",
              "3  1d43516c-dbbd-4446-bce4-f9b6f7a24c17    4   \n",
              "4  1d43516c-dbbd-4446-bce4-f9b6f7a24c17    5   \n",
              "\n",
              "                                            sentence  \\\n",
              "0                    Hello, how are you doing today?   \n",
              "1  I'm here to tell you a little bit about, uh, q...   \n",
              "2  So I'll get started off by telling you just a ...   \n",
              "3  Oh, so the quantified platform is one of the m...   \n",
              "4                    And what does that really mean?   \n",
              "\n",
              "                                           embedding  \n",
              "0  [-0.003950469195842743, 0.015000976622104645, ...  \n",
              "1  [-0.009600087068974972, 0.002050349721685052, ...  \n",
              "2  [-0.009551599621772766, 0.0032257316634058952,...  \n",
              "3  [-0.003871886758133769, 0.004901846870779991, ...  \n",
              "4  [-0.009942175820469856, 0.01378173753619194, -...  "
            ],
            "text/html": [
              "\n",
              "  <div id=\"df-fb64c7a5-6d2a-461b-83a4-faaa1a2ea055\">\n",
              "    <div class=\"colab-df-container\">\n",
              "      <div>\n",
              "<style scoped>\n",
              "    .dataframe tbody tr th:only-of-type {\n",
              "        vertical-align: middle;\n",
              "    }\n",
              "\n",
              "    .dataframe tbody tr th {\n",
              "        vertical-align: top;\n",
              "    }\n",
              "\n",
              "    .dataframe thead th {\n",
              "        text-align: right;\n",
              "    }\n",
              "</style>\n",
              "<table border=\"1\" class=\"dataframe\">\n",
              "  <thead>\n",
              "    <tr style=\"text-align: right;\">\n",
              "      <th></th>\n",
              "      <th>id</th>\n",
              "      <th>line</th>\n",
              "      <th>sentence</th>\n",
              "      <th>embedding</th>\n",
              "    </tr>\n",
              "  </thead>\n",
              "  <tbody>\n",
              "    <tr>\n",
              "      <th>0</th>\n",
              "      <td>1d43516c-dbbd-4446-bce4-f9b6f7a24c17</td>\n",
              "      <td>1</td>\n",
              "      <td>Hello, how are you doing today?</td>\n",
              "      <td>[-0.003950469195842743, 0.015000976622104645, ...</td>\n",
              "    </tr>\n",
              "    <tr>\n",
              "      <th>1</th>\n",
              "      <td>1d43516c-dbbd-4446-bce4-f9b6f7a24c17</td>\n",
              "      <td>2</td>\n",
              "      <td>I'm here to tell you a little bit about, uh, q...</td>\n",
              "      <td>[-0.009600087068974972, 0.002050349721685052, ...</td>\n",
              "    </tr>\n",
              "    <tr>\n",
              "      <th>2</th>\n",
              "      <td>1d43516c-dbbd-4446-bce4-f9b6f7a24c17</td>\n",
              "      <td>3</td>\n",
              "      <td>So I'll get started off by telling you just a ...</td>\n",
              "      <td>[-0.009551599621772766, 0.0032257316634058952,...</td>\n",
              "    </tr>\n",
              "    <tr>\n",
              "      <th>3</th>\n",
              "      <td>1d43516c-dbbd-4446-bce4-f9b6f7a24c17</td>\n",
              "      <td>4</td>\n",
              "      <td>Oh, so the quantified platform is one of the m...</td>\n",
              "      <td>[-0.003871886758133769, 0.004901846870779991, ...</td>\n",
              "    </tr>\n",
              "    <tr>\n",
              "      <th>4</th>\n",
              "      <td>1d43516c-dbbd-4446-bce4-f9b6f7a24c17</td>\n",
              "      <td>5</td>\n",
              "      <td>And what does that really mean?</td>\n",
              "      <td>[-0.009942175820469856, 0.01378173753619194, -...</td>\n",
              "    </tr>\n",
              "  </tbody>\n",
              "</table>\n",
              "</div>\n",
              "      <button class=\"colab-df-convert\" onclick=\"convertToInteractive('df-fb64c7a5-6d2a-461b-83a4-faaa1a2ea055')\"\n",
              "              title=\"Convert this dataframe to an interactive table.\"\n",
              "              style=\"display:none;\">\n",
              "        \n",
              "  <svg xmlns=\"http://www.w3.org/2000/svg\" height=\"24px\"viewBox=\"0 0 24 24\"\n",
              "       width=\"24px\">\n",
              "    <path d=\"M0 0h24v24H0V0z\" fill=\"none\"/>\n",
              "    <path d=\"M18.56 5.44l.94 2.06.94-2.06 2.06-.94-2.06-.94-.94-2.06-.94 2.06-2.06.94zm-11 1L8.5 8.5l.94-2.06 2.06-.94-2.06-.94L8.5 2.5l-.94 2.06-2.06.94zm10 10l.94 2.06.94-2.06 2.06-.94-2.06-.94-.94-2.06-.94 2.06-2.06.94z\"/><path d=\"M17.41 7.96l-1.37-1.37c-.4-.4-.92-.59-1.43-.59-.52 0-1.04.2-1.43.59L10.3 9.45l-7.72 7.72c-.78.78-.78 2.05 0 2.83L4 21.41c.39.39.9.59 1.41.59.51 0 1.02-.2 1.41-.59l7.78-7.78 2.81-2.81c.8-.78.8-2.07 0-2.86zM5.41 20L4 18.59l7.72-7.72 1.47 1.35L5.41 20z\"/>\n",
              "  </svg>\n",
              "      </button>\n",
              "      \n",
              "  <style>\n",
              "    .colab-df-container {\n",
              "      display:flex;\n",
              "      flex-wrap:wrap;\n",
              "      gap: 12px;\n",
              "    }\n",
              "\n",
              "    .colab-df-convert {\n",
              "      background-color: #E8F0FE;\n",
              "      border: none;\n",
              "      border-radius: 50%;\n",
              "      cursor: pointer;\n",
              "      display: none;\n",
              "      fill: #1967D2;\n",
              "      height: 32px;\n",
              "      padding: 0 0 0 0;\n",
              "      width: 32px;\n",
              "    }\n",
              "\n",
              "    .colab-df-convert:hover {\n",
              "      background-color: #E2EBFA;\n",
              "      box-shadow: 0px 1px 2px rgba(60, 64, 67, 0.3), 0px 1px 3px 1px rgba(60, 64, 67, 0.15);\n",
              "      fill: #174EA6;\n",
              "    }\n",
              "\n",
              "    [theme=dark] .colab-df-convert {\n",
              "      background-color: #3B4455;\n",
              "      fill: #D2E3FC;\n",
              "    }\n",
              "\n",
              "    [theme=dark] .colab-df-convert:hover {\n",
              "      background-color: #434B5C;\n",
              "      box-shadow: 0px 1px 3px 1px rgba(0, 0, 0, 0.15);\n",
              "      filter: drop-shadow(0px 1px 2px rgba(0, 0, 0, 0.3));\n",
              "      fill: #FFFFFF;\n",
              "    }\n",
              "  </style>\n",
              "\n",
              "      <script>\n",
              "        const buttonEl =\n",
              "          document.querySelector('#df-fb64c7a5-6d2a-461b-83a4-faaa1a2ea055 button.colab-df-convert');\n",
              "        buttonEl.style.display =\n",
              "          google.colab.kernel.accessAllowed ? 'block' : 'none';\n",
              "\n",
              "        async function convertToInteractive(key) {\n",
              "          const element = document.querySelector('#df-fb64c7a5-6d2a-461b-83a4-faaa1a2ea055');\n",
              "          const dataTable =\n",
              "            await google.colab.kernel.invokeFunction('convertToInteractive',\n",
              "                                                     [key], {});\n",
              "          if (!dataTable) return;\n",
              "\n",
              "          const docLinkHtml = 'Like what you see? Visit the ' +\n",
              "            '<a target=\"_blank\" href=https://colab.research.google.com/notebooks/data_table.ipynb>data table notebook</a>'\n",
              "            + ' to learn more about interactive tables.';\n",
              "          element.innerHTML = '';\n",
              "          dataTable['output_type'] = 'display_data';\n",
              "          await google.colab.output.renderOutput(dataTable, element);\n",
              "          const docLink = document.createElement('div');\n",
              "          docLink.innerHTML = docLinkHtml;\n",
              "          element.appendChild(docLink);\n",
              "        }\n",
              "      </script>\n",
              "    </div>\n",
              "  </div>\n",
              "  "
            ]
          },
          "metadata": {},
          "execution_count": 118
        }
      ]
    },
    {
      "cell_type": "code",
      "source": [
        "df_sentences.shape"
      ],
      "metadata": {
        "colab": {
          "base_uri": "https://localhost:8080/"
        },
        "id": "BOjwQ5PosTCY",
        "outputId": "6c3d1290-1395-4b24-9150-20da01c59b1b"
      },
      "execution_count": 113,
      "outputs": [
        {
          "output_type": "execute_result",
          "data": {
            "text/plain": [
              "(145, 4)"
            ]
          },
          "metadata": {},
          "execution_count": 113
        }
      ]
    },
    {
      "cell_type": "code",
      "source": [
        "!pip install pickle5"
      ],
      "metadata": {
        "id": "hm38KK3wy1Im",
        "outputId": "513f0701-0448-4770-ac24-9a570ab144b7",
        "colab": {
          "base_uri": "https://localhost:8080/"
        }
      },
      "execution_count": 114,
      "outputs": [
        {
          "output_type": "stream",
          "name": "stdout",
          "text": [
            "Looking in indexes: https://pypi.org/simple, https://us-python.pkg.dev/colab-wheels/public/simple/\n",
            "Collecting pickle5\n",
            "  Downloading pickle5-0.0.12-cp37-cp37m-manylinux_2_5_x86_64.manylinux1_x86_64.whl (256 kB)\n",
            "\u001b[K     |████████████████████████████████| 256 kB 2.1 MB/s \n",
            "\u001b[?25hInstalling collected packages: pickle5\n",
            "Successfully installed pickle5-0.0.12\n"
          ]
        }
      ]
    },
    {
      "cell_type": "code",
      "source": [
        "import pickle5 as pickle\n",
        "\n",
        "df_phrases_path = './df_phrases.pkl'\n",
        "df_phrases.to_pickle(df_phrases_path)\n",
        "df_phrases_2 = pd.read_pickle(df_phrases_path)\n",
        "df_phrases_2.head()\n",
        "df_phrases_2.shape\n",
        "\n",
        "df_sentences_path = 'df_sentences.pkl'\n",
        "df_sentences.to_pickle(df_sentences_path)\n",
        "df_sentences_2 = pd.read_pickle(df_sentences_path)\n",
        "df_sentences_2.head()\n",
        "df_sentences_2.shape"
      ],
      "metadata": {
        "id": "PDH1ZLdDyItr",
        "outputId": "7cbdcd13-129d-4bd8-d759-83a1e26c1710",
        "colab": {
          "base_uri": "https://localhost:8080/"
        }
      },
      "execution_count": 119,
      "outputs": [
        {
          "output_type": "execute_result",
          "data": {
            "text/plain": [
              "(145, 4)"
            ]
          },
          "metadata": {},
          "execution_count": 119
        }
      ]
    },
    {
      "cell_type": "code",
      "source": [
        "df_sentences_2.head()"
      ],
      "metadata": {
        "id": "Dah7RoKE3IAo",
        "outputId": "504ed4fb-803c-4fdd-bc5a-7e33420fd21f",
        "colab": {
          "base_uri": "https://localhost:8080/",
          "height": 206
        }
      },
      "execution_count": 120,
      "outputs": [
        {
          "output_type": "execute_result",
          "data": {
            "text/plain": [
              "                                     id line  \\\n",
              "0  1d43516c-dbbd-4446-bce4-f9b6f7a24c17    1   \n",
              "1  1d43516c-dbbd-4446-bce4-f9b6f7a24c17    2   \n",
              "2  1d43516c-dbbd-4446-bce4-f9b6f7a24c17    3   \n",
              "3  1d43516c-dbbd-4446-bce4-f9b6f7a24c17    4   \n",
              "4  1d43516c-dbbd-4446-bce4-f9b6f7a24c17    5   \n",
              "\n",
              "                                            sentence  \\\n",
              "0                    Hello, how are you doing today?   \n",
              "1  I'm here to tell you a little bit about, uh, q...   \n",
              "2  So I'll get started off by telling you just a ...   \n",
              "3  Oh, so the quantified platform is one of the m...   \n",
              "4                    And what does that really mean?   \n",
              "\n",
              "                                           embedding  \n",
              "0  [-0.003950469195842743, 0.015000976622104645, ...  \n",
              "1  [-0.009600087068974972, 0.002050349721685052, ...  \n",
              "2  [-0.009551599621772766, 0.0032257316634058952,...  \n",
              "3  [-0.003871886758133769, 0.004901846870779991, ...  \n",
              "4  [-0.009942175820469856, 0.01378173753619194, -...  "
            ],
            "text/html": [
              "\n",
              "  <div id=\"df-c3bf88da-f792-499a-880a-b5a130d2b072\">\n",
              "    <div class=\"colab-df-container\">\n",
              "      <div>\n",
              "<style scoped>\n",
              "    .dataframe tbody tr th:only-of-type {\n",
              "        vertical-align: middle;\n",
              "    }\n",
              "\n",
              "    .dataframe tbody tr th {\n",
              "        vertical-align: top;\n",
              "    }\n",
              "\n",
              "    .dataframe thead th {\n",
              "        text-align: right;\n",
              "    }\n",
              "</style>\n",
              "<table border=\"1\" class=\"dataframe\">\n",
              "  <thead>\n",
              "    <tr style=\"text-align: right;\">\n",
              "      <th></th>\n",
              "      <th>id</th>\n",
              "      <th>line</th>\n",
              "      <th>sentence</th>\n",
              "      <th>embedding</th>\n",
              "    </tr>\n",
              "  </thead>\n",
              "  <tbody>\n",
              "    <tr>\n",
              "      <th>0</th>\n",
              "      <td>1d43516c-dbbd-4446-bce4-f9b6f7a24c17</td>\n",
              "      <td>1</td>\n",
              "      <td>Hello, how are you doing today?</td>\n",
              "      <td>[-0.003950469195842743, 0.015000976622104645, ...</td>\n",
              "    </tr>\n",
              "    <tr>\n",
              "      <th>1</th>\n",
              "      <td>1d43516c-dbbd-4446-bce4-f9b6f7a24c17</td>\n",
              "      <td>2</td>\n",
              "      <td>I'm here to tell you a little bit about, uh, q...</td>\n",
              "      <td>[-0.009600087068974972, 0.002050349721685052, ...</td>\n",
              "    </tr>\n",
              "    <tr>\n",
              "      <th>2</th>\n",
              "      <td>1d43516c-dbbd-4446-bce4-f9b6f7a24c17</td>\n",
              "      <td>3</td>\n",
              "      <td>So I'll get started off by telling you just a ...</td>\n",
              "      <td>[-0.009551599621772766, 0.0032257316634058952,...</td>\n",
              "    </tr>\n",
              "    <tr>\n",
              "      <th>3</th>\n",
              "      <td>1d43516c-dbbd-4446-bce4-f9b6f7a24c17</td>\n",
              "      <td>4</td>\n",
              "      <td>Oh, so the quantified platform is one of the m...</td>\n",
              "      <td>[-0.003871886758133769, 0.004901846870779991, ...</td>\n",
              "    </tr>\n",
              "    <tr>\n",
              "      <th>4</th>\n",
              "      <td>1d43516c-dbbd-4446-bce4-f9b6f7a24c17</td>\n",
              "      <td>5</td>\n",
              "      <td>And what does that really mean?</td>\n",
              "      <td>[-0.009942175820469856, 0.01378173753619194, -...</td>\n",
              "    </tr>\n",
              "  </tbody>\n",
              "</table>\n",
              "</div>\n",
              "      <button class=\"colab-df-convert\" onclick=\"convertToInteractive('df-c3bf88da-f792-499a-880a-b5a130d2b072')\"\n",
              "              title=\"Convert this dataframe to an interactive table.\"\n",
              "              style=\"display:none;\">\n",
              "        \n",
              "  <svg xmlns=\"http://www.w3.org/2000/svg\" height=\"24px\"viewBox=\"0 0 24 24\"\n",
              "       width=\"24px\">\n",
              "    <path d=\"M0 0h24v24H0V0z\" fill=\"none\"/>\n",
              "    <path d=\"M18.56 5.44l.94 2.06.94-2.06 2.06-.94-2.06-.94-.94-2.06-.94 2.06-2.06.94zm-11 1L8.5 8.5l.94-2.06 2.06-.94-2.06-.94L8.5 2.5l-.94 2.06-2.06.94zm10 10l.94 2.06.94-2.06 2.06-.94-2.06-.94-.94-2.06-.94 2.06-2.06.94z\"/><path d=\"M17.41 7.96l-1.37-1.37c-.4-.4-.92-.59-1.43-.59-.52 0-1.04.2-1.43.59L10.3 9.45l-7.72 7.72c-.78.78-.78 2.05 0 2.83L4 21.41c.39.39.9.59 1.41.59.51 0 1.02-.2 1.41-.59l7.78-7.78 2.81-2.81c.8-.78.8-2.07 0-2.86zM5.41 20L4 18.59l7.72-7.72 1.47 1.35L5.41 20z\"/>\n",
              "  </svg>\n",
              "      </button>\n",
              "      \n",
              "  <style>\n",
              "    .colab-df-container {\n",
              "      display:flex;\n",
              "      flex-wrap:wrap;\n",
              "      gap: 12px;\n",
              "    }\n",
              "\n",
              "    .colab-df-convert {\n",
              "      background-color: #E8F0FE;\n",
              "      border: none;\n",
              "      border-radius: 50%;\n",
              "      cursor: pointer;\n",
              "      display: none;\n",
              "      fill: #1967D2;\n",
              "      height: 32px;\n",
              "      padding: 0 0 0 0;\n",
              "      width: 32px;\n",
              "    }\n",
              "\n",
              "    .colab-df-convert:hover {\n",
              "      background-color: #E2EBFA;\n",
              "      box-shadow: 0px 1px 2px rgba(60, 64, 67, 0.3), 0px 1px 3px 1px rgba(60, 64, 67, 0.15);\n",
              "      fill: #174EA6;\n",
              "    }\n",
              "\n",
              "    [theme=dark] .colab-df-convert {\n",
              "      background-color: #3B4455;\n",
              "      fill: #D2E3FC;\n",
              "    }\n",
              "\n",
              "    [theme=dark] .colab-df-convert:hover {\n",
              "      background-color: #434B5C;\n",
              "      box-shadow: 0px 1px 3px 1px rgba(0, 0, 0, 0.15);\n",
              "      filter: drop-shadow(0px 1px 2px rgba(0, 0, 0, 0.3));\n",
              "      fill: #FFFFFF;\n",
              "    }\n",
              "  </style>\n",
              "\n",
              "      <script>\n",
              "        const buttonEl =\n",
              "          document.querySelector('#df-c3bf88da-f792-499a-880a-b5a130d2b072 button.colab-df-convert');\n",
              "        buttonEl.style.display =\n",
              "          google.colab.kernel.accessAllowed ? 'block' : 'none';\n",
              "\n",
              "        async function convertToInteractive(key) {\n",
              "          const element = document.querySelector('#df-c3bf88da-f792-499a-880a-b5a130d2b072');\n",
              "          const dataTable =\n",
              "            await google.colab.kernel.invokeFunction('convertToInteractive',\n",
              "                                                     [key], {});\n",
              "          if (!dataTable) return;\n",
              "\n",
              "          const docLinkHtml = 'Like what you see? Visit the ' +\n",
              "            '<a target=\"_blank\" href=https://colab.research.google.com/notebooks/data_table.ipynb>data table notebook</a>'\n",
              "            + ' to learn more about interactive tables.';\n",
              "          element.innerHTML = '';\n",
              "          dataTable['output_type'] = 'display_data';\n",
              "          await google.colab.output.renderOutput(dataTable, element);\n",
              "          const docLink = document.createElement('div');\n",
              "          docLink.innerHTML = docLinkHtml;\n",
              "          element.appendChild(docLink);\n",
              "        }\n",
              "      </script>\n",
              "    </div>\n",
              "  </div>\n",
              "  "
            ]
          },
          "metadata": {},
          "execution_count": 120
        }
      ]
    }
  ]
}