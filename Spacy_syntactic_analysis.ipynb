{
  "nbformat": 4,
  "nbformat_minor": 0,
  "metadata": {
    "colab": {
      "provenance": [],
      "authorship_tag": "ABX9TyNhgCcVewRA3LU1dl6Dnx6L",
      "include_colab_link": true
    },
    "kernelspec": {
      "name": "python3",
      "display_name": "Python 3"
    },
    "language_info": {
      "name": "python"
    }
  },
  "cells": [
    {
      "cell_type": "markdown",
      "metadata": {
        "id": "view-in-github",
        "colab_type": "text"
      },
      "source": [
        "<a href=\"https://colab.research.google.com/github/sergiomar73/nlp-google-colab/blob/main/Spacy_syntactic_analysis.ipynb\" target=\"_parent\"><img src=\"https://colab.research.google.com/assets/colab-badge.svg\" alt=\"Open In Colab\"/></a>"
      ]
    },
    {
      "cell_type": "code",
      "execution_count": null,
      "metadata": {
        "colab": {
          "base_uri": "https://localhost:8080/"
        },
        "id": "KQK078wVpzMd",
        "outputId": "74973279-2abd-4cdb-ac6b-e9f9814bf14e"
      },
      "outputs": [
        {
          "output_type": "stream",
          "name": "stdout",
          "text": [
            "Looking in indexes: https://pypi.org/simple, https://us-python.pkg.dev/colab-wheels/public/simple/\n",
            "Requirement already satisfied: deplacy in /usr/local/lib/python3.7/dist-packages (2.0.3)\n"
          ]
        }
      ],
      "source": [
        "!pip install deplacy\n",
        "import spacy\n",
        "import deplacy\n",
        "import graphviz\n",
        "nlp = spacy.load(\"en_core_web_sm\")"
      ]
    },
    {
      "cell_type": "code",
      "source": [
        "text = \"And the technology behind that is really complex , but what 's important is the experience is actually pretty simple.\"\n",
        "text = \"Quantified is the most advanced conversation intelligence and AI powered coaching platform\"\n",
        "doc=nlp(text)"
      ],
      "metadata": {
        "id": "CjC1eI6RqAbg"
      },
      "execution_count": 24,
      "outputs": []
    },
    {
      "cell_type": "code",
      "source": [
        "for chunk in doc.noun_chunks:\n",
        "    print(chunk.text, ' | ', chunk.root.text, ' | ', chunk.root.dep_, ' | ', chunk.root.head.text)"
      ],
      "metadata": {
        "id": "-4qushvbOzXI",
        "outputId": "84f0adb3-d94c-43a2-df12-1ebef384a29a",
        "colab": {
          "base_uri": "https://localhost:8080/"
        }
      },
      "execution_count": 25,
      "outputs": [
        {
          "output_type": "stream",
          "name": "stdout",
          "text": [
            "Quantified  |  Quantified  |  nsubj  |  is\n",
            "the most advanced conversation intelligence  |  intelligence  |  attr  |  is\n",
            "AI powered coaching platform  |  platform  |  conj  |  intelligence\n"
          ]
        }
      ]
    },
    {
      "cell_type": "code",
      "source": [
        "from spacy import displacy\n",
        "displacy.render(doc, style=\"dep\", jupyter=True)"
      ],
      "metadata": {
        "id": "LESII3aQOgSk",
        "outputId": "69f08fac-8d6e-448c-c911-a13c039ad073",
        "colab": {
          "base_uri": "https://localhost:8080/",
          "height": 421
        }
      },
      "execution_count": 21,
      "outputs": [
        {
          "output_type": "display_data",
          "data": {
            "text/plain": [
              "<IPython.core.display.HTML object>"
            ],
            "text/html": [
              "<span class=\"tex2jax_ignore\"><svg xmlns=\"http://www.w3.org/2000/svg\" xmlns:xlink=\"http://www.w3.org/1999/xlink\" xml:lang=\"en\" id=\"89dbf56046a04151a6150b84da2eaf5f-0\" class=\"displacy\" width=\"1450\" height=\"399.5\" direction=\"ltr\" style=\"max-width: none; height: 399.5px; color: #000000; background: #ffffff; font-family: Arial; direction: ltr\">\n",
              "<text class=\"displacy-token\" fill=\"currentColor\" text-anchor=\"middle\" y=\"309.5\">\n",
              "    <tspan class=\"displacy-word\" fill=\"currentColor\" x=\"50\">This</tspan>\n",
              "    <tspan class=\"displacy-tag\" dy=\"2em\" fill=\"currentColor\" x=\"50\">PRON</tspan>\n",
              "</text>\n",
              "\n",
              "<text class=\"displacy-token\" fill=\"currentColor\" text-anchor=\"middle\" y=\"309.5\">\n",
              "    <tspan class=\"displacy-word\" fill=\"currentColor\" x=\"225\">is</tspan>\n",
              "    <tspan class=\"displacy-tag\" dy=\"2em\" fill=\"currentColor\" x=\"225\">AUX</tspan>\n",
              "</text>\n",
              "\n",
              "<text class=\"displacy-token\" fill=\"currentColor\" text-anchor=\"middle\" y=\"309.5\">\n",
              "    <tspan class=\"displacy-word\" fill=\"currentColor\" x=\"400\">the</tspan>\n",
              "    <tspan class=\"displacy-tag\" dy=\"2em\" fill=\"currentColor\" x=\"400\">DET</tspan>\n",
              "</text>\n",
              "\n",
              "<text class=\"displacy-token\" fill=\"currentColor\" text-anchor=\"middle\" y=\"309.5\">\n",
              "    <tspan class=\"displacy-word\" fill=\"currentColor\" x=\"575\">most</tspan>\n",
              "    <tspan class=\"displacy-tag\" dy=\"2em\" fill=\"currentColor\" x=\"575\">ADV</tspan>\n",
              "</text>\n",
              "\n",
              "<text class=\"displacy-token\" fill=\"currentColor\" text-anchor=\"middle\" y=\"309.5\">\n",
              "    <tspan class=\"displacy-word\" fill=\"currentColor\" x=\"750\">important</tspan>\n",
              "    <tspan class=\"displacy-tag\" dy=\"2em\" fill=\"currentColor\" x=\"750\">ADJ</tspan>\n",
              "</text>\n",
              "\n",
              "<text class=\"displacy-token\" fill=\"currentColor\" text-anchor=\"middle\" y=\"309.5\">\n",
              "    <tspan class=\"displacy-word\" fill=\"currentColor\" x=\"925\">skill</tspan>\n",
              "    <tspan class=\"displacy-tag\" dy=\"2em\" fill=\"currentColor\" x=\"925\">NOUN</tspan>\n",
              "</text>\n",
              "\n",
              "<text class=\"displacy-token\" fill=\"currentColor\" text-anchor=\"middle\" y=\"309.5\">\n",
              "    <tspan class=\"displacy-word\" fill=\"currentColor\" x=\"1100\">for</tspan>\n",
              "    <tspan class=\"displacy-tag\" dy=\"2em\" fill=\"currentColor\" x=\"1100\">ADP</tspan>\n",
              "</text>\n",
              "\n",
              "<text class=\"displacy-token\" fill=\"currentColor\" text-anchor=\"middle\" y=\"309.5\">\n",
              "    <tspan class=\"displacy-word\" fill=\"currentColor\" x=\"1275\">you.</tspan>\n",
              "    <tspan class=\"displacy-tag\" dy=\"2em\" fill=\"currentColor\" x=\"1275\">PRON</tspan>\n",
              "</text>\n",
              "\n",
              "<g class=\"displacy-arrow\">\n",
              "    <path class=\"displacy-arc\" id=\"arrow-89dbf56046a04151a6150b84da2eaf5f-0-0\" stroke-width=\"2px\" d=\"M70,264.5 C70,177.0 215.0,177.0 215.0,264.5\" fill=\"none\" stroke=\"currentColor\"/>\n",
              "    <text dy=\"1.25em\" style=\"font-size: 0.8em; letter-spacing: 1px\">\n",
              "        <textPath xlink:href=\"#arrow-89dbf56046a04151a6150b84da2eaf5f-0-0\" class=\"displacy-label\" startOffset=\"50%\" side=\"left\" fill=\"currentColor\" text-anchor=\"middle\">nsubj</textPath>\n",
              "    </text>\n",
              "    <path class=\"displacy-arrowhead\" d=\"M70,266.5 L62,254.5 78,254.5\" fill=\"currentColor\"/>\n",
              "</g>\n",
              "\n",
              "<g class=\"displacy-arrow\">\n",
              "    <path class=\"displacy-arc\" id=\"arrow-89dbf56046a04151a6150b84da2eaf5f-0-1\" stroke-width=\"2px\" d=\"M420,264.5 C420,89.5 920.0,89.5 920.0,264.5\" fill=\"none\" stroke=\"currentColor\"/>\n",
              "    <text dy=\"1.25em\" style=\"font-size: 0.8em; letter-spacing: 1px\">\n",
              "        <textPath xlink:href=\"#arrow-89dbf56046a04151a6150b84da2eaf5f-0-1\" class=\"displacy-label\" startOffset=\"50%\" side=\"left\" fill=\"currentColor\" text-anchor=\"middle\">det</textPath>\n",
              "    </text>\n",
              "    <path class=\"displacy-arrowhead\" d=\"M420,266.5 L412,254.5 428,254.5\" fill=\"currentColor\"/>\n",
              "</g>\n",
              "\n",
              "<g class=\"displacy-arrow\">\n",
              "    <path class=\"displacy-arc\" id=\"arrow-89dbf56046a04151a6150b84da2eaf5f-0-2\" stroke-width=\"2px\" d=\"M595,264.5 C595,177.0 740.0,177.0 740.0,264.5\" fill=\"none\" stroke=\"currentColor\"/>\n",
              "    <text dy=\"1.25em\" style=\"font-size: 0.8em; letter-spacing: 1px\">\n",
              "        <textPath xlink:href=\"#arrow-89dbf56046a04151a6150b84da2eaf5f-0-2\" class=\"displacy-label\" startOffset=\"50%\" side=\"left\" fill=\"currentColor\" text-anchor=\"middle\">advmod</textPath>\n",
              "    </text>\n",
              "    <path class=\"displacy-arrowhead\" d=\"M595,266.5 L587,254.5 603,254.5\" fill=\"currentColor\"/>\n",
              "</g>\n",
              "\n",
              "<g class=\"displacy-arrow\">\n",
              "    <path class=\"displacy-arc\" id=\"arrow-89dbf56046a04151a6150b84da2eaf5f-0-3\" stroke-width=\"2px\" d=\"M770,264.5 C770,177.0 915.0,177.0 915.0,264.5\" fill=\"none\" stroke=\"currentColor\"/>\n",
              "    <text dy=\"1.25em\" style=\"font-size: 0.8em; letter-spacing: 1px\">\n",
              "        <textPath xlink:href=\"#arrow-89dbf56046a04151a6150b84da2eaf5f-0-3\" class=\"displacy-label\" startOffset=\"50%\" side=\"left\" fill=\"currentColor\" text-anchor=\"middle\">amod</textPath>\n",
              "    </text>\n",
              "    <path class=\"displacy-arrowhead\" d=\"M770,266.5 L762,254.5 778,254.5\" fill=\"currentColor\"/>\n",
              "</g>\n",
              "\n",
              "<g class=\"displacy-arrow\">\n",
              "    <path class=\"displacy-arc\" id=\"arrow-89dbf56046a04151a6150b84da2eaf5f-0-4\" stroke-width=\"2px\" d=\"M245,264.5 C245,2.0 925.0,2.0 925.0,264.5\" fill=\"none\" stroke=\"currentColor\"/>\n",
              "    <text dy=\"1.25em\" style=\"font-size: 0.8em; letter-spacing: 1px\">\n",
              "        <textPath xlink:href=\"#arrow-89dbf56046a04151a6150b84da2eaf5f-0-4\" class=\"displacy-label\" startOffset=\"50%\" side=\"left\" fill=\"currentColor\" text-anchor=\"middle\">attr</textPath>\n",
              "    </text>\n",
              "    <path class=\"displacy-arrowhead\" d=\"M925.0,266.5 L933.0,254.5 917.0,254.5\" fill=\"currentColor\"/>\n",
              "</g>\n",
              "\n",
              "<g class=\"displacy-arrow\">\n",
              "    <path class=\"displacy-arc\" id=\"arrow-89dbf56046a04151a6150b84da2eaf5f-0-5\" stroke-width=\"2px\" d=\"M945,264.5 C945,177.0 1090.0,177.0 1090.0,264.5\" fill=\"none\" stroke=\"currentColor\"/>\n",
              "    <text dy=\"1.25em\" style=\"font-size: 0.8em; letter-spacing: 1px\">\n",
              "        <textPath xlink:href=\"#arrow-89dbf56046a04151a6150b84da2eaf5f-0-5\" class=\"displacy-label\" startOffset=\"50%\" side=\"left\" fill=\"currentColor\" text-anchor=\"middle\">prep</textPath>\n",
              "    </text>\n",
              "    <path class=\"displacy-arrowhead\" d=\"M1090.0,266.5 L1098.0,254.5 1082.0,254.5\" fill=\"currentColor\"/>\n",
              "</g>\n",
              "\n",
              "<g class=\"displacy-arrow\">\n",
              "    <path class=\"displacy-arc\" id=\"arrow-89dbf56046a04151a6150b84da2eaf5f-0-6\" stroke-width=\"2px\" d=\"M1120,264.5 C1120,177.0 1265.0,177.0 1265.0,264.5\" fill=\"none\" stroke=\"currentColor\"/>\n",
              "    <text dy=\"1.25em\" style=\"font-size: 0.8em; letter-spacing: 1px\">\n",
              "        <textPath xlink:href=\"#arrow-89dbf56046a04151a6150b84da2eaf5f-0-6\" class=\"displacy-label\" startOffset=\"50%\" side=\"left\" fill=\"currentColor\" text-anchor=\"middle\">pobj</textPath>\n",
              "    </text>\n",
              "    <path class=\"displacy-arrowhead\" d=\"M1265.0,266.5 L1273.0,254.5 1257.0,254.5\" fill=\"currentColor\"/>\n",
              "</g>\n",
              "</svg></span>"
            ]
          },
          "metadata": {}
        }
      ]
    },
    {
      "cell_type": "code",
      "source": [
        "deplacy.render(doc)"
      ],
      "metadata": {
        "colab": {
          "base_uri": "https://localhost:8080/"
        },
        "id": "5y547Y-7qG0n",
        "outputId": "30e60b37-3c26-48cc-bc96-12c3b6c18c2c"
      },
      "execution_count": 22,
      "outputs": [
        {
          "output_type": "stream",
          "name": "stdout",
          "text": [
            "This      PRON  <══════════╗   nsubj\n",
            "is        AUX   ═════════╗═╝═╗ ROOT\n",
            "the       DET   <══════╗ ║   ║ det\n",
            "most      ADV   <╗     ║ ║   ║ advmod\n",
            "important ADJ   ═╝<══╗ ║ ║   ║ amod\n",
            "skill     NOUN  ═══╗═╝═╝<╝   ║ attr\n",
            "for       ADP   ═╗<╝         ║ prep\n",
            "you       PRON  <╝           ║ pobj\n",
            ".         PUNCT <════════════╝ punct\n"
          ]
        }
      ]
    },
    {
      "cell_type": "code",
      "source": [
        "deplacy.serve(doc,port=None)"
      ],
      "metadata": {
        "colab": {
          "base_uri": "https://localhost:8080/",
          "height": 421
        },
        "id": "SaS-DaauqPNn",
        "outputId": "8985d43f-4268-452e-df60-eae393918c40"
      },
      "execution_count": 23,
      "outputs": [
        {
          "output_type": "display_data",
          "data": {
            "text/plain": [
              "<IPython.lib.display.IFrame at 0x7fec6924ad10>"
            ],
            "text/html": [
              "\n",
              "        <iframe\n",
              "            width=\"100%\"\n",
              "            height=\"400\"\n",
              "            src=\"https://koichiyasuoka.github.io/deplacy/deplacy/editor.html#1%09This%09this%09PRON%09DT%09Number%3DSing%7CPronType%3DDem%092%09nsubj%09_%09Translit%3Dthis%0A2%09is%09be%09AUX%09VBZ%09Mood%3DInd%7CNumber%3DSing%7CPerson%3D3%7CTense%3DPres%7CVerbForm%3DFin%090%09ROOT%09_%09_%0A3%09the%09the%09DET%09DT%09Definite%3DDef%7CPronType%3DArt%096%09det%09_%09_%0A4%09most%09most%09ADV%09RBS%09Degree%3DSup%095%09advmod%09_%09_%0A5%09important%09important%09ADJ%09JJ%09Degree%3DPos%096%09amod%09_%09_%0A6%09skill%09skill%09NOUN%09NN%09Number%3DSing%092%09attr%09_%09_%0A7%09for%09for%09ADP%09IN%09_%096%09prep%09_%09_%0A8%09you%09you%09PRON%09PRP%09Case%3DAcc%7CPerson%3D2%7CPronType%3DPrs%097%09pobj%09_%09SpaceAfter%3DNo%0A9%09.%09.%09PUNCT%09.%09PunctType%3DPeri%092%09punct%09_%09SpaceAfter%3DNo%0A%0A\"\n",
              "            frameborder=\"0\"\n",
              "            allowfullscreen\n",
              "        ></iframe>\n",
              "        "
            ]
          },
          "metadata": {}
        }
      ]
    },
    {
      "cell_type": "code",
      "source": [
        "graphviz.Source(deplacy.dot(doc))"
      ],
      "metadata": {
        "colab": {
          "base_uri": "https://localhost:8080/",
          "height": 893
        },
        "id": "5ON9I-4lqZtW",
        "outputId": "7c25314e-b074-44d8-c660-62de41a5c240"
      },
      "execution_count": null,
      "outputs": [
        {
          "output_type": "execute_result",
          "data": {
            "text/plain": [
              "<graphviz.files.Source at 0x7fed58cf8450>"
            ],
            "image/svg+xml": "<?xml version=\"1.0\" encoding=\"UTF-8\" standalone=\"no\"?>\n<!DOCTYPE svg PUBLIC \"-//W3C//DTD SVG 1.1//EN\"\n \"http://www.w3.org/Graphics/SVG/1.1/DTD/svg11.dtd\">\n<!-- Generated by graphviz version 2.40.1 (20161225.0304)\n -->\n<!-- Title: deplacy Pages: 1 -->\n<svg width=\"1156pt\" height=\"654pt\"\n viewBox=\"0.00 0.00 1156.00 654.00\" xmlns=\"http://www.w3.org/2000/svg\" xmlns:xlink=\"http://www.w3.org/1999/xlink\">\n<g id=\"graph0\" class=\"graph\" transform=\"scale(1 1) rotate(0) translate(4 650)\">\n<title>deplacy</title>\n<polygon fill=\"#ffffff\" stroke=\"transparent\" points=\"-4,4 -4,-650 1152,-650 1152,4 -4,4\"/>\n<!-- r6 -->\n<g id=\"node1\" class=\"node\">\n<title>r6</title>\n<text text-anchor=\"middle\" x=\"594\" y=\"-638\" font-family=\"sans-serif\" font-size=\"10.00\" fill=\"#000000\">ROOT</text>\n</g>\n<!-- x19 -->\n<g id=\"node2\" class=\"node\">\n<title>x19</title>\n<text text-anchor=\"middle\" x=\"594\" y=\"-576.3\" font-family=\"Times,serif\" font-size=\"14.00\" fill=\"#000000\">And the technology behind that is really complex , but what &#39;s important is the experience is actually pretty simple</text>\n</g>\n<!-- r6&#45;&gt;x19 -->\n<g id=\"edge1\" class=\"edge\">\n<title>r6&#45;&gt;x19</title>\n<path fill=\"none\" stroke=\"#c0c0c0\" d=\"M594,-634.9167C594,-628.7509 594,-618.3543 594,-608.2555\"/>\n<polygon fill=\"#c0c0c0\" stroke=\"#c0c0c0\" points=\"597.5001,-608.0291 594,-598.0291 590.5001,-608.0291 597.5001,-608.0291\"/>\n</g>\n<!-- x18 -->\n<g id=\"node3\" class=\"node\">\n<title>x18</title>\n<text text-anchor=\"middle\" x=\"492\" y=\"-503.3\" font-family=\"Times,serif\" font-size=\"14.00\" fill=\"#000000\">And the technology behind that is really complex , but</text>\n</g>\n<!-- x19&#45;&gt;x18 -->\n<g id=\"edge2\" class=\"edge\">\n<title>x19&#45;&gt;x18</title>\n<path fill=\"none\" stroke=\"#c0c0c0\" d=\"M568.7865,-561.9551C555.7912,-552.6545 539.7645,-541.1844 525.7204,-531.1332\"/>\n<polygon fill=\"#c0c0c0\" stroke=\"#c0c0c0\" points=\"527.4459,-528.0641 517.2769,-525.0904 523.3719,-533.7565 527.4459,-528.0641\"/>\n</g>\n<!-- x13 -->\n<g id=\"node4\" class=\"node\">\n<title>x13</title>\n<text text-anchor=\"middle\" x=\"696\" y=\"-430.3\" font-family=\"Times,serif\" font-size=\"14.00\" fill=\"#000000\">what &#39;s important is the experience is actually pretty simple</text>\n</g>\n<!-- x19&#45;&gt;x13 -->\n<g id=\"edge3\" class=\"edge\">\n<title>x19&#45;&gt;x13</title>\n<path fill=\"none\" stroke=\"#c0c0c0\" d=\"M625.556,-561.9829C639.646,-552.5533 655.421,-539.8668 666,-525 679.3457,-506.245 687.0291,-481.1777 691.2722,-462.1017\"/>\n<polygon fill=\"#c0c0c0\" stroke=\"#c0c0c0\" points=\"694.723,-462.6959 693.2897,-452.1985 687.8639,-461.2986 694.723,-462.6959\"/>\n<text text-anchor=\"middle\" x=\"696.5\" y=\"-504.5\" font-family=\"sans-serif\" font-size=\"10.00\" fill=\"#000000\">conj</text>\n</g>\n<!-- x17 -->\n<g id=\"node5\" class=\"node\">\n<title>x17</title>\n<text text-anchor=\"middle\" x=\"238\" y=\"-430.3\" font-family=\"Times,serif\" font-size=\"14.00\" fill=\"#000000\">And the technology behind that is really complex but</text>\n</g>\n<!-- x18&#45;&gt;x17 -->\n<g id=\"edge4\" class=\"edge\">\n<title>x18&#45;&gt;x17</title>\n<path fill=\"none\" stroke=\"#c0c0c0\" d=\"M429.2135,-488.9551C393.3416,-478.6454 348.1945,-465.6701 310.778,-454.9165\"/>\n<polygon fill=\"#c0c0c0\" stroke=\"#c0c0c0\" points=\"311.5223,-451.4888 300.9445,-452.0904 309.5887,-458.2165 311.5223,-451.4888\"/>\n</g>\n<!-- w -->\n<g id=\"node6\" class=\"node\">\n<title>w</title>\n<polygon fill=\"none\" stroke=\"#000000\" stroke-width=\"0\" points=\"0,-.5 0,-46.5 1148,-46.5 1148,-.5 0,-.5\"/>\n<text text-anchor=\"middle\" x=\"31\" y=\"-31.3\" font-family=\"Times,serif\" font-size=\"14.00\" fill=\"#000000\">And</text>\n<polyline fill=\"none\" stroke=\"#000000\" stroke-width=\"0\" points=\"0,-23.5 62,-23.5 \"/>\n<text text-anchor=\"middle\" x=\"31\" y=\"-8.3\" font-family=\"Times,serif\" font-size=\"14.00\" fill=\"#000000\">CCONJ</text>\n<polyline fill=\"none\" stroke=\"#000000\" stroke-width=\"0\" points=\"62,-.5 62,-46.5 \"/>\n<text text-anchor=\"middle\" x=\"84.5\" y=\"-31.3\" font-family=\"Times,serif\" font-size=\"14.00\" fill=\"#000000\">the</text>\n<polyline fill=\"none\" stroke=\"#000000\" stroke-width=\"0\" points=\"62,-23.5 107,-23.5 \"/>\n<text text-anchor=\"middle\" x=\"84.5\" y=\"-8.3\" font-family=\"Times,serif\" font-size=\"14.00\" fill=\"#000000\">DET</text>\n<polyline fill=\"none\" stroke=\"#000000\" stroke-width=\"0\" points=\"107,-.5 107,-46.5 \"/>\n<text text-anchor=\"middle\" x=\"147.5\" y=\"-31.3\" font-family=\"Times,serif\" font-size=\"14.00\" fill=\"#000000\">technology</text>\n<polyline fill=\"none\" stroke=\"#000000\" stroke-width=\"0\" points=\"107,-23.5 188,-23.5 \"/>\n<text text-anchor=\"middle\" x=\"147.5\" y=\"-8.3\" font-family=\"Times,serif\" font-size=\"14.00\" fill=\"#000000\">NOUN</text>\n<polyline fill=\"none\" stroke=\"#000000\" stroke-width=\"0\" points=\"188,-.5 188,-46.5 \"/>\n<text text-anchor=\"middle\" x=\"216\" y=\"-31.3\" font-family=\"Times,serif\" font-size=\"14.00\" fill=\"#000000\">behind</text>\n<polyline fill=\"none\" stroke=\"#000000\" stroke-width=\"0\" points=\"188,-23.5 244,-23.5 \"/>\n<text text-anchor=\"middle\" x=\"216\" y=\"-8.3\" font-family=\"Times,serif\" font-size=\"14.00\" fill=\"#000000\">ADP</text>\n<polyline fill=\"none\" stroke=\"#000000\" stroke-width=\"0\" points=\"244,-.5 244,-46.5 \"/>\n<text text-anchor=\"middle\" x=\"272\" y=\"-31.3\" font-family=\"Times,serif\" font-size=\"14.00\" fill=\"#000000\">that</text>\n<polyline fill=\"none\" stroke=\"#000000\" stroke-width=\"0\" points=\"244,-23.5 300,-23.5 \"/>\n<text text-anchor=\"middle\" x=\"272\" y=\"-8.3\" font-family=\"Times,serif\" font-size=\"14.00\" fill=\"#000000\">PRON</text>\n<polyline fill=\"none\" stroke=\"#000000\" stroke-width=\"0\" points=\"300,-.5 300,-46.5 \"/>\n<text text-anchor=\"middle\" x=\"324\" y=\"-31.3\" font-family=\"Times,serif\" font-size=\"14.00\" fill=\"#000000\">is</text>\n<polyline fill=\"none\" stroke=\"#000000\" stroke-width=\"0\" points=\"300,-23.5 348,-23.5 \"/>\n<text text-anchor=\"middle\" x=\"324\" y=\"-8.3\" font-family=\"Times,serif\" font-size=\"14.00\" fill=\"#000000\">AUX</text>\n<polyline fill=\"none\" stroke=\"#000000\" stroke-width=\"0\" points=\"348,-.5 348,-46.5 \"/>\n<text text-anchor=\"middle\" x=\"372\" y=\"-31.3\" font-family=\"Times,serif\" font-size=\"14.00\" fill=\"#000000\">really</text>\n<polyline fill=\"none\" stroke=\"#000000\" stroke-width=\"0\" points=\"348,-23.5 396,-23.5 \"/>\n<text text-anchor=\"middle\" x=\"372\" y=\"-8.3\" font-family=\"Times,serif\" font-size=\"14.00\" fill=\"#000000\">ADV</text>\n<polyline fill=\"none\" stroke=\"#000000\" stroke-width=\"0\" points=\"396,-.5 396,-46.5 \"/>\n<text text-anchor=\"middle\" x=\"429\" y=\"-31.3\" font-family=\"Times,serif\" font-size=\"14.00\" fill=\"#000000\">complex</text>\n<polyline fill=\"none\" stroke=\"#000000\" stroke-width=\"0\" points=\"396,-23.5 462,-23.5 \"/>\n<text text-anchor=\"middle\" x=\"429\" y=\"-8.3\" font-family=\"Times,serif\" font-size=\"14.00\" fill=\"#000000\">ADJ</text>\n<polyline fill=\"none\" stroke=\"#000000\" stroke-width=\"0\" points=\"462,-.5 462,-46.5 \"/>\n<text text-anchor=\"middle\" x=\"494.5\" y=\"-31.3\" font-family=\"Times,serif\" font-size=\"14.00\" fill=\"#000000\">,</text>\n<polyline fill=\"none\" stroke=\"#000000\" stroke-width=\"0\" points=\"462,-23.5 527,-23.5 \"/>\n<text text-anchor=\"middle\" x=\"494.5\" y=\"-8.3\" font-family=\"Times,serif\" font-size=\"14.00\" fill=\"#000000\">PUNCT</text>\n<polyline fill=\"none\" stroke=\"#000000\" stroke-width=\"0\" points=\"527,-.5 527,-46.5 \"/>\n<text text-anchor=\"middle\" x=\"558\" y=\"-31.3\" font-family=\"Times,serif\" font-size=\"14.00\" fill=\"#000000\">but</text>\n<polyline fill=\"none\" stroke=\"#000000\" stroke-width=\"0\" points=\"527,-23.5 589,-23.5 \"/>\n<text text-anchor=\"middle\" x=\"558\" y=\"-8.3\" font-family=\"Times,serif\" font-size=\"14.00\" fill=\"#000000\">CCONJ</text>\n<polyline fill=\"none\" stroke=\"#000000\" stroke-width=\"0\" points=\"589,-.5 589,-46.5 \"/>\n<text text-anchor=\"middle\" x=\"617\" y=\"-31.3\" font-family=\"Times,serif\" font-size=\"14.00\" fill=\"#000000\">what</text>\n<polyline fill=\"none\" stroke=\"#000000\" stroke-width=\"0\" points=\"589,-23.5 645,-23.5 \"/>\n<text text-anchor=\"middle\" x=\"617\" y=\"-8.3\" font-family=\"Times,serif\" font-size=\"14.00\" fill=\"#000000\">PRON</text>\n<polyline fill=\"none\" stroke=\"#000000\" stroke-width=\"0\" points=\"645,-.5 645,-46.5 \"/>\n<text text-anchor=\"middle\" x=\"669\" y=\"-31.3\" font-family=\"Times,serif\" font-size=\"14.00\" fill=\"#000000\">&#39;s</text>\n<polyline fill=\"none\" stroke=\"#000000\" stroke-width=\"0\" points=\"645,-23.5 693,-23.5 \"/>\n<text text-anchor=\"middle\" x=\"669\" y=\"-8.3\" font-family=\"Times,serif\" font-size=\"14.00\" fill=\"#000000\">AUX</text>\n<polyline fill=\"none\" stroke=\"#000000\" stroke-width=\"0\" points=\"693,-.5 693,-46.5 \"/>\n<text text-anchor=\"middle\" x=\"729\" y=\"-31.3\" font-family=\"Times,serif\" font-size=\"14.00\" fill=\"#000000\">important</text>\n<polyline fill=\"none\" stroke=\"#000000\" stroke-width=\"0\" points=\"693,-23.5 765,-23.5 \"/>\n<text text-anchor=\"middle\" x=\"729\" y=\"-8.3\" font-family=\"Times,serif\" font-size=\"14.00\" fill=\"#000000\">ADJ</text>\n<polyline fill=\"none\" stroke=\"#000000\" stroke-width=\"0\" points=\"765,-.5 765,-46.5 \"/>\n<text text-anchor=\"middle\" x=\"789\" y=\"-31.3\" font-family=\"Times,serif\" font-size=\"14.00\" fill=\"#000000\">is</text>\n<polyline fill=\"none\" stroke=\"#000000\" stroke-width=\"0\" points=\"765,-23.5 813,-23.5 \"/>\n<text text-anchor=\"middle\" x=\"789\" y=\"-8.3\" font-family=\"Times,serif\" font-size=\"14.00\" fill=\"#000000\">AUX</text>\n<polyline fill=\"none\" stroke=\"#000000\" stroke-width=\"0\" points=\"813,-.5 813,-46.5 \"/>\n<text text-anchor=\"middle\" x=\"835.5\" y=\"-31.3\" font-family=\"Times,serif\" font-size=\"14.00\" fill=\"#000000\">the</text>\n<polyline fill=\"none\" stroke=\"#000000\" stroke-width=\"0\" points=\"813,-23.5 858,-23.5 \"/>\n<text text-anchor=\"middle\" x=\"835.5\" y=\"-8.3\" font-family=\"Times,serif\" font-size=\"14.00\" fill=\"#000000\">DET</text>\n<polyline fill=\"none\" stroke=\"#000000\" stroke-width=\"0\" points=\"858,-.5 858,-46.5 \"/>\n<text text-anchor=\"middle\" x=\"896.5\" y=\"-31.3\" font-family=\"Times,serif\" font-size=\"14.00\" fill=\"#000000\">experience</text>\n<polyline fill=\"none\" stroke=\"#000000\" stroke-width=\"0\" points=\"858,-23.5 935,-23.5 \"/>\n<text text-anchor=\"middle\" x=\"896.5\" y=\"-8.3\" font-family=\"Times,serif\" font-size=\"14.00\" fill=\"#000000\">NOUN</text>\n<polyline fill=\"none\" stroke=\"#000000\" stroke-width=\"0\" points=\"935,-.5 935,-46.5 \"/>\n<text text-anchor=\"middle\" x=\"959\" y=\"-31.3\" font-family=\"Times,serif\" font-size=\"14.00\" fill=\"#000000\">is</text>\n<polyline fill=\"none\" stroke=\"#000000\" stroke-width=\"0\" points=\"935,-23.5 983,-23.5 \"/>\n<text text-anchor=\"middle\" x=\"959\" y=\"-8.3\" font-family=\"Times,serif\" font-size=\"14.00\" fill=\"#000000\">AUX</text>\n<polyline fill=\"none\" stroke=\"#000000\" stroke-width=\"0\" points=\"983,-.5 983,-46.5 \"/>\n<text text-anchor=\"middle\" x=\"1013.5\" y=\"-31.3\" font-family=\"Times,serif\" font-size=\"14.00\" fill=\"#000000\">actually</text>\n<polyline fill=\"none\" stroke=\"#000000\" stroke-width=\"0\" points=\"983,-23.5 1044,-23.5 \"/>\n<text text-anchor=\"middle\" x=\"1013.5\" y=\"-8.3\" font-family=\"Times,serif\" font-size=\"14.00\" fill=\"#000000\">ADV</text>\n<polyline fill=\"none\" stroke=\"#000000\" stroke-width=\"0\" points=\"1044,-.5 1044,-46.5 \"/>\n<text text-anchor=\"middle\" x=\"1069\" y=\"-31.3\" font-family=\"Times,serif\" font-size=\"14.00\" fill=\"#000000\">pretty</text>\n<polyline fill=\"none\" stroke=\"#000000\" stroke-width=\"0\" points=\"1044,-23.5 1094,-23.5 \"/>\n<text text-anchor=\"middle\" x=\"1069\" y=\"-8.3\" font-family=\"Times,serif\" font-size=\"14.00\" fill=\"#000000\">ADV</text>\n<polyline fill=\"none\" stroke=\"#000000\" stroke-width=\"0\" points=\"1094,-.5 1094,-46.5 \"/>\n<text text-anchor=\"middle\" x=\"1121\" y=\"-31.3\" font-family=\"Times,serif\" font-size=\"14.00\" fill=\"#000000\">simple</text>\n<polyline fill=\"none\" stroke=\"#000000\" stroke-width=\"0\" points=\"1094,-23.5 1148,-23.5 \"/>\n<text text-anchor=\"middle\" x=\"1121\" y=\"-8.3\" font-family=\"Times,serif\" font-size=\"14.00\" fill=\"#000000\">ADJ</text>\n</g>\n<!-- x18&#45;&gt;w -->\n<g id=\"edge5\" class=\"edge\">\n<title>x18&#45;&gt;w:9</title>\n<path fill=\"none\" stroke=\"#c0c0c0\" d=\"M492,-488.6997C492,-473.9349 492,-452.6302 492,-434 492,-434 492,-434 492,-112 492,-86.6297 493.5176,-77.8575 493.9089,-56.7663\"/>\n<polygon fill=\"#c0c0c0\" stroke=\"#c0c0c0\" points=\"497.411,-56.5307 494,-46.5 490.4113,-56.4685 497.411,-56.5307\"/>\n<text text-anchor=\"middle\" x=\"507.5\" y=\"-275.5\" font-family=\"sans-serif\" font-size=\"10.00\" fill=\"#000000\">punct</text>\n</g>\n<!-- x8 -->\n<g id=\"node12\" class=\"node\">\n<title>x8</title>\n<text text-anchor=\"middle\" x=\"650\" y=\"-191.3\" font-family=\"Times,serif\" font-size=\"14.00\" fill=\"#000000\">what &#39;s important</text>\n</g>\n<!-- x13&#45;&gt;x8 -->\n<g id=\"edge14\" class=\"edge\">\n<title>x13&#45;&gt;x8</title>\n<path fill=\"none\" stroke=\"#c0c0c0\" d=\"M685.0453,-415.8215C679.2976,-405.4072 672.6991,-391.8822 669,-379 653.6582,-325.5712 650.3767,-260.2736 649.8603,-223.5837\"/>\n<polygon fill=\"#c0c0c0\" stroke=\"#c0c0c0\" points=\"653.357,-223.1326 649.7785,-213.1604 646.3572,-223.1876 653.357,-223.1326\"/>\n<text text-anchor=\"middle\" x=\"673.5\" y=\"-317\" font-family=\"sans-serif\" font-size=\"10.00\" fill=\"#000000\">csubj</text>\n</g>\n<!-- x12 -->\n<g id=\"node13\" class=\"node\">\n<title>x12</title>\n<text text-anchor=\"middle\" x=\"803\" y=\"-357.3\" font-family=\"Times,serif\" font-size=\"14.00\" fill=\"#000000\">is the experience is actually pretty simple</text>\n</g>\n<!-- x13&#45;&gt;x12 -->\n<g id=\"edge15\" class=\"edge\">\n<title>x13&#45;&gt;x12</title>\n<path fill=\"none\" stroke=\"#c0c0c0\" d=\"M722.4494,-415.9551C736.2104,-406.5667 753.2116,-394.9678 768.0431,-384.8491\"/>\n<polygon fill=\"#c0c0c0\" stroke=\"#c0c0c0\" points=\"770.1959,-387.6174 776.484,-379.0904 766.2508,-381.8349 770.1959,-387.6174\"/>\n</g>\n<!-- x17&#45;&gt;w -->\n<g id=\"edge6\" class=\"edge\">\n<title>x17&#45;&gt;w:1</title>\n<path fill=\"none\" stroke=\"#c0c0c0\" d=\"M141.706,-415.9525C90.9107,-403.5836 39,-385.0579 39,-361 39,-361 39,-361 39,-112 39,-86.3385 32.875,-77.89 31.3438,-56.5318\"/>\n<polygon fill=\"#c0c0c0\" stroke=\"#c0c0c0\" points=\"34.8405,-56.3742 31,-46.5 27.8446,-56.614 34.8405,-56.3742\"/>\n<text text-anchor=\"middle\" x=\"45.5\" y=\"-234\" font-family=\"sans-serif\" font-size=\"10.00\" fill=\"#000000\">cc</text>\n</g>\n<!-- x16 -->\n<g id=\"node7\" class=\"node\">\n<title>x16</title>\n<text text-anchor=\"middle\" x=\"238\" y=\"-357.3\" font-family=\"Times,serif\" font-size=\"14.00\" fill=\"#000000\">the technology behind that is really complex but</text>\n</g>\n<!-- x17&#45;&gt;x16 -->\n<g id=\"edge7\" class=\"edge\">\n<title>x17&#45;&gt;x16</title>\n<path fill=\"none\" stroke=\"#c0c0c0\" d=\"M238,-415.9551C238,-407.8828 238,-398.1764 238,-389.1817\"/>\n<polygon fill=\"#c0c0c0\" stroke=\"#c0c0c0\" points=\"241.5001,-389.0903 238,-379.0904 234.5001,-389.0904 241.5001,-389.0903\"/>\n</g>\n<!-- x11 -->\n<g id=\"node8\" class=\"node\">\n<title>x11</title>\n<text text-anchor=\"middle\" x=\"165\" y=\"-274.3\" font-family=\"Times,serif\" font-size=\"14.00\" fill=\"#000000\">the technology behind that</text>\n</g>\n<!-- x16&#45;&gt;x11 -->\n<g id=\"edge8\" class=\"edge\">\n<title>x16&#45;&gt;x11</title>\n<path fill=\"none\" stroke=\"#c0c0c0\" d=\"M222.1601,-342.9902C212.0895,-331.5401 198.8903,-316.5328 187.7131,-303.8245\"/>\n<polygon fill=\"#c0c0c0\" stroke=\"#c0c0c0\" points=\"190.2935,-301.4587 181.0611,-296.2612 185.0372,-306.0817 190.2935,-301.4587\"/>\n<text text-anchor=\"middle\" x=\"221.5\" y=\"-317\" font-family=\"sans-serif\" font-size=\"10.00\" fill=\"#000000\">nsubj</text>\n</g>\n<!-- x15 -->\n<g id=\"node9\" class=\"node\">\n<title>x15</title>\n<text text-anchor=\"middle\" x=\"337\" y=\"-274.3\" font-family=\"Times,serif\" font-size=\"14.00\" fill=\"#000000\">is really complex but</text>\n</g>\n<!-- x16&#45;&gt;x15 -->\n<g id=\"edge9\" class=\"edge\">\n<title>x16&#45;&gt;x15</title>\n<path fill=\"none\" stroke=\"#c0c0c0\" d=\"M259.4815,-342.9902C273.5254,-331.2161 292.0558,-315.6805 307.4775,-302.7512\"/>\n<polygon fill=\"#c0c0c0\" stroke=\"#c0c0c0\" points=\"309.804,-305.368 315.2185,-296.2612 305.3067,-300.0038 309.804,-305.368\"/>\n</g>\n<!-- x11&#45;&gt;w -->\n<g id=\"edge18\" class=\"edge\">\n<title>x11&#45;&gt;w:2</title>\n<path fill=\"none\" stroke=\"#c0c0c0\" d=\"M140.8623,-259.9729C127.0372,-248.2212 110.7453,-231.6374 102,-213 71.8643,-148.7767 82.8227,-123.3394 83.9163,-56.6485\"/>\n<polygon fill=\"#c0c0c0\" stroke=\"#c0c0c0\" points=\"87.4173,-56.5286 84,-46.5 80.4175,-56.4708 87.4173,-56.5286\"/>\n<text text-anchor=\"middle\" x=\"93.5\" y=\"-151\" font-family=\"sans-serif\" font-size=\"10.00\" fill=\"#000000\">det</text>\n</g>\n<!-- x10 -->\n<g id=\"node15\" class=\"node\">\n<title>x10</title>\n<text text-anchor=\"middle\" x=\"186\" y=\"-191.3\" font-family=\"Times,serif\" font-size=\"14.00\" fill=\"#000000\">technology behind that</text>\n</g>\n<!-- x11&#45;&gt;x10 -->\n<g id=\"edge19\" class=\"edge\">\n<title>x11&#45;&gt;x10</title>\n<path fill=\"none\" stroke=\"#c0c0c0\" d=\"M169.5567,-259.9902C172.2897,-249.1883 175.8238,-235.2204 178.9148,-223.0036\"/>\n<polygon fill=\"#c0c0c0\" stroke=\"#c0c0c0\" points=\"182.3199,-223.8143 181.3797,-213.2612 175.5337,-222.0972 182.3199,-223.8143\"/>\n</g>\n<!-- x15&#45;&gt;w -->\n<g id=\"edge11\" class=\"edge\">\n<title>x15&#45;&gt;w:10</title>\n<path fill=\"none\" stroke=\"#c0c0c0\" d=\"M327.8531,-259.9535C308.3861,-218.7238 268.7963,-117.1673 322,-65 338.69,-48.6351 512.0942,-67.5183 550.4969,-53.4659\"/>\n<polygon fill=\"#c0c0c0\" stroke=\"#c0c0c0\" points=\"553.0528,-55.8689 558,-46.5 548.2901,-50.7389 553.0528,-55.8689\"/>\n<text text-anchor=\"middle\" x=\"303.5\" y=\"-151\" font-family=\"sans-serif\" font-size=\"10.00\" fill=\"#000000\">cc</text>\n</g>\n<!-- x14 -->\n<g id=\"node10\" class=\"node\">\n<title>x14</title>\n<text text-anchor=\"middle\" x=\"377\" y=\"-191.3\" font-family=\"Times,serif\" font-size=\"14.00\" fill=\"#000000\">is really complex</text>\n</g>\n<!-- x15&#45;&gt;x14 -->\n<g id=\"edge10\" class=\"edge\">\n<title>x15&#45;&gt;x14</title>\n<path fill=\"none\" stroke=\"#c0c0c0\" d=\"M345.6794,-259.9902C350.9893,-248.9722 357.8866,-234.6604 363.8565,-222.2727\"/>\n<polygon fill=\"#c0c0c0\" stroke=\"#c0c0c0\" points=\"367.0109,-223.7892 368.1994,-213.2612 360.705,-220.7502 367.0109,-223.7892\"/>\n</g>\n<!-- x14&#45;&gt;w -->\n<g id=\"edge12\" class=\"edge\">\n<title>x14&#45;&gt;w:6</title>\n<path fill=\"none\" stroke=\"#c0c0c0\" d=\"M366.0184,-176.9887C351.5556,-151.6265 327.571,-103.2675 324.3595,-56.7097\"/>\n<polygon fill=\"#c0c0c0\" stroke=\"#c0c0c0\" points=\"327.8498,-56.3706 324,-46.5 320.8541,-56.617 327.8498,-56.3706\"/>\n</g>\n<!-- x9 -->\n<g id=\"node11\" class=\"node\">\n<title>x9</title>\n<text text-anchor=\"middle\" x=\"409\" y=\"-108.3\" font-family=\"Times,serif\" font-size=\"14.00\" fill=\"#000000\">really complex</text>\n</g>\n<!-- x14&#45;&gt;x9 -->\n<g id=\"edge13\" class=\"edge\">\n<title>x14&#45;&gt;x9</title>\n<path fill=\"none\" stroke=\"#c0c0c0\" d=\"M383.9435,-176.9902C388.1498,-166.0802 393.6012,-151.9407 398.3445,-139.6376\"/>\n<polygon fill=\"#c0c0c0\" stroke=\"#c0c0c0\" points=\"401.6278,-140.8509 401.9595,-130.2612 395.0964,-138.3327 401.6278,-140.8509\"/>\n<text text-anchor=\"middle\" x=\"410.5\" y=\"-151\" font-family=\"sans-serif\" font-size=\"10.00\" fill=\"#000000\">acomp</text>\n</g>\n<!-- x9&#45;&gt;w -->\n<g id=\"edge22\" class=\"edge\">\n<title>x9&#45;&gt;w:7</title>\n<path fill=\"none\" stroke=\"#c0c0c0\" d=\"M389.1892,-93.6612C384.5277,-88.3863 380.038,-82.3333 377,-76 373.0458,-67.7569 372.1654,-63.1901 372.0012,-56.8197\"/>\n<polygon fill=\"#c0c0c0\" stroke=\"#c0c0c0\" points=\"375.5013,-56.4996 372,-46.5 368.5013,-56.5004 375.5013,-56.4996\"/>\n<text text-anchor=\"middle\" x=\"395.5\" y=\"-68\" font-family=\"sans-serif\" font-size=\"10.00\" fill=\"#000000\">advmod</text>\n</g>\n<!-- x9&#45;&gt;w -->\n<g id=\"edge23\" class=\"edge\">\n<title>x9&#45;&gt;w:8</title>\n<path fill=\"none\" stroke=\"#c0c0c0\" d=\"M417.7141,-93.8176C422.0089,-83.5374 426.6255,-70.0888 428.3238,-56.6866\"/>\n<polygon fill=\"#c0c0c0\" stroke=\"#c0c0c0\" points=\"431.8299,-56.7099 429,-46.5 424.8453,-56.2462 431.8299,-56.7099\"/>\n</g>\n<!-- x8&#45;&gt;w -->\n<g id=\"edge24\" class=\"edge\">\n<title>x8&#45;&gt;w:11</title>\n<path fill=\"none\" stroke=\"#c0c0c0\" d=\"M641.9372,-176.8798C636.5679,-164.0425 629.8207,-146.2785 626,-130 618.3039,-97.2101 617.1688,-85.9998 617.0205,-56.6991\"/>\n<polygon fill=\"#c0c0c0\" stroke=\"#c0c0c0\" points=\"620.5202,-56.4929 617,-46.5 613.5202,-56.5071 620.5202,-56.4929\"/>\n<text text-anchor=\"middle\" x=\"641.5\" y=\"-109.5\" font-family=\"sans-serif\" font-size=\"10.00\" fill=\"#000000\">nsubj</text>\n</g>\n<!-- x7 -->\n<g id=\"node17\" class=\"node\">\n<title>x7</title>\n<text text-anchor=\"middle\" x=\"708\" y=\"-108.3\" font-family=\"Times,serif\" font-size=\"14.00\" fill=\"#000000\">&#39;s important</text>\n</g>\n<!-- x8&#45;&gt;x7 -->\n<g id=\"edge25\" class=\"edge\">\n<title>x8&#45;&gt;x7</title>\n<path fill=\"none\" stroke=\"#c0c0c0\" d=\"M662.5851,-176.9902C670.4354,-165.7562 680.6786,-151.0979 689.4496,-138.5463\"/>\n<polygon fill=\"#c0c0c0\" stroke=\"#c0c0c0\" points=\"692.38,-140.463 695.2391,-130.2612 686.6422,-136.4534 692.38,-140.463\"/>\n</g>\n<!-- x12&#45;&gt;w -->\n<g id=\"edge16\" class=\"edge\">\n<title>x12&#45;&gt;w:14</title>\n<path fill=\"none\" stroke=\"#c0c0c0\" d=\"M798.1035,-342.6885C794.0663,-325.9691 789,-300.5044 789,-278 789,-278 789,-278 789,-112 789,-86.6415 789,-77.8502 789,-56.7629\"/>\n<polygon fill=\"#c0c0c0\" stroke=\"#c0c0c0\" points=\"792.5001,-56.5 789,-46.5 785.5001,-56.5 792.5001,-56.5\"/>\n</g>\n<!-- x6 -->\n<g id=\"node14\" class=\"node\">\n<title>x6</title>\n<text text-anchor=\"middle\" x=\"936\" y=\"-274.3\" font-family=\"Times,serif\" font-size=\"14.00\" fill=\"#000000\">the experience is actually pretty simple</text>\n</g>\n<!-- x12&#45;&gt;x6 -->\n<g id=\"edge17\" class=\"edge\">\n<title>x12&#45;&gt;x6</title>\n<path fill=\"none\" stroke=\"#c0c0c0\" d=\"M831.859,-342.9902C851.2453,-330.892 876.9953,-314.8225 898.0395,-301.6897\"/>\n<polygon fill=\"#c0c0c0\" stroke=\"#c0c0c0\" points=\"900.1074,-304.5248 906.738,-296.2612 896.4014,-298.5863 900.1074,-304.5248\"/>\n<text text-anchor=\"middle\" x=\"892.5\" y=\"-317\" font-family=\"sans-serif\" font-size=\"10.00\" fill=\"#000000\">ccomp</text>\n</g>\n<!-- x2 -->\n<g id=\"node18\" class=\"node\">\n<title>x2</title>\n<text text-anchor=\"middle\" x=\"886\" y=\"-108.3\" font-family=\"Times,serif\" font-size=\"14.00\" fill=\"#000000\">the experience</text>\n</g>\n<!-- x6&#45;&gt;x2 -->\n<g id=\"edge28\" class=\"edge\">\n<title>x6&#45;&gt;x2</title>\n<path fill=\"none\" stroke=\"#c0c0c0\" d=\"M921.2478,-259.8747C912.0161,-247.461 900.8078,-230.1907 895,-213 886.987,-189.2819 885.0993,-160.7473 885.0043,-140.0666\"/>\n<polygon fill=\"#c0c0c0\" stroke=\"#c0c0c0\" points=\"888.5043,-140.0663 885.0951,-130.035 881.5046,-140.0029 888.5043,-140.0663\"/>\n<text text-anchor=\"middle\" x=\"910.5\" y=\"-192.5\" font-family=\"sans-serif\" font-size=\"10.00\" fill=\"#000000\">nsubj</text>\n</g>\n<!-- x5 -->\n<g id=\"node19\" class=\"node\">\n<title>x5</title>\n<text text-anchor=\"middle\" x=\"1011\" y=\"-191.3\" font-family=\"Times,serif\" font-size=\"14.00\" fill=\"#000000\">is actually pretty simple</text>\n</g>\n<!-- x6&#45;&gt;x5 -->\n<g id=\"edge29\" class=\"edge\">\n<title>x6&#45;&gt;x5</title>\n<path fill=\"none\" stroke=\"#c0c0c0\" d=\"M952.2739,-259.9902C962.6204,-248.5401 976.1812,-233.5328 987.6646,-220.8245\"/>\n<polygon fill=\"#c0c0c0\" stroke=\"#c0c0c0\" points=\"990.3913,-223.0274 994.4989,-213.2612 985.1975,-218.3343 990.3913,-223.0274\"/>\n</g>\n<!-- x10&#45;&gt;w -->\n<g id=\"edge20\" class=\"edge\">\n<title>x10&#45;&gt;w:3</title>\n<path fill=\"none\" stroke=\"#c0c0c0\" d=\"M177.9192,-176.6538C167.299,-150.9477 149.7017,-102.2449 147.2796,-56.7548\"/>\n<polygon fill=\"#c0c0c0\" stroke=\"#c0c0c0\" points=\"150.7713,-56.4009 147,-46.5 143.7739,-56.5917 150.7713,-56.4009\"/>\n</g>\n<!-- x3 -->\n<g id=\"node16\" class=\"node\">\n<title>x3</title>\n<text text-anchor=\"middle\" x=\"216\" y=\"-108.3\" font-family=\"Times,serif\" font-size=\"14.00\" fill=\"#000000\">behind that</text>\n</g>\n<!-- x10&#45;&gt;x3 -->\n<g id=\"edge21\" class=\"edge\">\n<title>x10&#45;&gt;x3</title>\n<path fill=\"none\" stroke=\"#c0c0c0\" d=\"M192.5096,-176.9902C196.4139,-166.1883 201.4625,-152.2204 205.8782,-140.0036\"/>\n<polygon fill=\"#c0c0c0\" stroke=\"#c0c0c0\" points=\"209.2918,-140.8555 209.3996,-130.2612 202.7087,-138.476 209.2918,-140.8555\"/>\n<text text-anchor=\"middle\" x=\"215.5\" y=\"-151\" font-family=\"sans-serif\" font-size=\"10.00\" fill=\"#000000\">prep</text>\n</g>\n<!-- x3&#45;&gt;w -->\n<g id=\"edge34\" class=\"edge\">\n<title>x3&#45;&gt;w:4</title>\n<path fill=\"none\" stroke=\"#c0c0c0\" d=\"M216,-93.9289C216,-83.55 216,-70.0031 216,-56.8726\"/>\n<polygon fill=\"#c0c0c0\" stroke=\"#c0c0c0\" points=\"219.5001,-56.5 216,-46.5 212.5001,-56.5 219.5001,-56.5\"/>\n</g>\n<!-- x3&#45;&gt;w -->\n<g id=\"edge35\" class=\"edge\">\n<title>x3&#45;&gt;w:5</title>\n<path fill=\"none\" stroke=\"#c0c0c0\" d=\"M229.5172,-93.692C236.3009,-84.8057 244.8024,-74.1083 253,-65 257.6815,-59.7984 263.5019,-58.4068 267.4584,-55.6675\"/>\n<polygon fill=\"#c0c0c0\" stroke=\"#c0c0c0\" points=\"270.6971,-57.0144 272,-46.5 264.4246,-53.907 270.6971,-57.0144\"/>\n<text text-anchor=\"middle\" x=\"265.5\" y=\"-68\" font-family=\"sans-serif\" font-size=\"10.00\" fill=\"#000000\">pobj</text>\n</g>\n<!-- x7&#45;&gt;w -->\n<g id=\"edge26\" class=\"edge\">\n<title>x7&#45;&gt;w:12</title>\n<path fill=\"none\" stroke=\"#c0c0c0\" d=\"M690.098,-93.9084C681.7679,-83.9116 673.0462,-70.6575 670.0685,-56.4554\"/>\n<polygon fill=\"#c0c0c0\" stroke=\"#c0c0c0\" points=\"673.5472,-56.0694 669,-46.5 666.5872,-56.8164 673.5472,-56.0694\"/>\n</g>\n<!-- x7&#45;&gt;w -->\n<g id=\"edge27\" class=\"edge\">\n<title>x7&#45;&gt;w:13</title>\n<path fill=\"none\" stroke=\"#c0c0c0\" d=\"M717.1498,-93.8627C721.6594,-83.5991 726.5068,-70.1578 728.29,-56.7213\"/>\n<polygon fill=\"#c0c0c0\" stroke=\"#c0c0c0\" points=\"731.7986,-56.7185 729,-46.5 724.8154,-56.2334 731.7986,-56.7185\"/>\n<text text-anchor=\"middle\" x=\"741.5\" y=\"-68\" font-family=\"sans-serif\" font-size=\"10.00\" fill=\"#000000\">acomp</text>\n</g>\n<!-- x2&#45;&gt;w -->\n<g id=\"edge36\" class=\"edge\">\n<title>x2&#45;&gt;w:15</title>\n<path fill=\"none\" stroke=\"#c0c0c0\" d=\"M861.8787,-93.8057C851.4902,-84.1756 840.899,-71.3372 837.2926,-56.8092\"/>\n<polygon fill=\"#c0c0c0\" stroke=\"#c0c0c0\" points=\"840.7169,-55.9869 836,-46.5 833.7713,-56.8578 840.7169,-55.9869\"/>\n<text text-anchor=\"middle\" x=\"854.5\" y=\"-68\" font-family=\"sans-serif\" font-size=\"10.00\" fill=\"#000000\">det</text>\n</g>\n<!-- x2&#45;&gt;w -->\n<g id=\"edge37\" class=\"edge\">\n<title>x2&#45;&gt;w:16</title>\n<path fill=\"none\" stroke=\"#c0c0c0\" d=\"M890.7288,-93.7856C893.1046,-83.3731 895.6762,-69.7797 896.6229,-56.5182\"/>\n<polygon fill=\"#c0c0c0\" stroke=\"#c0c0c0\" points=\"900.1213,-56.6246 897,-46.5 893.1263,-56.3613 900.1213,-56.6246\"/>\n</g>\n<!-- x4 -->\n<g id=\"node20\" class=\"node\">\n<title>x4</title>\n<text text-anchor=\"middle\" x=\"999\" y=\"-108.3\" font-family=\"Times,serif\" font-size=\"14.00\" fill=\"#000000\">is actually</text>\n</g>\n<!-- x5&#45;&gt;x4 -->\n<g id=\"edge30\" class=\"edge\">\n<title>x5&#45;&gt;x4</title>\n<path fill=\"none\" stroke=\"#c0c0c0\" d=\"M1008.3962,-176.9902C1006.8501,-166.2963 1004.8553,-152.4994 1003.1018,-140.3706\"/>\n<polygon fill=\"#c0c0c0\" stroke=\"#c0c0c0\" points=\"1006.5352,-139.6575 1001.6402,-130.2612 999.6072,-140.6592 1006.5352,-139.6575\"/>\n</g>\n<!-- x1 -->\n<g id=\"node21\" class=\"node\">\n<title>x1</title>\n<text text-anchor=\"middle\" x=\"1100\" y=\"-108.3\" font-family=\"Times,serif\" font-size=\"14.00\" fill=\"#000000\">pretty simple</text>\n</g>\n<!-- x5&#45;&gt;x1 -->\n<g id=\"edge31\" class=\"edge\">\n<title>x5&#45;&gt;x1</title>\n<path fill=\"none\" stroke=\"#c0c0c0\" d=\"M1030.3117,-176.9902C1042.8211,-165.3241 1059.2903,-149.9652 1073.0773,-137.1077\"/>\n<polygon fill=\"#c0c0c0\" stroke=\"#c0c0c0\" points=\"1075.4925,-139.6412 1080.4187,-130.2612 1070.7183,-134.5219 1075.4925,-139.6412\"/>\n<text text-anchor=\"middle\" x=\"1075.5\" y=\"-151\" font-family=\"sans-serif\" font-size=\"10.00\" fill=\"#000000\">acomp</text>\n</g>\n<!-- x4&#45;&gt;w -->\n<g id=\"edge32\" class=\"edge\">\n<title>x4&#45;&gt;w:17</title>\n<path fill=\"none\" stroke=\"#c0c0c0\" d=\"M980.639,-93.9895C972.0953,-84.0198 963.15,-70.7751 960.0959,-56.5106\"/>\n<polygon fill=\"#c0c0c0\" stroke=\"#c0c0c0\" points=\"963.5675,-56.0597 959,-46.5 956.6091,-56.8215 963.5675,-56.0597\"/>\n</g>\n<!-- x4&#45;&gt;w -->\n<g id=\"edge33\" class=\"edge\">\n<title>x4&#45;&gt;w:18</title>\n<path fill=\"none\" stroke=\"#c0c0c0\" d=\"M1003.2583,-93.8543C1006.0646,-81.8546 1009.6207,-66.5636 1011.8539,-56.6454\"/>\n<polygon fill=\"#c0c0c0\" stroke=\"#c0c0c0\" points=\"1015.3546,-57.0079 1014,-46.5 1008.5061,-55.5591 1015.3546,-57.0079\"/>\n<text text-anchor=\"middle\" x=\"1027.5\" y=\"-68\" font-family=\"sans-serif\" font-size=\"10.00\" fill=\"#000000\">advmod</text>\n</g>\n<!-- x1&#45;&gt;w -->\n<g id=\"edge38\" class=\"edge\">\n<title>x1&#45;&gt;w:19</title>\n<path fill=\"none\" stroke=\"#c0c0c0\" d=\"M1080.8678,-93.7318C1076.502,-88.4564 1072.435,-82.3854 1070,-76 1066.7864,-67.5729 1067.5189,-62.9903 1068.2905,-56.6862\"/>\n<polygon fill=\"#c0c0c0\" stroke=\"#c0c0c0\" points=\"1071.7966,-56.7191 1069,-46.5 1064.8135,-56.2326 1071.7966,-56.7191\"/>\n<text text-anchor=\"middle\" x=\"1088.5\" y=\"-68\" font-family=\"sans-serif\" font-size=\"10.00\" fill=\"#000000\">advmod</text>\n</g>\n<!-- x1&#45;&gt;w -->\n<g id=\"edge39\" class=\"edge\">\n<title>x1&#45;&gt;w:20</title>\n<path fill=\"none\" stroke=\"#c0c0c0\" d=\"M1109.1498,-93.8627C1113.6594,-83.5991 1118.5068,-70.1578 1120.29,-56.7213\"/>\n<polygon fill=\"#c0c0c0\" stroke=\"#c0c0c0\" points=\"1123.7986,-56.7185 1121,-46.5 1116.8154,-56.2334 1123.7986,-56.7185\"/>\n</g>\n</g>\n</svg>\n"
          },
          "metadata": {},
          "execution_count": 10
        }
      ]
    }
  ]
}