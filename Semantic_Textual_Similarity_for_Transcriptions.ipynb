{
  "nbformat": 4,
  "nbformat_minor": 0,
  "metadata": {
    "colab": {
      "provenance": [],
      "authorship_tag": "ABX9TyP0UHToAcPhLtgQ3KoujCZg",
      "include_colab_link": true
    },
    "kernelspec": {
      "name": "python3",
      "display_name": "Python 3"
    },
    "language_info": {
      "name": "python"
    }
  },
  "cells": [
    {
      "cell_type": "markdown",
      "metadata": {
        "id": "view-in-github",
        "colab_type": "text"
      },
      "source": [
        "<a href=\"https://colab.research.google.com/github/sergiomar73/nlp-google-colab/blob/main/Semantic_Textual_Similarity_for_Transcriptions.ipynb\" target=\"_parent\"><img src=\"https://colab.research.google.com/assets/colab-badge.svg\" alt=\"Open In Colab\"/></a>"
      ]
    },
    {
      "cell_type": "code",
      "execution_count": null,
      "metadata": {
        "id": "tbJFwbNWv6qc"
      },
      "outputs": [],
      "source": [
        "!pip install sentence_transformers"
      ]
    },
    {
      "cell_type": "code",
      "source": [
        "from sentence_transformers import SentenceTransformer, util"
      ],
      "metadata": {
        "id": "HpIC_qBFwQPL"
      },
      "execution_count": 2,
      "outputs": []
    },
    {
      "cell_type": "code",
      "source": [
        "model = SentenceTransformer('paraphrase-distilroberta-base-v2')"
      ],
      "metadata": {
        "id": "vX3fWxFEwQ6I"
      },
      "execution_count": null,
      "outputs": []
    },
    {
      "cell_type": "code",
      "source": [
        "# Two lists of sentences\n",
        "sentences1 = [\n",
        "  'most advanced conversation intelligence and AI powered coaching platform',\n",
        "  'Oh, so the quantified platform is one of the most advanced communication intelligence in AI powered coaching systems.',\n",
        "  'Oh, so the quantified platform is one of the most advanced communication intelligence in AI powered coaching systems. And what does that really mean? So, um, communication coaching is something that is typically delivered one on one between a communication coach who has a, uh, a doctorate or a, um, background and experience in teaching people how to be better communicators and how to express themselves effectively.',  \n",
        "  'And what does that really mean? So, um, communication coaching is something that is typically delivered one on one between a communication coach who has a, uh, a doctorate or a, um, background and experience in teaching people how to be better communicators and how to express themselves effectively.',\n",
        "  'The new movie is awesome'\n",
        "]\n",
        "sentences2 = [\n",
        "  'most advanced conversation intelligence and AI powered coaching platform',\n",
        "  'most advanced conversation intelligence and AI powered coaching platform',\n",
        "  'most advanced conversation intelligence and AI powered coaching platform',\n",
        "  'most advanced conversation intelligence and AI powered coaching platform',\n",
        "  'most advanced conversation intelligence and AI powered coaching platform',\n",
        "]\n",
        "#Compute embedding for both lists\n",
        "embeddings1 = model.encode(sentences1, convert_to_tensor=True)\n",
        "embeddings2 = model.encode(sentences2, convert_to_tensor=True)\n",
        "#Compute cosine-similarities\n",
        "cosine_scores = util.cos_sim(embeddings1, embeddings2)\n",
        "#Output the pairs with their score\n",
        "#for i in range(len(sentences1)):\n",
        "#  print(\"{} \\t\\t {} \\t\\t Score: {:.4f}\".format(sentences1[i][:50], sentences2[i][:50], cosine_scores[i][i]))\n",
        "print(f\"Scores: { [ f'{cosine_scores[i][i]:.2f}' for i in range(len(sentences1)) ] }\")"
      ],
      "metadata": {
        "id": "152f9Ae8wbd5"
      },
      "execution_count": null,
      "outputs": []
    },
    {
      "cell_type": "code",
      "source": [
        "def calculate_embeddings_with_roberta(text):\n",
        "  embeddings = model.encode(text, convert_to_tensor=True)\n",
        "  return embeddings"
      ],
      "metadata": {
        "id": "z5JtlVXb0PXy"
      },
      "execution_count": 4,
      "outputs": []
    },
    {
      "cell_type": "code",
      "source": [
        "source = 'The new movie is awesome' # 'Oh, so the quantified platform is one of the most advanced communication intelligence in AI powered coaching systems.'\n",
        "target = 'most advanced conversation intelligence and AI powered coaching platform'\n",
        "embeddings_source = model.encode(source, convert_to_tensor=True)\n",
        "embeddings_target = model.encode(target, convert_to_tensor=True)\n",
        "cosine_scores = util.cos_sim(embeddings_source, embeddings_target)\n",
        "print(cosine_scores)\n",
        "print(f\"Score: { f'{cosine_scores[0][0]:.2f}' }\")"
      ],
      "metadata": {
        "colab": {
          "base_uri": "https://localhost:8080/"
        },
        "id": "YX89e21R10TM",
        "outputId": "7accdcf4-0b51-487a-8a08-3a411a45d2b7"
      },
      "execution_count": 13,
      "outputs": [
        {
          "output_type": "stream",
          "name": "stdout",
          "text": [
            "tensor([[-0.0339]])\n",
            "Score: -0.03\n"
          ]
        }
      ]
    }
  ]
}