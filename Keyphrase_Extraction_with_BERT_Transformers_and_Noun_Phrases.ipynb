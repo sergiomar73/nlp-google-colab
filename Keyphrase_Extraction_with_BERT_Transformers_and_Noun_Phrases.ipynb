{
  "nbformat": 4,
  "nbformat_minor": 0,
  "metadata": {
    "colab": {
      "provenance": [],
      "authorship_tag": "ABX9TyPmCi5l81SClRTGucJFH0So",
      "include_colab_link": true
    },
    "kernelspec": {
      "name": "python3",
      "display_name": "Python 3"
    },
    "language_info": {
      "name": "python"
    }
  },
  "cells": [
    {
      "cell_type": "markdown",
      "metadata": {
        "id": "view-in-github",
        "colab_type": "text"
      },
      "source": [
        "<a href=\"https://colab.research.google.com/github/sergiomar73/nlp-google-colab/blob/main/Keyphrase_Extraction_with_BERT_Transformers_and_Noun_Phrases.ipynb\" target=\"_parent\"><img src=\"https://colab.research.google.com/assets/colab-badge.svg\" alt=\"Open In Colab\"/></a>"
      ]
    },
    {
      "cell_type": "markdown",
      "source": [
        "Keyphrase Extraction with BERT Transformers and Noun Phrases\n",
        "\n",
        "https://towardsdatascience.com/enhancing-keybert-keyword-extraction-results-with-keyphrasevectorizers-3796fa93f4db"
      ],
      "metadata": {
        "id": "YO3mRiWABqkX"
      }
    },
    {
      "cell_type": "code",
      "execution_count": null,
      "metadata": {
        "id": "vdoOQGQXBNup"
      },
      "outputs": [],
      "source": [
        "!pip install keybert"
      ]
    },
    {
      "cell_type": "code",
      "source": [
        "!pip install keyphrase_vectorizers"
      ],
      "metadata": {
        "id": "_MdEYJQFBUu6"
      },
      "execution_count": null,
      "outputs": []
    },
    {
      "cell_type": "code",
      "source": [
        "from keybert import KeyBERT\n",
        "from keyphrase_vectorizers import KeyphraseCountVectorizer"
      ],
      "metadata": {
        "id": "TpIo8qEpBtsN"
      },
      "execution_count": 3,
      "outputs": []
    },
    {
      "cell_type": "code",
      "source": [
        "docs = [\n",
        "    \"\"\"Supervised learning is the machine learning task of learning a function that\n",
        "         maps an input to an output based on example input-output pairs. It infers a\n",
        "         function from labeled training data consisting of a set of training examples.\n",
        "         In supervised learning, each example is a pair consisting of an input object\n",
        "         (typically a vector) and a desired output value (also called the supervisory signal). \n",
        "         A supervised learning algorithm analyzes the training data and produces an inferred function, \n",
        "         which can be used for mapping new examples. An optimal scenario will allow for the \n",
        "         algorithm to correctly determine the class labels for unseen instances. This requires \n",
        "         the learning algorithm to generalize from the training data to unseen situations in a \n",
        "         'reasonable' way (see inductive bias).\"\"\", \n",
        "             \n",
        "        \"\"\"Keywords are defined as phrases that capture the main topics discussed in a document. \n",
        "        As they offer a brief yet precise summary of document content, they can be utilized for various applications. \n",
        "        In an information retrieval environment, they serve as an indication of document relevance for users, as the list \n",
        "        of keywords can quickly help to determine whether a given document is relevant to their interest. \n",
        "        As keywords reflect a document's main topics, they can be utilized to classify documents into groups \n",
        "        by measuring the overlap between the keywords assigned to them. Keywords are also used proactively \n",
        "        in information retrieval.\"\"\"\n",
        "]"
      ],
      "metadata": {
        "id": "PNXPlY_dB40X"
      },
      "execution_count": 4,
      "outputs": []
    },
    {
      "cell_type": "code",
      "source": [
        "# Init KeyBERT\n",
        "kw_model = KeyBERT()"
      ],
      "metadata": {
        "id": "cUoqgpiWB-RI"
      },
      "execution_count": null,
      "outputs": []
    },
    {
      "cell_type": "code",
      "source": [
        "kw_model.extract_keywords(docs=docs, vectorizer=KeyphraseCountVectorizer())"
      ],
      "metadata": {
        "colab": {
          "base_uri": "https://localhost:8080/"
        },
        "id": "5GQNPJTUCAQS",
        "outputId": "2b027a1b-702d-4057-a543-b58533d71b2d"
      },
      "execution_count": 6,
      "outputs": [
        {
          "output_type": "stream",
          "name": "stderr",
          "text": [
            "2022-10-02 18:49:51,626 - KeyphraseVectorizer - INFO - It looks like you do not have downloaded a list of stopwords yet. It is attempted to download the stopwords now.\n",
            "INFO:KeyphraseVectorizer:It looks like you do not have downloaded a list of stopwords yet. It is attempted to download the stopwords now.\n",
            "[nltk_data] Downloading package stopwords to /root/nltk_data...\n",
            "[nltk_data]   Unzipping corpora/stopwords.zip.\n"
          ]
        },
        {
          "output_type": "execute_result",
          "data": {
            "text/plain": [
              "[[('supervised learning algorithm', 0.6992),\n",
              "  ('supervised learning', 0.6779),\n",
              "  ('training data', 0.5271),\n",
              "  ('training examples', 0.4668),\n",
              "  ('class labels', 0.389)],\n",
              " [('document relevance', 0.633),\n",
              "  ('keywords', 0.6046),\n",
              "  ('information retrieval', 0.5792),\n",
              "  ('information retrieval environment', 0.5166),\n",
              "  ('document content', 0.3988)]]"
            ]
          },
          "metadata": {},
          "execution_count": 6
        }
      ]
    },
    {
      "cell_type": "code",
      "source": [
        "docs = [\n",
        "    \"\"\"Hello, how are you doing today? I'm here to tell you a little bit about, uh, quantified communications and the quantified platform and how it impacts organizations, who it helps and how it works. So I'll get started off by telling you just a little bit about a high level about, um, the quantified platform. Oh, so the quantified platform is one of the most advanced communication intelligence in AI powered coaching systems. And what does that really mean? So, um, communication coaching is something that is typically delivered one on one between a communication coach who has a, uh, a doctorate or a, um, background and experience in teaching people how to be better communicators and how to express themselves effectively. Um, those coaches would work one-on-one with individuals, um, maybe put their information in front of audiences and see how well they respond. And that can be a very costly process as well as a time consuming. And, um, not always backed by the science of what really drives great communication. So the quantified platform allows all of that to be automated through our AI coaching system. Um, our system empowers, um, uh, is empowered by behavioral science in order to be able to take videos into the system and be able to render exactly how a audience is going to perceive you and provide the communication feedback that you need in order to be, become a better communicator. So that helps you sell more, that helps drive better experiences and improves your external communication with your clients. So how does it work? Um, I touched on that a little bit, um, but let me kind of unpack exactly the science behind it. Um, so we started off with a, a large swath of videos of from fantastic communicators, all the people that you would idolize and wanna be like, and we took those videos and we put them in front of panelists and we scored them to see exactly how well they would perform in front of an audience. So how likable, uh, uh, was that speaker, um, how effective were they at communicating their ideas? You know, were they persuasive? Would you actually buy something from them? Did you wanna listen to them longer? Um, did you find them engaging? These things are innately human in their, um, in how communication elicits a response from us? Those are the types of things that we actually measured and built an algorithm around. So the way that the system works is it, um, uh, you are allowed to record yourself inside the application. Um, we also embed into video conferencing platforms as well. So you can invite a bot into your live meeting conversations if you wish. And we have other integration options as well, including having a role playing conversations inside the application. Um, once we have that, the system analyzes, uh, the video content for the words that you say, so your sentence structure, phrases, um, sentiment analysis, pronoun usage, ver burb tone and usage. Um, how you conduct your face, the microexpressions that you have, um, do you appear happy, calm, angry, and your gestures? Um, you know, part of being an appealing, um, conversationalist is being engaging and have people want to, <laugh> want to listen to you. And, and so all of these things all come together into really, um, defining what makes a great piece of communication. And we use that as our benchmark of how to define that inside of our platform. So when you go into the platform, you're really being measured against the best communicators, as well as our entire community of people using the quantified platforms. So you can see where you are against other, um, roles, similar to yours, other people, similar career paths, and see how you grow and, um, get better from there and to optimize your behavior. So who does it help? Um, it can help everybody, everybody can improve their lives, their personal lives, their professional lives, um, their business contacts, their ability to be able to sell and deliver products, um, through having better communications and being able to effectively deliver your message. This is fantastic for people in leadership programs who are looking to accelerate to senior executive executive positions, uh, who are looking to improve their status inside of an organization, their ability to be a leader and be inspiring, um, as well as entry level people who really want to represent their brand well, they wanna have a great impact on their external customer experience, as well as their internal ones. And this, this whole system can be tailored specifically for an organization so that we identify the key characteristics of your top sales leaders, your top performers, your top leaders, and replicate that across the rest of your organization. So it doesn't come with a one size fits all. It is very specific on thinking about the characteristics and the behavioral patterns and the communication styles of those who are already effective inside your organization and creating the patterns to duplicate that. So depending on, on your brand presence and what you value inside of your organization, that can be replicated at scale. So who's it gonna have the greatest impact on, um, those participating in customer experiences, those communicating with customers directly, um, uh, spending time with members of your team, inspiring them, providing leadership guidance, visibility into the overall vision of an organization. Um, there are so much science out there that says really effective leaders lead from great communication. Um, and we wanna remake those people remarkably better. Everybody can improve their communication and everybody deserves to be a great communicator. Um, we see growth early on in the process. So, um, as people participate in the program, they usually, uh, get about 30% better within their first six weeks to 12 weeks. So there's a huge uptick in ability to be able to become more trustworthy, authentic, credible, um, have better collective performances across your team and across your organization and have that individual growth as a team leader. Um, this is all based on evidence based research and a ton of analytics, which we're all very, very proud of. Uh, so I hope that explains our quantified platform. And I look forward to talking to you again soon. Thank you very much.\"\"\",\n",
        "    \"\"\"Hi, everybody. I'm really excited to be first here to try this out. Not only do I get to go first and be the Guinea pig, but I also know that I will be first on the leaderboard. So tell me about quantified. What is it exactly quantified is an AI powered coaching platform. We are here to make people remarkably better communicators by combining behavioral science, artificial intelligence, and experiential learning to give them the experience of what the world's best communication coach would do with them. If they were sitting with them in every single conversation they had, we know that through our intelligence insights feedback, and we can help people go from not knowing where they stand, when it comes to being how they communicate to becoming exceptional, confident, and inspirational in the way that they communicate, build relationships and succeed professionally in their career. So how does it work? Quantified works by 10, the behaviors that you do, what you do with your voice, your face, your gestures, and your words, and understanding how that an audience is going to react to that we have essentially built a audience digital twin that predicts how people are going to respond to you when you speak. And the technology behind that is really complex, but what's important is the experience is actually pretty simple. We just need a video. So we need a three minute video from you. From those three minutes, we pull out 1400 behaviors and predict audience preference, give you feedback, give you coaching, give you guidance and support your learning journey. So you can go from where you are today to being exceptional in the way that you communicate and speak. Who's helped most by quantified. Well, everybody communicates all day as part of their jobs. We actually study that 80% of your time at work is spent communicating. So who's helped most anyone that talks to customers, anyone that talks to other team members, anyone that talks to people for a living is going to be helped the most, really the more that you communicate as a critical component of your job, the more you're gonna be helped. Finally, how can quantified have the greatest impact on my organization? Well, my organization is quantified, so that's a little bit of a strange answer for me, but, you know, I think directly even what we do for our customers is really important for us, right? Have to represent that we have to represent effective communication to each other and to our clients. And so quantified becoming an exceptional communicator, supporting each other and teaching teaching what great coaching looks like is something that every organization can benefit, certainly including us. And so I'm excited to bring this knowledge and this program to our ourselves and, um, you know, I'm really excited to kick it off. Uh, thank you for allowing me to be first here and let's see how these scores come out. Bye.\"\"\",\n",
        "    \"\"\"We're sitting there with you in every one of your conversations, uh, telling you how to get better and telling you how to optimize your behavior. So who does it help? Uh, it helps everyone that is having conversations, whether you're an entry level person or the most senior executive, the most powerful group that we can help our customer facing teams, sales teams, customer service teams, customer support, and customer success teams, anyone who is talking to the customer as a core part of their day to day job, uh, words that they use, the way that they present themselves, how they come across has an impact on the performance outcomes of the organization, giving coaching to them, coaching at scale that is standardized and scientific.\"\"\"\n",
        "    ]"
      ],
      "metadata": {
        "id": "WXeRXIfbCLKc"
      },
      "execution_count": 19,
      "outputs": []
    },
    {
      "cell_type": "code",
      "source": [
        "kw_model.extract_keywords(docs=docs, vectorizer=KeyphraseCountVectorizer())"
      ],
      "metadata": {
        "colab": {
          "base_uri": "https://localhost:8080/"
        },
        "id": "Xi0y0MW3CbnV",
        "outputId": "4d51d319-5371-4888-81ac-f79b3736b659"
      },
      "execution_count": 20,
      "outputs": [
        {
          "output_type": "execute_result",
          "data": {
            "text/plain": [
              "[[('communication coaching', 0.6074),\n",
              "  ('communication coach', 0.5511),\n",
              "  ('quantified platform', 0.5425),\n",
              "  ('communicating', 0.5269),\n",
              "  ('better communicators', 0.5077)],\n",
              " [('communication coach', 0.5255),\n",
              "  ('best communication coach', 0.5159),\n",
              "  ('effective communication', 0.4726),\n",
              "  ('better communicators', 0.4554),\n",
              "  ('coaching', 0.4475)],\n",
              " [('customer success teams', 0.4826),\n",
              "  ('customer service teams', 0.4604),\n",
              "  ('coaching', 0.4464),\n",
              "  ('customer support', 0.4078),\n",
              "  ('conversations', 0.4017)]]"
            ]
          },
          "metadata": {},
          "execution_count": 20
        }
      ]
    },
    {
      "cell_type": "code",
      "source": [
        "# https://github.com/TimSchopf/KeyphraseVectorizers"
      ],
      "metadata": {
        "id": "Ml87ZSEyC5Nj"
      },
      "execution_count": null,
      "outputs": []
    },
    {
      "cell_type": "code",
      "source": [
        "# Init default vectorizer.\n",
        "vectorizer = KeyphraseCountVectorizer()"
      ],
      "metadata": {
        "id": "ZDme82U_C3qU"
      },
      "execution_count": 10,
      "outputs": []
    },
    {
      "cell_type": "code",
      "source": [
        "# After initializing the vectorizer, it can be fitted to learn the keyphrases from the text documents.\n",
        "vectorizer.fit(docs)"
      ],
      "metadata": {
        "colab": {
          "base_uri": "https://localhost:8080/"
        },
        "id": "bd2wNhgLDBoy",
        "outputId": "b8330b07-aaaf-4c0d-d937-de24c78c8c41"
      },
      "execution_count": 11,
      "outputs": [
        {
          "output_type": "execute_result",
          "data": {
            "text/plain": [
              "KeyphraseCountVectorizer()"
            ]
          },
          "metadata": {},
          "execution_count": 11
        }
      ]
    },
    {
      "cell_type": "code",
      "source": [
        "# After learning the keyphrases, they can be returned.\n",
        "keyphrases = vectorizer.get_feature_names_out()\n",
        "keyphrases"
      ],
      "metadata": {
        "colab": {
          "base_uri": "https://localhost:8080/"
        },
        "id": "YEoj0l5DDH1l",
        "outputId": "b23c317d-f3fa-4320-de22-9407a0fec026"
      },
      "execution_count": 14,
      "outputs": [
        {
          "output_type": "execute_result",
          "data": {
            "text/plain": [
              "array(['customer experiences', 'science', 'better communications',\n",
              "       'key characteristics', 'usage', 'behavioral science',\n",
              "       'entire community', 'entry level people', 'business contacts',\n",
              "       'fantastic communicators', 'microexpressions', 'great piece',\n",
              "       'scale', 'response', 'great communicator',\n",
              "       'live meeting conversations', 'top performers', 'videos',\n",
              "       'organization', 'information', 'conversationalist', 'size',\n",
              "       'sentiment analysis', 'communication coaching', 'ideas',\n",
              "       'individuals', 'front', 'algorithm', 'speaker', 'words',\n",
              "       'team leader', 'top sales leaders', 'better communicator',\n",
              "       'communication feedback', 'phrases', 'system empowers',\n",
              "       'brand presence', 'customers', 'powered coaching systems',\n",
              "       'something', 'personal lives', 'status', 'face', 'roles',\n",
              "       'better communicators', 'products', 'communication coach',\n",
              "       'experience', 'behavior', 'laugh', 'external customer experience',\n",
              "       'communication styles', 'best communicators', 'team', 'weeks',\n",
              "       'behavioral patterns', 'communication', 'ability',\n",
              "       'role playing conversations', 'ver burb tone', 'lives',\n",
              "       'large swath', 'other people', 'members', 'evidence', 'program',\n",
              "       'external communication', 'senior executive executive positions',\n",
              "       'individual growth', 'rest', 'part', 'internal ones', 'wanna',\n",
              "       'similar career paths', 'overall vision', 'better experiences',\n",
              "       'way', 'other integration options',\n",
              "       'advanced communication intelligence', 'platform',\n",
              "       'costly process', 'ton', 'video conferencing platforms',\n",
              "       'high level', 'communications', 'ai', 'much science',\n",
              "       'top leaders', 'sentence structure', 'platforms', 'process',\n",
              "       'panelists', 'bot', 'leadership programs', 'characteristics',\n",
              "       'doctorate', 'video content', 'types', 'brand', 'little bit',\n",
              "       'today', 'better collective performances', 'great impact',\n",
              "       'growth', 'leader', 'system', 'order', 'patterns', 'visibility',\n",
              "       'great communication', 'analytics', 'organizations',\n",
              "       'quantified platform', 'clients', 'whole system',\n",
              "       'professional lives', 'leadership guidance', 'audience',\n",
              "       'effective leaders', 'background', 'time', 'gestures',\n",
              "       'ai coaching system', 'huge uptick', 'research', 'benchmark',\n",
              "       'greatest impact', '%', 'message', 'coaches', 'people',\n",
              "       'pronoun usage', 'application', 'everybody', 'audiences', 'things'],\n",
              "      dtype=object)"
            ]
          },
          "metadata": {},
          "execution_count": 14
        }
      ]
    },
    {
      "cell_type": "code",
      "source": [
        "# https://maartengr.github.io/KeyBERT/guides/countvectorizer.html#usage\n",
        "\n",
        "kw_model.extract_keywords(docs, vectorizer=KeyphraseCountVectorizer(), use_mmr=True)"
      ],
      "metadata": {
        "colab": {
          "base_uri": "https://localhost:8080/"
        },
        "id": "hcSOlSBoDoFB",
        "outputId": "9d440298-399b-465e-f1e6-b7797dab966d"
      },
      "execution_count": 21,
      "outputs": [
        {
          "output_type": "execute_result",
          "data": {
            "text/plain": [
              "[[('communication coaching', 0.6074),\n",
              "  ('quantified platform', 0.5425),\n",
              "  ('advanced communication intelligence', 0.4287),\n",
              "  ('video conferencing platforms', 0.3759),\n",
              "  ('ai', 0.335)],\n",
              " [('communication coach', 0.5255),\n",
              "  ('intelligence insights', 0.3765),\n",
              "  ('experiential learning', 0.3336),\n",
              "  ('quantified', 0.3171),\n",
              "  ('leaderboard', 0.2867)],\n",
              " [('customer success teams', 0.4826),\n",
              "  ('coaching', 0.4464),\n",
              "  ('conversations', 0.4017),\n",
              "  ('senior executive', 0.3279),\n",
              "  ('powerful group', 0.25)]]"
            ]
          },
          "metadata": {},
          "execution_count": 21
        }
      ]
    }
  ]
}