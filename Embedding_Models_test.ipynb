{
  "nbformat": 4,
  "nbformat_minor": 0,
  "metadata": {
    "colab": {
      "provenance": [],
      "authorship_tag": "ABX9TyMfTIlHv9gZnqNpGSrcHSmR",
      "include_colab_link": true
    },
    "kernelspec": {
      "name": "python3",
      "display_name": "Python 3"
    },
    "language_info": {
      "name": "python"
    }
  },
  "cells": [
    {
      "cell_type": "markdown",
      "metadata": {
        "id": "view-in-github",
        "colab_type": "text"
      },
      "source": [
        "<a href=\"https://colab.research.google.com/github/sergiomar73/nlp-google-colab/blob/main/Embedding_Models_test.ipynb\" target=\"_parent\"><img src=\"https://colab.research.google.com/assets/colab-badge.svg\" alt=\"Open In Colab\"/></a>"
      ]
    },
    {
      "cell_type": "markdown",
      "source": [
        "# https://www.sbert.net/examples/applications/semantic-search/README.html#python"
      ],
      "metadata": {
        "id": "n58T136KibyV"
      }
    },
    {
      "cell_type": "code",
      "execution_count": null,
      "metadata": {
        "id": "w1pqGD6ihwmn"
      },
      "outputs": [],
      "source": [
        "!pip install sentence_transformers"
      ]
    },
    {
      "cell_type": "code",
      "source": [
        "from sentence_transformers import SentenceTransformer, util\n",
        "import torch"
      ],
      "metadata": {
        "id": "a65w8aaciDDS"
      },
      "execution_count": 2,
      "outputs": []
    },
    {
      "cell_type": "code",
      "source": [
        "embedder = SentenceTransformer('all-MiniLM-L6-v2')"
      ],
      "metadata": {
        "id": "3eGaI1_UiaSi"
      },
      "execution_count": null,
      "outputs": []
    },
    {
      "cell_type": "code",
      "source": [
        "# Corpus with example sentences\n",
        "corpus = [\n",
        "\"10:30 works for me.\",\n",
        "\"10 AM works for me.\",\n",
        "\"10 o'clock AM sounds good.\",\n",
        "\"11:30 works for me.\",\n",
        "\"11 AM works for me.\",\n",
        "\"11 o'clock AM sounds good.\",\n",
        "\"12:30 works for me.\",\n",
        "\"1:30 works for me.\",\n",
        "\"1 o'clock PM sounds good.\",\n",
        "\"1 PM works for me.\",\n",
        "\"2:30 works for me.\",\n",
        "\"2 o'clock PM sounds good.\",\n",
        "\"2 PM works for me.\",\n",
        "\"3:30 works for me.\",\n",
        "\"3 o'clock PM sounds good.\",\n",
        "\"3 PM works for me.\",\n",
        "\"4:30 works for me.\",\n",
        "\"4 o'clock PM sounds good.\",\n",
        "\"4 PM works for me.\",\n",
        "\"5 o'clock PM sounds good.\",\n",
        "\"5 PM works for me.\",\n",
        "\"9:30 works for me.\",\n",
        "\"9 AM works for me.\",\n",
        "\"9 o'clock AM sounds good.\",\n",
        "\"Monday at 10:00 a.m.\",\n",
        "\"Monday at 10:00 works for me.\",\n",
        "\"Monday at 1:00 p.m.\",\n",
        "\"Monday at 10:30 works for me.\",\n",
        "\"Monday at 11:00 a.m.\",\n",
        "\"Monday at 11:30 works for me.\",\n",
        "\"Monday at 11 works for me.\",\n",
        "\"Monday at 12:30 works for me.\",\n",
        "\"Monday at 1:30 works for me.\",\n",
        "\"Monday at 1 works for me.\",\n",
        "\"Monday at 2:00 p.m.\",\n",
        "\"Monday at 2:30 works for me.\",\n",
        "\"Monday at 2 works for me.\",\n",
        "\"Monday at 3:00 p.m.\",\n",
        "\"Monday at 3:30 works for me.\",\n",
        "\"Monday at 3 works for me.\",\n",
        "\"Monday at 4:00 p.m.\",\n",
        "\"Monday at 4:30 works for me.\",\n",
        "\"Monday at 4 works for me.\",\n",
        "\"Monday at 5:00 works for me.\",\n",
        "\"Monday at 9:00 a.m.\",\n",
        "\"Monday at 9:30 works for me.\",\n",
        "\"Monday at 9 works for me.\",\n",
        "\"Monday at noon.\",\n",
        "\"Monday at noon works for me.\",\n",
        "\"Monday works for me.\",\n",
        "]\n",
        "corpus_embeddings = embedder.encode(corpus, convert_to_tensor=True)"
      ],
      "metadata": {
        "id": "e6DLEjrTiYY3"
      },
      "execution_count": 8,
      "outputs": []
    },
    {
      "cell_type": "code",
      "source": [
        "# Query sentences:\n",
        "queries = ['02:00 on Monday works for me.', 'A cheetah chases prey on across a field.']"
      ],
      "metadata": {
        "id": "_wO8BJ1YipBM"
      },
      "execution_count": 9,
      "outputs": []
    },
    {
      "cell_type": "code",
      "source": [
        "# Find the closest 5 sentences of the corpus for each query sentence based on cosine similarity\n",
        "top_k = min(5, len(corpus))\n",
        "for query in queries:\n",
        "    query_embedding = embedder.encode(query, convert_to_tensor=True)\n",
        "    # We use cosine-similarity and torch.topk to find the highest 5 scores\n",
        "    cos_scores = util.cos_sim(query_embedding, corpus_embeddings)[0]\n",
        "    top_results = torch.topk(cos_scores, k=top_k)\n",
        "    print(\"\\n\\n======================\\n\\n\")\n",
        "    print(\"Query:\", query)\n",
        "    print(\"\\nTop 5 most similar sentences in corpus:\")\n",
        "    for score, idx in zip(top_results[0], top_results[1]):\n",
        "        print(corpus[idx], \"(Score: {:.4f})\".format(score))\n",
        "    \"\"\"\n",
        "    # Alternatively, we can also use util.semantic_search to perform cosine similarty + topk\n",
        "    hits = util.semantic_search(query_embedding, corpus_embeddings, top_k=5)\n",
        "    hits = hits[0]      #Get the hits for the first query\n",
        "    for hit in hits:\n",
        "        print(corpus[hit['corpus_id']], \"(Score: {:.4f})\".format(hit['score']))\n",
        "    \"\"\""
      ],
      "metadata": {
        "id": "yCnSX-mmiuLC",
        "outputId": "8daa0967-5a0f-42b1-9d22-33b1091c2590",
        "colab": {
          "base_uri": "https://localhost:8080/"
        }
      },
      "execution_count": 10,
      "outputs": [
        {
          "output_type": "stream",
          "name": "stdout",
          "text": [
            "\n",
            "\n",
            "======================\n",
            "\n",
            "\n",
            "Query: 02:00 on Monday works for me.\n",
            "\n",
            "Top 5 most similar sentences in corpus:\n",
            "Monday at 10:00 works for me. (Score: 0.9085)\n",
            "Monday at 5:00 works for me. (Score: 0.9076)\n",
            "Monday at 2:30 works for me. (Score: 0.8985)\n",
            "Monday at 12:30 works for me. (Score: 0.8958)\n",
            "Monday at 10:30 works for me. (Score: 0.8919)\n",
            "\n",
            "\n",
            "======================\n",
            "\n",
            "\n",
            "Query: A cheetah chases prey on across a field.\n",
            "\n",
            "Top 5 most similar sentences in corpus:\n",
            "Monday at 1 works for me. (Score: 0.0813)\n",
            "Monday at 1:00 p.m. (Score: 0.0732)\n",
            "Monday at 3 works for me. (Score: 0.0708)\n",
            "Monday at noon. (Score: 0.0691)\n",
            "Monday at 3:00 p.m. (Score: 0.0661)\n"
          ]
        }
      ]
    }
  ]
}