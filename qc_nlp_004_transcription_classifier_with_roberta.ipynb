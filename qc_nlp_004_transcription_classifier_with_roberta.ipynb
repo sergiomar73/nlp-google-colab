{
  "nbformat": 4,
  "nbformat_minor": 0,
  "metadata": {
    "colab": {
      "provenance": [],
      "authorship_tag": "ABX9TyOBGa/PzKJV6K667E8j0Vgn",
      "include_colab_link": true
    },
    "kernelspec": {
      "name": "python3",
      "display_name": "Python 3"
    },
    "language_info": {
      "name": "python"
    }
  },
  "cells": [
    {
      "cell_type": "markdown",
      "metadata": {
        "id": "view-in-github",
        "colab_type": "text"
      },
      "source": [
        "<a href=\"https://colab.research.google.com/github/sergiomar73/nlp-google-colab/blob/main/qc_nlp_004_transcription_classifier_with_roberta.ipynb\" target=\"_parent\"><img src=\"https://colab.research.google.com/assets/colab-badge.svg\" alt=\"Open In Colab\"/></a>"
      ]
    },
    {
      "cell_type": "code",
      "execution_count": null,
      "metadata": {
        "id": "w7002BmO1WY4"
      },
      "outputs": [],
      "source": [
        "!pip install sentence_transformers"
      ]
    },
    {
      "cell_type": "code",
      "source": [
        "!pip install gradio"
      ],
      "metadata": {
        "id": "zRRiJEQH1cri"
      },
      "execution_count": null,
      "outputs": []
    },
    {
      "cell_type": "code",
      "source": [
        "!pip install sentence_transformers"
      ],
      "metadata": {
        "id": "o3qc_dsm1kYc"
      },
      "execution_count": null,
      "outputs": []
    },
    {
      "cell_type": "code",
      "source": [
        "import gradio as gr\n",
        "from sentence_transformers import SentenceTransformer, util\n",
        "import numpy as np\n",
        "import pandas as pd\n",
        "import spacy\n",
        "import torch\n",
        "import plotly.express as px\n",
        "from functools import cmp_to_key"
      ],
      "metadata": {
        "id": "3CY5S3Kz15pv"
      },
      "execution_count": 5,
      "outputs": []
    },
    {
      "cell_type": "code",
      "source": [
        "model = SentenceTransformer('paraphrase-distilroberta-base-v2')"
      ],
      "metadata": {
        "id": "Zs3LvhB32JQm"
      },
      "execution_count": null,
      "outputs": []
    },
    {
      "cell_type": "code",
      "source": [
        "nlp = spacy.load(\"en_core_web_sm\")"
      ],
      "metadata": {
        "id": "pjH16IHT2Lv9"
      },
      "execution_count": 7,
      "outputs": []
    },
    {
      "cell_type": "code",
      "source": [
        "def transcript_to_sentences(transcript):\n",
        "  doc = nlp(transcript)\n",
        "  sentences = [ sentence.text for sentence in list(doc.sents) ]\n",
        "  # print(sentences[:3])\n",
        "  return sentences"
      ],
      "metadata": {
        "id": "qldSNPDC2PmU"
      },
      "execution_count": 8,
      "outputs": []
    },
    {
      "cell_type": "code",
      "source": [
        "def calculate_embeddings_with_roberta(text):\n",
        "  embeddings = model.encode(text, convert_to_tensor=True)\n",
        "  return embeddings"
      ],
      "metadata": {
        "id": "xFhBjB-32R7u"
      },
      "execution_count": 9,
      "outputs": []
    },
    {
      "cell_type": "code",
      "source": [
        "def process_categories(categories,verbose=False):\n",
        "    categories.splitlines( )\n",
        "    categories_list = [s.strip() for s in categories.splitlines() if s.strip()]\n",
        "    df_phrases = pd.DataFrame(columns=['order', 'category', 'label', 'example'])\n",
        "    for i, category in enumerate(categories_list):\n",
        "        parts = category.split('=')\n",
        "        label = parts[0]\n",
        "        for example in parts[1].split(';'):\n",
        "            new_row = { \n",
        "            'order': i + 1,\n",
        "            'category': label,\n",
        "            'label': label,\n",
        "            'example': example\n",
        "            }\n",
        "            df_phrases = df_phrases.append(new_row, ignore_index=True)\n",
        "    df_phrases[\"embeddings\"] = None\n",
        "    for i, row in df_phrases.iterrows():\n",
        "        if verbose:\n",
        "          print(f'Calculating embedding for [{ row[\"label\"] }] {row[\"example\"]}...')\n",
        "        embedding = calculate_embeddings_with_roberta(row[\"example\"])\n",
        "        df_phrases.at[i, \"embeddings\"] = embedding\n",
        "    # Split Phrases by Category\n",
        "    df_category_list = [ x for _, x in df_phrases.sort_values(['order','label'],ascending=False).groupby('label') ]\n",
        "    df_category_list.sort(key=cmp_to_key(lambda x, y: 1 if x.iloc[0,0] > y.iloc[0,0] else -1))\n",
        "    # print(f\"{len(df_category_list)} categories\")\n",
        "    return df_category_list"
      ],
      "metadata": {
        "id": "--EIHgbQ2UzU"
      },
      "execution_count": 32,
      "outputs": []
    },
    {
      "cell_type": "code",
      "source": [
        "categories = \"\"\"Hello=Hello, how are you doing today?;Hi, everybody;Hi;My name's Johnny\n",
        "What=most advanced conversation intelligence and AI powered coaching platform;a software platform that helps people reach their potential;for communicating and connecting;empowered by behavioral science;uses artificial intelligence;drives performance outcomes for customer facing teams;help them sell more;help them deliver better experiences\n",
        "How=integrated into video conference platforms;record yourself;prompts with fun and realistic experiences;That's all we need you to do;have conversations like the types you have every day;we've built technology;looks at the words that you say;what you do with your voice;your face;your gestures;simple input;create benchmarking;scoring feedback;personalized guidance;understand how you come across;relay to you how you're doing;how you can get better;coach you using artificial intelligence;as if the world's best communication coach was sitting there with you in every one of your conversations;telling you how to get better;telling you how to optimize your behavior\n",
        "Who=everyone is having conversations;if you're an entry-level person;If you’re the most senior executive;the most powerful group that we can help are customer facing teams;sales teams, customer service teams, customer support, and customer success teams;anyone who is talking to the customer as a core part of their day-to-day job;words that they use, the way that they present themselves, how they come across;has an impact on the performance outcomes of the organization;giving coaching to them;coaching them at scale that is standardized and scientific;It's hard to find time for the managers to coach;It's hard for us to give feedback;It's hard for people to feel empowered, to work on something that is personal and private in a safe space\n",
        "Impact=customer experience;communicating with the customer;spending time;spending a lot of time communicating;With other members of your team;internal communication and external communication;we want to make you remarkably better;we want to make you extraordinary at that behavior;meant to be learned along the way;No one at work can stop you for six months, 12 months, 18 months helping you become exceptional;your leadership journey;this is the most important skill right now for you;they don't have the time and they don't know how to do it;we can provide intentional guidance;deliver that on a personal basis for every single member of your organization that faces the customer;30% better at connecting with other people;measured by evidence-based research;the impact that that could have on individual performance;your individual growth as a leader;collective performance of the teams in the organization;make you be perceived as trustworthy, authentic, credible;improve how you connect\n",
        "Bye=Bye;And I look forward to talking to you again soon. Thank you very much\"\"\"\n",
        "categories_list = process_categories(categories)\n",
        "print(categories_list[0][:3])"
      ],
      "metadata": {
        "colab": {
          "base_uri": "https://localhost:8080/"
        },
        "id": "qAAqYaWH2YHO",
        "outputId": "2ef6f45b-00d3-4675-8cca-564bfdbc68b8"
      },
      "execution_count": 38,
      "outputs": [
        {
          "output_type": "stream",
          "name": "stdout",
          "text": [
            "  order category  label                          example  \\\n",
            "0     1    Hello  Hello  Hello, how are you doing today?   \n",
            "1     1    Hello  Hello                    Hi, everybody   \n",
            "2     1    Hello  Hello                               Hi   \n",
            "\n",
            "                                          embeddings  \n",
            "0  [tensor(0.4046), tensor(0.9384), tensor(0.0146...  \n",
            "1  [tensor(0.2691), tensor(0.8238), tensor(0.1047...  \n",
            "2  [tensor(0.9531), tensor(0.8997), tensor(-0.060...  \n"
          ]
        }
      ]
    },
    {
      "cell_type": "code",
      "source": [
        "def compare_text(transcript, categories, threshold):\n",
        "    # Sentences\n",
        "    sentences = transcript_to_sentences(transcript)\n",
        "    embeddings = model.encode(sentences, convert_to_tensor=True)\n",
        "    # Categories\n",
        "    df_category_list = process_categories(categories)\n",
        "    df_cosines = pd.DataFrame()\n",
        "    df_results = pd.DataFrame(columns=['line', 'sentence', 'phrase', 'category', 'similarity'])\n",
        "    # df_cosines['line'] += 1\n",
        "    for _, df_category in enumerate(df_category_list):\n",
        "        df_category.reset_index(drop=True, inplace=True)\n",
        "        phrases_list = df_category[\"embeddings\"].values.tolist()\n",
        "        phrases = torch.stack(phrases_list)\n",
        "        cosine_scores = util.cos_sim(embeddings, phrases).numpy()\n",
        "        max_scores = np.max(cosine_scores, axis=1)\n",
        "        df_cosines[df_category.iloc[0,2]] = max_scores\n",
        "        for num_sentence, scores in enumerate(cosine_scores):\n",
        "            for num_phrase, score in enumerate(scores):\n",
        "                if score >= threshold:\n",
        "                    new_row = { \n",
        "                        'line': num_sentence + 1,\n",
        "                        'sentence': sentences[num_sentence],\n",
        "                        'phrase': df_category.at[num_phrase,'example'],\n",
        "                        'category': df_category.at[num_phrase,'label'],\n",
        "                        'similarity': score\n",
        "                    }\n",
        "                    df_results = df_results.append(new_row, ignore_index=True)\n",
        "    \n",
        "    df_results = df_results.sort_values(['line','similarity'],ascending=[True,False])\n",
        "\n",
        "    df_summary = pd.DataFrame(df_cosines.max(numeric_only=True),columns=['similarity'])\n",
        "    df_summary['ok'] = np.where(df_summary['similarity'] > threshold, True, False)\n",
        "\n",
        "    fig = px.bar(\n",
        "        df_summary,\n",
        "        y='similarity',\n",
        "        color='ok',\n",
        "        color_discrete_map={ True: px.colors.qualitative.Plotly[2], False: px.colors.qualitative.Set2[7] },\n",
        "        text='similarity',\n",
        "        text_auto='.3f',\n",
        "        labels={'tag': 'Category', 'similarity': 'Similarity'},\n",
        "        title = f\"{transcript[:200]}...\"\n",
        "    )\n",
        "    fig.add_shape(\n",
        "        # add a horizontal \"target\" line\n",
        "        type=\"line\", line_color=\"salmon\", line_width=3, opacity=1, line_dash=\"dot\",\n",
        "        x0=0, x1=1, xref=\"paper\", y0=threshold, y1=threshold, yref=\"y\"\n",
        "    )\n",
        "    fig.update_traces(textfont_size=24, textangle=0, textposition=\"inside\", cliponaxis=False)\n",
        "    fig.update_yaxes(range=[0, 1])  \n",
        "\n",
        "    # details = df_results #.drop(labels='line',axis=1).sort_values(['tag','similarity'],ascending=[True,False]).groupby('tag').head(3).reset_index()    .drop(labels='index',axis=1)\n",
        "  \n",
        "    res = df_summary['similarity'].to_dict()    \n",
        "    return res, fig, df_results"
      ],
      "metadata": {
        "id": "6Gke5NAe25Mq"
      },
      "execution_count": 193,
      "outputs": []
    },
    {
      "cell_type": "code",
      "source": [
        "threshold = 0.5\n",
        "transcription = \"Hello, how are you doing today? I'm here to tell you a little bit about, uh, quantified communications and the quantified platform and how it impacts organizations, who it helps and how it works. So I'll get started off by telling you just a little bit about a high level about, um, the quantified platform. Oh, so the quantified platform is one of the most advanced communication intelligence in AI powered coaching systems.\"\n",
        "res, _, details = compare_text(transcription,categories,threshold)"
      ],
      "metadata": {
        "id": "xIVBYQ3q271P"
      },
      "execution_count": 194,
      "outputs": []
    },
    {
      "cell_type": "code",
      "source": [
        "res"
      ],
      "metadata": {
        "colab": {
          "base_uri": "https://localhost:8080/"
        },
        "id": "egFi9FJ_-L4S",
        "outputId": "e76f7584-6815-49d8-84ef-d4e7d8e23a59"
      },
      "execution_count": 195,
      "outputs": [
        {
          "output_type": "execute_result",
          "data": {
            "text/plain": [
              "{'Hello': 1.0000001192092896,\n",
              " 'What': 0.7428328990936279,\n",
              " 'How': 0.5351963043212891,\n",
              " 'Who': 0.3737223148345947,\n",
              " 'Impact': 0.3667849600315094,\n",
              " 'Bye': 0.44503074884414673}"
            ]
          },
          "metadata": {},
          "execution_count": 195
        }
      ]
    },
    {
      "cell_type": "code",
      "source": [
        "details"
      ],
      "metadata": {
        "colab": {
          "base_uri": "https://localhost:8080/",
          "height": 238
        },
        "id": "EnJ_bGOrH8p-",
        "outputId": "85835c0e-4df6-4fdb-dd55-e375e7f52a5a"
      },
      "execution_count": 196,
      "outputs": [
        {
          "output_type": "execute_result",
          "data": {
            "text/plain": [
              "  line                                           sentence  \\\n",
              "0    1                    Hello, how are you doing today?   \n",
              "1    1                    Hello, how are you doing today?   \n",
              "4    1                    Hello, how are you doing today?   \n",
              "2    4  Oh, so the quantified platform is one of the m...   \n",
              "5    4  Oh, so the quantified platform is one of the m...   \n",
              "3    4  Oh, so the quantified platform is one of the m...   \n",
              "\n",
              "                                              phrase category  similarity  \n",
              "0                    Hello, how are you doing today?    Hello    1.000000  \n",
              "1                                      Hi, everybody    Hello    0.518189  \n",
              "4                      relay to you how you're doing      How    0.517791  \n",
              "2  most advanced conversation intelligence and AI...     What    0.742833  \n",
              "5            coach you using artificial intelligence      How    0.535196  \n",
              "3                       uses artificial intelligence     What    0.518865  "
            ],
            "text/html": [
              "\n",
              "  <div id=\"df-65d8ac2a-65dd-4e60-a614-cf0865448160\">\n",
              "    <div class=\"colab-df-container\">\n",
              "      <div>\n",
              "<style scoped>\n",
              "    .dataframe tbody tr th:only-of-type {\n",
              "        vertical-align: middle;\n",
              "    }\n",
              "\n",
              "    .dataframe tbody tr th {\n",
              "        vertical-align: top;\n",
              "    }\n",
              "\n",
              "    .dataframe thead th {\n",
              "        text-align: right;\n",
              "    }\n",
              "</style>\n",
              "<table border=\"1\" class=\"dataframe\">\n",
              "  <thead>\n",
              "    <tr style=\"text-align: right;\">\n",
              "      <th></th>\n",
              "      <th>line</th>\n",
              "      <th>sentence</th>\n",
              "      <th>phrase</th>\n",
              "      <th>category</th>\n",
              "      <th>similarity</th>\n",
              "    </tr>\n",
              "  </thead>\n",
              "  <tbody>\n",
              "    <tr>\n",
              "      <th>0</th>\n",
              "      <td>1</td>\n",
              "      <td>Hello, how are you doing today?</td>\n",
              "      <td>Hello, how are you doing today?</td>\n",
              "      <td>Hello</td>\n",
              "      <td>1.000000</td>\n",
              "    </tr>\n",
              "    <tr>\n",
              "      <th>1</th>\n",
              "      <td>1</td>\n",
              "      <td>Hello, how are you doing today?</td>\n",
              "      <td>Hi, everybody</td>\n",
              "      <td>Hello</td>\n",
              "      <td>0.518189</td>\n",
              "    </tr>\n",
              "    <tr>\n",
              "      <th>4</th>\n",
              "      <td>1</td>\n",
              "      <td>Hello, how are you doing today?</td>\n",
              "      <td>relay to you how you're doing</td>\n",
              "      <td>How</td>\n",
              "      <td>0.517791</td>\n",
              "    </tr>\n",
              "    <tr>\n",
              "      <th>2</th>\n",
              "      <td>4</td>\n",
              "      <td>Oh, so the quantified platform is one of the m...</td>\n",
              "      <td>most advanced conversation intelligence and AI...</td>\n",
              "      <td>What</td>\n",
              "      <td>0.742833</td>\n",
              "    </tr>\n",
              "    <tr>\n",
              "      <th>5</th>\n",
              "      <td>4</td>\n",
              "      <td>Oh, so the quantified platform is one of the m...</td>\n",
              "      <td>coach you using artificial intelligence</td>\n",
              "      <td>How</td>\n",
              "      <td>0.535196</td>\n",
              "    </tr>\n",
              "    <tr>\n",
              "      <th>3</th>\n",
              "      <td>4</td>\n",
              "      <td>Oh, so the quantified platform is one of the m...</td>\n",
              "      <td>uses artificial intelligence</td>\n",
              "      <td>What</td>\n",
              "      <td>0.518865</td>\n",
              "    </tr>\n",
              "  </tbody>\n",
              "</table>\n",
              "</div>\n",
              "      <button class=\"colab-df-convert\" onclick=\"convertToInteractive('df-65d8ac2a-65dd-4e60-a614-cf0865448160')\"\n",
              "              title=\"Convert this dataframe to an interactive table.\"\n",
              "              style=\"display:none;\">\n",
              "        \n",
              "  <svg xmlns=\"http://www.w3.org/2000/svg\" height=\"24px\"viewBox=\"0 0 24 24\"\n",
              "       width=\"24px\">\n",
              "    <path d=\"M0 0h24v24H0V0z\" fill=\"none\"/>\n",
              "    <path d=\"M18.56 5.44l.94 2.06.94-2.06 2.06-.94-2.06-.94-.94-2.06-.94 2.06-2.06.94zm-11 1L8.5 8.5l.94-2.06 2.06-.94-2.06-.94L8.5 2.5l-.94 2.06-2.06.94zm10 10l.94 2.06.94-2.06 2.06-.94-2.06-.94-.94-2.06-.94 2.06-2.06.94z\"/><path d=\"M17.41 7.96l-1.37-1.37c-.4-.4-.92-.59-1.43-.59-.52 0-1.04.2-1.43.59L10.3 9.45l-7.72 7.72c-.78.78-.78 2.05 0 2.83L4 21.41c.39.39.9.59 1.41.59.51 0 1.02-.2 1.41-.59l7.78-7.78 2.81-2.81c.8-.78.8-2.07 0-2.86zM5.41 20L4 18.59l7.72-7.72 1.47 1.35L5.41 20z\"/>\n",
              "  </svg>\n",
              "      </button>\n",
              "      \n",
              "  <style>\n",
              "    .colab-df-container {\n",
              "      display:flex;\n",
              "      flex-wrap:wrap;\n",
              "      gap: 12px;\n",
              "    }\n",
              "\n",
              "    .colab-df-convert {\n",
              "      background-color: #E8F0FE;\n",
              "      border: none;\n",
              "      border-radius: 50%;\n",
              "      cursor: pointer;\n",
              "      display: none;\n",
              "      fill: #1967D2;\n",
              "      height: 32px;\n",
              "      padding: 0 0 0 0;\n",
              "      width: 32px;\n",
              "    }\n",
              "\n",
              "    .colab-df-convert:hover {\n",
              "      background-color: #E2EBFA;\n",
              "      box-shadow: 0px 1px 2px rgba(60, 64, 67, 0.3), 0px 1px 3px 1px rgba(60, 64, 67, 0.15);\n",
              "      fill: #174EA6;\n",
              "    }\n",
              "\n",
              "    [theme=dark] .colab-df-convert {\n",
              "      background-color: #3B4455;\n",
              "      fill: #D2E3FC;\n",
              "    }\n",
              "\n",
              "    [theme=dark] .colab-df-convert:hover {\n",
              "      background-color: #434B5C;\n",
              "      box-shadow: 0px 1px 3px 1px rgba(0, 0, 0, 0.15);\n",
              "      filter: drop-shadow(0px 1px 2px rgba(0, 0, 0, 0.3));\n",
              "      fill: #FFFFFF;\n",
              "    }\n",
              "  </style>\n",
              "\n",
              "      <script>\n",
              "        const buttonEl =\n",
              "          document.querySelector('#df-65d8ac2a-65dd-4e60-a614-cf0865448160 button.colab-df-convert');\n",
              "        buttonEl.style.display =\n",
              "          google.colab.kernel.accessAllowed ? 'block' : 'none';\n",
              "\n",
              "        async function convertToInteractive(key) {\n",
              "          const element = document.querySelector('#df-65d8ac2a-65dd-4e60-a614-cf0865448160');\n",
              "          const dataTable =\n",
              "            await google.colab.kernel.invokeFunction('convertToInteractive',\n",
              "                                                     [key], {});\n",
              "          if (!dataTable) return;\n",
              "\n",
              "          const docLinkHtml = 'Like what you see? Visit the ' +\n",
              "            '<a target=\"_blank\" href=https://colab.research.google.com/notebooks/data_table.ipynb>data table notebook</a>'\n",
              "            + ' to learn more about interactive tables.';\n",
              "          element.innerHTML = '';\n",
              "          dataTable['output_type'] = 'display_data';\n",
              "          await google.colab.output.renderOutput(dataTable, element);\n",
              "          const docLink = document.createElement('div');\n",
              "          docLink.innerHTML = docLinkHtml;\n",
              "          element.appendChild(docLink);\n",
              "        }\n",
              "      </script>\n",
              "    </div>\n",
              "  </div>\n",
              "  "
            ]
          },
          "metadata": {},
          "execution_count": 196
        }
      ]
    }
  ]
}